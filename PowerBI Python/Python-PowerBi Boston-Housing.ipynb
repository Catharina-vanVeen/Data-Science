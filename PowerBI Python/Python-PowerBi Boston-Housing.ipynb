{
 "cells": [
  {
   "cell_type": "markdown",
   "id": "continuing-hungary",
   "metadata": {},
   "source": [
    "# Import Statements"
   ]
  },
  {
   "cell_type": "code",
   "execution_count": 1,
   "id": "reasonable-serve",
   "metadata": {},
   "outputs": [],
   "source": [
    "import pandas as pd\n",
    "import numpy as np\n",
    "import matplotlib.pyplot as plt\n",
    "import seaborn as sns\n",
    "%matplotlib inline\n",
    "plt.style.use('seaborn-whitegrid')\n",
    "plt.rcParams.update({'font.size': 12})\n",
    "sns.set_style('whitegrid')"
   ]
  },
  {
   "cell_type": "markdown",
   "id": "underlying-plate",
   "metadata": {},
   "source": [
    "# Load the data"
   ]
  },
  {
   "cell_type": "code",
   "execution_count": 19,
   "id": "impressive-shoot",
   "metadata": {},
   "outputs": [],
   "source": [
    "from sklearn.datasets import load_boston\n",
    "boston = load_boston()"
   ]
  },
  {
   "cell_type": "markdown",
   "id": "ranking-bulletin",
   "metadata": {},
   "source": [
    "# Principal Component Analysis"
   ]
  },
  {
   "cell_type": "markdown",
   "id": "straight-excellence",
   "metadata": {},
   "source": [
    "#### Scale variables"
   ]
  },
  {
   "cell_type": "code",
   "execution_count": 5,
   "id": "desperate-devon",
   "metadata": {},
   "outputs": [],
   "source": [
    "from sklearn.preprocessing import StandardScaler\n",
    "sc = StandardScaler()\n",
    "X = sc.fit_transform(boston.data)"
   ]
  },
  {
   "cell_type": "markdown",
   "id": "prerequisite-virus",
   "metadata": {},
   "source": [
    "#### initiate the model by assigning the n_components parameter a value of 2, since that is the target amount of dimensions we want."
   ]
  },
  {
   "cell_type": "code",
   "execution_count": 6,
   "id": "cosmetic-mount",
   "metadata": {},
   "outputs": [],
   "source": [
    "from sklearn.decomposition import PCA\n",
    "pca = PCA(n_components=2)"
   ]
  },
  {
   "cell_type": "code",
   "execution_count": 7,
   "id": "needed-electric",
   "metadata": {},
   "outputs": [],
   "source": [
    "X_pca = pca.fit_transform(X)"
   ]
  },
  {
   "cell_type": "code",
   "execution_count": 8,
   "id": "eleven-detail",
   "metadata": {},
   "outputs": [
    {
     "data": {
      "text/plain": [
       "array([0.47129606, 0.11025193])"
      ]
     },
     "execution_count": 8,
     "metadata": {},
     "output_type": "execute_result"
    }
   ],
   "source": [
    "pca.explained_variance_ratio_"
   ]
  },
  {
   "cell_type": "markdown",
   "id": "instrumental-database",
   "metadata": {},
   "source": [
    "From the results we can conclude that:\n",
    "\n",
    "    The first principal component can explain 47% of the variance.\n",
    "    The second principal component can explain an additional 11% of the variance.\n",
    "    Cumulatively these two components explain 58% of the variance in the data.\n",
    "\n"
   ]
  },
  {
   "cell_type": "markdown",
   "id": "dress-breathing",
   "metadata": {},
   "source": [
    "# Clustering with the K-Means algorithm "
   ]
  },
  {
   "cell_type": "markdown",
   "id": "seeing-choice",
   "metadata": {},
   "source": [
    "#### Elbow Method"
   ]
  },
  {
   "cell_type": "code",
   "execution_count": 11,
   "id": "round-occasions",
   "metadata": {},
   "outputs": [
    {
     "data": {
      "image/png": "[encoded data removed]",
      "text/plain": [
       "<Figure size 576x432 with 1 Axes>"
      ]
     },
     "metadata": {},
     "output_type": "display_data"
    }
   ],
   "source": [
    "from sklearn.cluster import KMeans\n",
    "wcss = []\n",
    "for i in range(1,16):\n",
    "    kmeans = KMeans(n_clusters=i, init='k-means++', max_iter=300, n_init=10)\n",
    "    kmeans.fit(X_pca)\n",
    "    wcss.append(kmeans.inertia_)\n",
    "plt.figure(figsize=(8, 6))\n",
    "plt.plot(range(1,16), wcss)\n",
    "plt.title('The Elbow Method')\n",
    "plt.xlabel('Number of Clusters')\n",
    "plt.ylabel('Within Clustes Sum of Squares / Inertia')\n",
    "plt.show()"
   ]
  },
  {
   "cell_type": "markdown",
   "id": "metropolitan-tribute",
   "metadata": {},
   "source": [
    "From the visualization above we can see that the data converges at around 4 to 8 clusters. In this particular case we will use 5 clusters in the final model."
   ]
  },
  {
   "cell_type": "code",
   "execution_count": 10,
   "id": "moral-anxiety",
   "metadata": {},
   "outputs": [],
   "source": [
    "kmeans = KMeans(n_clusters=5, init='k-means++', max_iter=300, n_init=10)\n",
    "y_kmeans = kmeans.fit_predict(X_pca)"
   ]
  },
  {
   "cell_type": "markdown",
   "id": "female-adult",
   "metadata": {},
   "source": [
    "# Prepare the datasets"
   ]
  },
  {
   "cell_type": "markdown",
   "id": "intermediate-momentum",
   "metadata": {},
   "source": [
    "We will do this by creating two different datasets.\n",
    "\n",
    "    Dataset containing the original Boston Housing data, principal components and the cluster information.\n",
    "    Dataset containing information about the principal components.\n"
   ]
  },
  {
   "cell_type": "code",
   "execution_count": 20,
   "id": "amateur-wisdom",
   "metadata": {},
   "outputs": [
    {
     "data": {
      "text/html": [
       "<div>\n",
       "<style scoped>\n",
       "    .dataframe tbody tr th:only-of-type {\n",
       "        vertical-align: middle;\n",
       "    }\n",
       "\n",
       "    .dataframe tbody tr th {\n",
       "        vertical-align: top;\n",
       "    }\n",
       "\n",
       "    .dataframe thead th {\n",
       "        text-align: right;\n",
       "    }\n",
       "</style>\n",
       "<table border=\"1\" class=\"dataframe\">\n",
       "  <thead>\n",
       "    <tr style=\"text-align: right;\">\n",
       "      <th></th>\n",
       "      <th>CRIM</th>\n",
       "      <th>ZN</th>\n",
       "      <th>INDUS</th>\n",
       "      <th>CHAS</th>\n",
       "      <th>NOX</th>\n",
       "      <th>RM</th>\n",
       "      <th>AGE</th>\n",
       "      <th>DIS</th>\n",
       "      <th>RAD</th>\n",
       "      <th>TAX</th>\n",
       "      <th>PTRATIO</th>\n",
       "      <th>B</th>\n",
       "      <th>LSTAT</th>\n",
       "      <th>MEDV</th>\n",
       "      <th>PC 1</th>\n",
       "      <th>PC 2</th>\n",
       "      <th>Cluster</th>\n",
       "    </tr>\n",
       "  </thead>\n",
       "  <tbody>\n",
       "    <tr>\n",
       "      <th>421</th>\n",
       "      <td>7.02259</td>\n",
       "      <td>0.0</td>\n",
       "      <td>18.10</td>\n",
       "      <td>0.0</td>\n",
       "      <td>0.718</td>\n",
       "      <td>6.006</td>\n",
       "      <td>95.3</td>\n",
       "      <td>1.8746</td>\n",
       "      <td>24.0</td>\n",
       "      <td>666.0</td>\n",
       "      <td>20.2</td>\n",
       "      <td>319.98</td>\n",
       "      <td>15.70</td>\n",
       "      <td>14.2</td>\n",
       "      <td>3.154520</td>\n",
       "      <td>-0.304187</td>\n",
       "      <td>1.0</td>\n",
       "    </tr>\n",
       "    <tr>\n",
       "      <th>265</th>\n",
       "      <td>0.76162</td>\n",
       "      <td>20.0</td>\n",
       "      <td>3.97</td>\n",
       "      <td>0.0</td>\n",
       "      <td>0.647</td>\n",
       "      <td>5.560</td>\n",
       "      <td>62.8</td>\n",
       "      <td>1.9865</td>\n",
       "      <td>5.0</td>\n",
       "      <td>264.0</td>\n",
       "      <td>13.0</td>\n",
       "      <td>392.40</td>\n",
       "      <td>10.45</td>\n",
       "      <td>22.8</td>\n",
       "      <td>-1.010742</td>\n",
       "      <td>1.234893</td>\n",
       "      <td>4.0</td>\n",
       "    </tr>\n",
       "    <tr>\n",
       "      <th>196</th>\n",
       "      <td>0.04011</td>\n",
       "      <td>80.0</td>\n",
       "      <td>1.52</td>\n",
       "      <td>0.0</td>\n",
       "      <td>0.404</td>\n",
       "      <td>7.287</td>\n",
       "      <td>34.1</td>\n",
       "      <td>7.3090</td>\n",
       "      <td>2.0</td>\n",
       "      <td>329.0</td>\n",
       "      <td>12.6</td>\n",
       "      <td>396.90</td>\n",
       "      <td>4.08</td>\n",
       "      <td>33.3</td>\n",
       "      <td>-4.438902</td>\n",
       "      <td>-0.769663</td>\n",
       "      <td>2.0</td>\n",
       "    </tr>\n",
       "    <tr>\n",
       "      <th>496</th>\n",
       "      <td>0.28960</td>\n",
       "      <td>0.0</td>\n",
       "      <td>9.69</td>\n",
       "      <td>0.0</td>\n",
       "      <td>0.585</td>\n",
       "      <td>5.390</td>\n",
       "      <td>72.9</td>\n",
       "      <td>2.7986</td>\n",
       "      <td>6.0</td>\n",
       "      <td>391.0</td>\n",
       "      <td>19.2</td>\n",
       "      <td>396.90</td>\n",
       "      <td>21.14</td>\n",
       "      <td>19.7</td>\n",
       "      <td>0.669273</td>\n",
       "      <td>0.259074</td>\n",
       "      <td>4.0</td>\n",
       "    </tr>\n",
       "    <tr>\n",
       "      <th>427</th>\n",
       "      <td>37.66190</td>\n",
       "      <td>0.0</td>\n",
       "      <td>18.10</td>\n",
       "      <td>0.0</td>\n",
       "      <td>0.679</td>\n",
       "      <td>6.202</td>\n",
       "      <td>78.7</td>\n",
       "      <td>1.8629</td>\n",
       "      <td>24.0</td>\n",
       "      <td>666.0</td>\n",
       "      <td>20.2</td>\n",
       "      <td>18.82</td>\n",
       "      <td>14.52</td>\n",
       "      <td>10.9</td>\n",
       "      <td>4.316575</td>\n",
       "      <td>-2.418025</td>\n",
       "      <td>1.0</td>\n",
       "    </tr>\n",
       "  </tbody>\n",
       "</table>\n",
       "</div>"
      ],
      "text/plain": [
       "         CRIM    ZN  INDUS  CHAS    NOX     RM   AGE     DIS   RAD    TAX  \\\n",
       "421   7.02259   0.0  18.10   0.0  0.718  6.006  95.3  1.8746  24.0  666.0   \n",
       "265   0.76162  20.0   3.97   0.0  0.647  5.560  62.8  1.9865   5.0  264.0   \n",
       "196   0.04011  80.0   1.52   0.0  0.404  7.287  34.1  7.3090   2.0  329.0   \n",
       "496   0.28960   0.0   9.69   0.0  0.585  5.390  72.9  2.7986   6.0  391.0   \n",
       "427  37.66190   0.0  18.10   0.0  0.679  6.202  78.7  1.8629  24.0  666.0   \n",
       "\n",
       "     PTRATIO       B  LSTAT  MEDV      PC 1      PC 2  Cluster  \n",
       "421     20.2  319.98  15.70  14.2  3.154520 -0.304187      1.0  \n",
       "265     13.0  392.40  10.45  22.8 -1.010742  1.234893      4.0  \n",
       "196     12.6  396.90   4.08  33.3 -4.438902 -0.769663      2.0  \n",
       "496     19.2  396.90  21.14  19.7  0.669273  0.259074      4.0  \n",
       "427     20.2   18.82  14.52  10.9  4.316575 -2.418025      1.0  "
      ]
     },
     "execution_count": 20,
     "metadata": {},
     "output_type": "execute_result"
    }
   ],
   "source": [
    "columns = np.append(boston.feature_names,['MEDV','PC 1', 'PC 2', 'Cluster'])\n",
    "data = np.concatenate((boston.data, boston.target.reshape(-1,1), X_pca, y_kmeans.reshape(-1,1)), axis=1)\n",
    "df_housing = pd.DataFrame(data=data, columns=columns)\n",
    "df_housing.sample(5)"
   ]
  },
  {
   "cell_type": "code",
   "execution_count": 22,
   "id": "pleasant-blair",
   "metadata": {},
   "outputs": [
    {
     "data": {
      "text/html": [
       "<div>\n",
       "<style scoped>\n",
       "    .dataframe tbody tr th:only-of-type {\n",
       "        vertical-align: middle;\n",
       "    }\n",
       "\n",
       "    .dataframe tbody tr th {\n",
       "        vertical-align: top;\n",
       "    }\n",
       "\n",
       "    .dataframe thead th {\n",
       "        text-align: right;\n",
       "    }\n",
       "</style>\n",
       "<table border=\"1\" class=\"dataframe\">\n",
       "  <thead>\n",
       "    <tr style=\"text-align: right;\">\n",
       "      <th></th>\n",
       "      <th>CRIM</th>\n",
       "      <th>ZN</th>\n",
       "      <th>INDUS</th>\n",
       "      <th>CHAS</th>\n",
       "      <th>NOX</th>\n",
       "      <th>RM</th>\n",
       "      <th>AGE</th>\n",
       "      <th>DIS</th>\n",
       "      <th>RAD</th>\n",
       "      <th>TAX</th>\n",
       "      <th>PTRATIO</th>\n",
       "      <th>B</th>\n",
       "      <th>LSTAT</th>\n",
       "      <th>VARRATIO</th>\n",
       "    </tr>\n",
       "  </thead>\n",
       "  <tbody>\n",
       "    <tr>\n",
       "      <th>PC 1</th>\n",
       "      <td>0.250951</td>\n",
       "      <td>-0.256315</td>\n",
       "      <td>0.346672</td>\n",
       "      <td>0.005042</td>\n",
       "      <td>0.342852</td>\n",
       "      <td>-0.189243</td>\n",
       "      <td>0.313671</td>\n",
       "      <td>-0.321544</td>\n",
       "      <td>0.319793</td>\n",
       "      <td>0.338469</td>\n",
       "      <td>0.204942</td>\n",
       "      <td>-0.202973</td>\n",
       "      <td>0.309760</td>\n",
       "      <td>0.471296</td>\n",
       "    </tr>\n",
       "    <tr>\n",
       "      <th>PC 2</th>\n",
       "      <td>-0.315252</td>\n",
       "      <td>-0.323313</td>\n",
       "      <td>0.112493</td>\n",
       "      <td>0.454829</td>\n",
       "      <td>0.219116</td>\n",
       "      <td>0.149332</td>\n",
       "      <td>0.311978</td>\n",
       "      <td>-0.349070</td>\n",
       "      <td>-0.271521</td>\n",
       "      <td>-0.239453</td>\n",
       "      <td>-0.305897</td>\n",
       "      <td>0.238559</td>\n",
       "      <td>-0.074322</td>\n",
       "      <td>0.110252</td>\n",
       "    </tr>\n",
       "  </tbody>\n",
       "</table>\n",
       "</div>"
      ],
      "text/plain": [
       "          CRIM        ZN     INDUS      CHAS       NOX        RM       AGE  \\\n",
       "PC 1  0.250951 -0.256315  0.346672  0.005042  0.342852 -0.189243  0.313671   \n",
       "PC 2 -0.315252 -0.323313  0.112493  0.454829  0.219116  0.149332  0.311978   \n",
       "\n",
       "           DIS       RAD       TAX   PTRATIO         B     LSTAT  VARRATIO  \n",
       "PC 1 -0.321544  0.319793  0.338469  0.204942 -0.202973  0.309760  0.471296  \n",
       "PC 2 -0.349070 -0.271521 -0.239453 -0.305897  0.238559 -0.074322  0.110252  "
      ]
     },
     "execution_count": 22,
     "metadata": {},
     "output_type": "execute_result"
    }
   ],
   "source": [
    "columns = np.append(boston.feature_names,['VARRATIO'])\n",
    "data = np.concatenate((pca.components_, pca.explained_variance_ratio_.reshape(-1,1)), axis=1)\n",
    "df_pca = pd.DataFrame(data=data, columns=columns, index=['PC 1', 'PC 2'])\n",
    "df_pca"
   ]
  },
  {
   "cell_type": "code",
   "execution_count": null,
   "id": "stuck-stage",
   "metadata": {},
   "outputs": [],
   "source": []
  }
 ],
 "metadata": {
  "kernelspec": {
   "display_name": "Python 3",
   "language": "python",
   "name": "python3"
  },
  "language_info": {
   "codemirror_mode": {
    "name": "ipython",
    "version": 3
   },
   "file_extension": ".py",
   "mimetype": "text/x-python",
   "name": "python",
   "nbconvert_exporter": "python",
   "pygments_lexer": "ipython3",
   "version": "3.8.5"
  }
 },
 "nbformat": 4,
 "nbformat_minor": 5
}
