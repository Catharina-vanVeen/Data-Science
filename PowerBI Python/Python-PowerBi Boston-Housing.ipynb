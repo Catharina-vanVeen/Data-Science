{
 "cells": [
  {
   "cell_type": "markdown",
   "id": "naval-preliminary",
   "metadata": {},
   "source": [
    "# Import Statements"
   ]
  },
  {
   "cell_type": "code",
   "execution_count": 1,
   "id": "sufficient-chile",
   "metadata": {},
   "outputs": [],
   "source": [
    "import pandas as pd\n",
    "import numpy as np\n",
    "import matplotlib.pyplot as plt\n",
    "import seaborn as sns\n",
    "%matplotlib inline\n",
    "plt.style.use('seaborn-whitegrid')\n",
    "plt.rcParams.update({'font.size': 12})\n",
    "sns.set_style('whitegrid')"
   ]
  },
  {
   "cell_type": "markdown",
   "id": "objective-oxide",
   "metadata": {},
   "source": [
    "# Load the data"
   ]
  },
  {
   "cell_type": "code",
   "execution_count": 2,
   "id": "available-folks",
   "metadata": {},
   "outputs": [],
   "source": [
    "from sklearn.datasets import load_boston\n",
    "boston = load_boston()"
   ]
  },
  {
   "cell_type": "markdown",
   "id": "contemporary-mercury",
   "metadata": {},
   "source": [
    "# Principal Component Analysis"
   ]
  },
  {
   "cell_type": "markdown",
   "id": "direct-contrast",
   "metadata": {},
   "source": [
    "#### Scale variables"
   ]
  },
  {
   "cell_type": "code",
   "execution_count": 3,
   "id": "dutch-ambassador",
   "metadata": {},
   "outputs": [],
   "source": [
    "from sklearn.preprocessing import StandardScaler\n",
    "sc = StandardScaler()\n",
    "X = sc.fit_transform(boston.data)"
   ]
  },
  {
   "cell_type": "markdown",
   "id": "negative-duration",
   "metadata": {},
   "source": [
    "#### initiate the model by assigning the n_components parameter a value of 2, since that is the target amount of dimensions we want."
   ]
  },
  {
   "cell_type": "code",
   "execution_count": 4,
   "id": "mexican-haiti",
   "metadata": {},
   "outputs": [],
   "source": [
    "from sklearn.decomposition import PCA\n",
    "pca = PCA(n_components=2)"
   ]
  },
  {
   "cell_type": "code",
   "execution_count": 5,
   "id": "activated-disposition",
   "metadata": {},
   "outputs": [],
   "source": [
    "X_pca = pca.fit_transform(X)"
   ]
  },
  {
   "cell_type": "code",
   "execution_count": 6,
   "id": "exterior-supervisor",
   "metadata": {},
   "outputs": [
    {
     "data": {
      "text/plain": [
       "array([0.47129606, 0.11025193])"
      ]
     },
     "execution_count": 6,
     "metadata": {},
     "output_type": "execute_result"
    }
   ],
   "source": [
    "pca.explained_variance_ratio_"
   ]
  },
  {
   "cell_type": "markdown",
   "id": "paperback-resource",
   "metadata": {},
   "source": [
    "From the results we can conclude that:\n",
    "\n",
    "    The first principal component can explain 47% of the variance.\n",
    "    The second principal component can explain an additional 11% of the variance.\n",
    "    Cumulatively these two components explain 58% of the variance in the data.\n",
    "\n"
   ]
  },
  {
   "cell_type": "markdown",
   "id": "norwegian-universe",
   "metadata": {},
   "source": [
    "# Clustering with the K-Means algorithm "
   ]
  },
  {
   "cell_type": "markdown",
   "id": "vulnerable-marks",
   "metadata": {},
   "source": [
    "#### Elbow Method"
   ]
  },
  {
   "cell_type": "code",
   "execution_count": 7,
   "id": "minus-granny",
   "metadata": {},
   "outputs": [
    {
     "data": {
      "image/png": "[encoded data removed]",
      "text/plain": [
       "<Figure size 576x432 with 1 Axes>"
      ]
     },
     "metadata": {},
     "output_type": "display_data"
    }
   ],
   "source": [
    "from sklearn.cluster import KMeans\n",
    "wcss = []\n",
    "for i in range(1,16):\n",
    "    kmeans = KMeans(n_clusters=i, init='k-means++', max_iter=300, n_init=10)\n",
    "    kmeans.fit(X_pca)\n",
    "    wcss.append(kmeans.inertia_)\n",
    "plt.figure(figsize=(8, 6))\n",
    "plt.plot(range(1,16), wcss)\n",
    "plt.title('The Elbow Method')\n",
    "plt.xlabel('Number of Clusters')\n",
    "plt.ylabel('Within Clustes Sum of Squares / Inertia')\n",
    "plt.show()"
   ]
  },
  {
   "cell_type": "markdown",
   "id": "optical-precipitation",
   "metadata": {},
   "source": [
    "From the visualization above we can see that the data converges at around 4 to 8 clusters. In this particular case we will use 5 clusters in the final model."
   ]
  },
  {
   "cell_type": "code",
   "execution_count": 8,
   "id": "altered-pakistan",
   "metadata": {},
   "outputs": [],
   "source": [
    "kmeans = KMeans(n_clusters=5, init='k-means++', max_iter=300, n_init=10)\n",
    "y_kmeans = kmeans.fit_predict(X_pca)"
   ]
  },
  {
   "cell_type": "markdown",
   "id": "electoral-tiffany",
   "metadata": {},
   "source": [
    "# Prepare the datasets"
   ]
  },
  {
   "cell_type": "markdown",
   "id": "living-daisy",
   "metadata": {},
   "source": [
    "We will do this by creating two different datasets.\n",
    "\n",
    "    Dataset containing the original Boston Housing data, principal components and the cluster information.\n",
    "    Dataset containing information about the principal components.\n"
   ]
  },
  {
   "cell_type": "code",
   "execution_count": 9,
   "id": "specialized-canberra",
   "metadata": {},
   "outputs": [
    {
     "data": {
      "text/html": [
       "<div>\n",
       "<style scoped>\n",
       "    .dataframe tbody tr th:only-of-type {\n",
       "        vertical-align: middle;\n",
       "    }\n",
       "\n",
       "    .dataframe tbody tr th {\n",
       "        vertical-align: top;\n",
       "    }\n",
       "\n",
       "    .dataframe thead th {\n",
       "        text-align: right;\n",
       "    }\n",
       "</style>\n",
       "<table border=\"1\" class=\"dataframe\">\n",
       "  <thead>\n",
       "    <tr style=\"text-align: right;\">\n",
       "      <th></th>\n",
       "      <th>CRIM</th>\n",
       "      <th>ZN</th>\n",
       "      <th>INDUS</th>\n",
       "      <th>CHAS</th>\n",
       "      <th>NOX</th>\n",
       "      <th>RM</th>\n",
       "      <th>AGE</th>\n",
       "      <th>DIS</th>\n",
       "      <th>RAD</th>\n",
       "      <th>TAX</th>\n",
       "      <th>PTRATIO</th>\n",
       "      <th>B</th>\n",
       "      <th>LSTAT</th>\n",
       "      <th>MEDV</th>\n",
       "      <th>PC 1</th>\n",
       "      <th>PC 2</th>\n",
       "      <th>Cluster</th>\n",
       "    </tr>\n",
       "  </thead>\n",
       "  <tbody>\n",
       "    <tr>\n",
       "      <th>248</th>\n",
       "      <td>0.16439</td>\n",
       "      <td>22.0</td>\n",
       "      <td>5.86</td>\n",
       "      <td>0.0</td>\n",
       "      <td>0.431</td>\n",
       "      <td>6.433</td>\n",
       "      <td>49.1</td>\n",
       "      <td>7.8265</td>\n",
       "      <td>7.0</td>\n",
       "      <td>330.0</td>\n",
       "      <td>19.1</td>\n",
       "      <td>374.71</td>\n",
       "      <td>9.52</td>\n",
       "      <td>24.5</td>\n",
       "      <td>-2.091927</td>\n",
       "      <td>-1.139732</td>\n",
       "      <td>3.0</td>\n",
       "    </tr>\n",
       "    <tr>\n",
       "      <th>71</th>\n",
       "      <td>0.15876</td>\n",
       "      <td>0.0</td>\n",
       "      <td>10.81</td>\n",
       "      <td>0.0</td>\n",
       "      <td>0.413</td>\n",
       "      <td>5.961</td>\n",
       "      <td>17.5</td>\n",
       "      <td>5.2873</td>\n",
       "      <td>4.0</td>\n",
       "      <td>305.0</td>\n",
       "      <td>19.2</td>\n",
       "      <td>376.94</td>\n",
       "      <td>9.88</td>\n",
       "      <td>21.7</td>\n",
       "      <td>-1.630500</td>\n",
       "      <td>-0.699573</td>\n",
       "      <td>3.0</td>\n",
       "    </tr>\n",
       "    <tr>\n",
       "      <th>147</th>\n",
       "      <td>2.36862</td>\n",
       "      <td>0.0</td>\n",
       "      <td>19.58</td>\n",
       "      <td>0.0</td>\n",
       "      <td>0.871</td>\n",
       "      <td>4.926</td>\n",
       "      <td>95.7</td>\n",
       "      <td>1.4608</td>\n",
       "      <td>5.0</td>\n",
       "      <td>403.0</td>\n",
       "      <td>14.7</td>\n",
       "      <td>391.71</td>\n",
       "      <td>29.53</td>\n",
       "      <td>14.6</td>\n",
       "      <td>2.597987</td>\n",
       "      <td>1.812315</td>\n",
       "      <td>4.0</td>\n",
       "    </tr>\n",
       "    <tr>\n",
       "      <th>237</th>\n",
       "      <td>0.51183</td>\n",
       "      <td>0.0</td>\n",
       "      <td>6.20</td>\n",
       "      <td>0.0</td>\n",
       "      <td>0.507</td>\n",
       "      <td>7.358</td>\n",
       "      <td>71.6</td>\n",
       "      <td>4.1480</td>\n",
       "      <td>8.0</td>\n",
       "      <td>307.0</td>\n",
       "      <td>17.4</td>\n",
       "      <td>390.07</td>\n",
       "      <td>4.73</td>\n",
       "      <td>31.5</td>\n",
       "      <td>-1.446350</td>\n",
       "      <td>0.691059</td>\n",
       "      <td>3.0</td>\n",
       "    </tr>\n",
       "    <tr>\n",
       "      <th>210</th>\n",
       "      <td>0.17446</td>\n",
       "      <td>0.0</td>\n",
       "      <td>10.59</td>\n",
       "      <td>1.0</td>\n",
       "      <td>0.489</td>\n",
       "      <td>5.960</td>\n",
       "      <td>92.1</td>\n",
       "      <td>3.8771</td>\n",
       "      <td>4.0</td>\n",
       "      <td>277.0</td>\n",
       "      <td>18.6</td>\n",
       "      <td>393.25</td>\n",
       "      <td>17.27</td>\n",
       "      <td>21.7</td>\n",
       "      <td>-0.176842</td>\n",
       "      <td>2.384339</td>\n",
       "      <td>0.0</td>\n",
       "    </tr>\n",
       "  </tbody>\n",
       "</table>\n",
       "</div>"
      ],
      "text/plain": [
       "        CRIM    ZN  INDUS  CHAS    NOX     RM   AGE     DIS  RAD    TAX  \\\n",
       "248  0.16439  22.0   5.86   0.0  0.431  6.433  49.1  7.8265  7.0  330.0   \n",
       "71   0.15876   0.0  10.81   0.0  0.413  5.961  17.5  5.2873  4.0  305.0   \n",
       "147  2.36862   0.0  19.58   0.0  0.871  4.926  95.7  1.4608  5.0  403.0   \n",
       "237  0.51183   0.0   6.20   0.0  0.507  7.358  71.6  4.1480  8.0  307.0   \n",
       "210  0.17446   0.0  10.59   1.0  0.489  5.960  92.1  3.8771  4.0  277.0   \n",
       "\n",
       "     PTRATIO       B  LSTAT  MEDV      PC 1      PC 2  Cluster  \n",
       "248     19.1  374.71   9.52  24.5 -2.091927 -1.139732      3.0  \n",
       "71      19.2  376.94   9.88  21.7 -1.630500 -0.699573      3.0  \n",
       "147     14.7  391.71  29.53  14.6  2.597987  1.812315      4.0  \n",
       "237     17.4  390.07   4.73  31.5 -1.446350  0.691059      3.0  \n",
       "210     18.6  393.25  17.27  21.7 -0.176842  2.384339      0.0  "
      ]
     },
     "execution_count": 9,
     "metadata": {},
     "output_type": "execute_result"
    }
   ],
   "source": [
    "columns = np.append(boston.feature_names,['MEDV','PC 1', 'PC 2', 'Cluster'])\n",
    "data = np.concatenate((boston.data, boston.target.reshape(-1,1), X_pca, y_kmeans.reshape(-1,1)), axis=1)\n",
    "df_housing = pd.DataFrame(data=data, columns=columns)\n",
    "df_housing.sample(5)"
   ]
  },
  {
   "cell_type": "code",
   "execution_count": 10,
   "id": "intimate-penny",
   "metadata": {},
   "outputs": [
    {
     "data": {
      "text/html": [
       "<div>\n",
       "<style scoped>\n",
       "    .dataframe tbody tr th:only-of-type {\n",
       "        vertical-align: middle;\n",
       "    }\n",
       "\n",
       "    .dataframe tbody tr th {\n",
       "        vertical-align: top;\n",
       "    }\n",
       "\n",
       "    .dataframe thead th {\n",
       "        text-align: right;\n",
       "    }\n",
       "</style>\n",
       "<table border=\"1\" class=\"dataframe\">\n",
       "  <thead>\n",
       "    <tr style=\"text-align: right;\">\n",
       "      <th></th>\n",
       "      <th>CRIM</th>\n",
       "      <th>ZN</th>\n",
       "      <th>INDUS</th>\n",
       "      <th>CHAS</th>\n",
       "      <th>NOX</th>\n",
       "      <th>RM</th>\n",
       "      <th>AGE</th>\n",
       "      <th>DIS</th>\n",
       "      <th>RAD</th>\n",
       "      <th>TAX</th>\n",
       "      <th>PTRATIO</th>\n",
       "      <th>B</th>\n",
       "      <th>LSTAT</th>\n",
       "      <th>VARRATIO</th>\n",
       "    </tr>\n",
       "  </thead>\n",
       "  <tbody>\n",
       "    <tr>\n",
       "      <th>PC 1</th>\n",
       "      <td>0.250951</td>\n",
       "      <td>-0.256315</td>\n",
       "      <td>0.346672</td>\n",
       "      <td>0.005042</td>\n",
       "      <td>0.342852</td>\n",
       "      <td>-0.189243</td>\n",
       "      <td>0.313671</td>\n",
       "      <td>-0.321544</td>\n",
       "      <td>0.319793</td>\n",
       "      <td>0.338469</td>\n",
       "      <td>0.204942</td>\n",
       "      <td>-0.202973</td>\n",
       "      <td>0.309760</td>\n",
       "      <td>0.471296</td>\n",
       "    </tr>\n",
       "    <tr>\n",
       "      <th>PC 2</th>\n",
       "      <td>-0.315252</td>\n",
       "      <td>-0.323313</td>\n",
       "      <td>0.112493</td>\n",
       "      <td>0.454829</td>\n",
       "      <td>0.219116</td>\n",
       "      <td>0.149332</td>\n",
       "      <td>0.311978</td>\n",
       "      <td>-0.349070</td>\n",
       "      <td>-0.271520</td>\n",
       "      <td>-0.239454</td>\n",
       "      <td>-0.305897</td>\n",
       "      <td>0.238559</td>\n",
       "      <td>-0.074322</td>\n",
       "      <td>0.110252</td>\n",
       "    </tr>\n",
       "  </tbody>\n",
       "</table>\n",
       "</div>"
      ],
      "text/plain": [
       "          CRIM        ZN     INDUS      CHAS       NOX        RM       AGE  \\\n",
       "PC 1  0.250951 -0.256315  0.346672  0.005042  0.342852 -0.189243  0.313671   \n",
       "PC 2 -0.315252 -0.323313  0.112493  0.454829  0.219116  0.149332  0.311978   \n",
       "\n",
       "           DIS       RAD       TAX   PTRATIO         B     LSTAT  VARRATIO  \n",
       "PC 1 -0.321544  0.319793  0.338469  0.204942 -0.202973  0.309760  0.471296  \n",
       "PC 2 -0.349070 -0.271520 -0.239454 -0.305897  0.238559 -0.074322  0.110252  "
      ]
     },
     "execution_count": 10,
     "metadata": {},
     "output_type": "execute_result"
    }
   ],
   "source": [
    "columns = np.append(boston.feature_names,['VARRATIO'])\n",
    "data = np.concatenate((pca.components_, pca.explained_variance_ratio_.reshape(-1,1)), axis=1)\n",
    "df_pca = pd.DataFrame(data=data, columns=columns, index=['PC 1', 'PC 2'])\n",
    "df_pca"
   ]
  },
  {
   "cell_type": "code",
   "execution_count": 11,
   "id": "received-vacation",
   "metadata": {},
   "outputs": [],
   "source": [
    "import matplotlib.pyplot as plt\n",
    "import seaborn as sns"
   ]
  },
  {
   "cell_type": "code",
   "execution_count": 16,
   "id": "about-politics",
   "metadata": {},
   "outputs": [
    {
     "data": {
      "image/png": "[encoded data removed]",
      "text/plain": [
       "<Figure size 576x144 with 1 Axes>"
      ]
     },
     "metadata": {},
     "output_type": "display_data"
    }
   ],
   "source": [
    "df_pca.index = ['PC1', 'PC2']\n",
    "plt.figure(figsize=(8, 2))\n",
    "plt.xticks(rotation=45)\n",
    "data = df_pca.loc['PC1', :].to_frame().sort_values(by='PC1').transpose()\n",
    "sns.heatmap(data,\n",
    "            cmap='plasma',\n",
    "            square=True,\n",
    "            annot=True,\n",
    "            cbar=False,\n",
    "            yticklabels='')\n",
    "plt.show()"
   ]
  },
  {
   "cell_type": "code",
   "execution_count": null,
   "id": "joint-tattoo",
   "metadata": {},
   "outputs": [],
   "source": []
  }
 ],
 "metadata": {
  "kernelspec": {
   "display_name": "Python 3",
   "language": "python",
   "name": "python3"
  },
  "language_info": {
   "codemirror_mode": {
    "name": "ipython",
    "version": 3
   },
   "file_extension": ".py",
   "mimetype": "text/x-python",
   "name": "python",
   "nbconvert_exporter": "python",
   "pygments_lexer": "ipython3",
   "version": "3.8.5"
  }
 },
 "nbformat": 4,
 "nbformat_minor": 5
}
