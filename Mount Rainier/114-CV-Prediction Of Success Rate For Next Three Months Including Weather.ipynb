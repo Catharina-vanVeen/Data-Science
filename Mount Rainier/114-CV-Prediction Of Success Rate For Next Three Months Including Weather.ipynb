{
 "cells": [
  {
   "cell_type": "markdown",
   "id": "adaptive-monitoring",
   "metadata": {},
   "source": [
    "# Imports"
   ]
  },
  {
   "cell_type": "code",
   "execution_count": 1,
   "id": "emotional-absorption",
   "metadata": {},
   "outputs": [],
   "source": [
    "import pandas as pd\n",
    "import numpy as np\n",
    "import matplotlib as mpl\n",
    "from matplotlib import pyplot as plt\n",
    "import matplotlib.patches as mpatches\n",
    "import scipy.stats as sp\n",
    "import seaborn as sns\n",
    "from statsmodels.tsa.seasonal import seasonal_decompose\n",
    "\n",
    "from statsmodels.tsa.stattools import adfuller, kpss\n",
    "\n",
    "from sklearn import linear_model\n",
    "from sklearn import metrics\n",
    "from sklearn.metrics import r2_score\n",
    "from sklearn.model_selection import train_test_split\n",
    "\n",
    "from scipy import signal"
   ]
  },
  {
   "cell_type": "markdown",
   "id": "powered-reach",
   "metadata": {},
   "source": [
    "# * * * * * * * * * * * * * * * * * *\n",
    "#   CLIMBING STATISTICS\n",
    "# * * * * * * * * * * * * * * * * * *"
   ]
  },
  {
   "cell_type": "markdown",
   "id": "adaptive-voltage",
   "metadata": {},
   "source": [
    "# Load Data"
   ]
  },
  {
   "cell_type": "code",
   "execution_count": 2,
   "id": "grand-steel",
   "metadata": {},
   "outputs": [
    {
     "data": {
      "text/html": [
       "<div>\n",
       "<style scoped>\n",
       "    .dataframe tbody tr th:only-of-type {\n",
       "        vertical-align: middle;\n",
       "    }\n",
       "\n",
       "    .dataframe tbody tr th {\n",
       "        vertical-align: top;\n",
       "    }\n",
       "\n",
       "    .dataframe thead th {\n",
       "        text-align: right;\n",
       "    }\n",
       "</style>\n",
       "<table border=\"1\" class=\"dataframe\">\n",
       "  <thead>\n",
       "    <tr style=\"text-align: right;\">\n",
       "      <th></th>\n",
       "      <th>Date</th>\n",
       "      <th>Route</th>\n",
       "      <th>Attempted</th>\n",
       "      <th>Succeeded</th>\n",
       "      <th>Success Percentage</th>\n",
       "    </tr>\n",
       "  </thead>\n",
       "  <tbody>\n",
       "    <tr>\n",
       "      <th>0</th>\n",
       "      <td>11/27/2015</td>\n",
       "      <td>Disappointment Cleaver</td>\n",
       "      <td>2</td>\n",
       "      <td>0</td>\n",
       "      <td>0.0</td>\n",
       "    </tr>\n",
       "    <tr>\n",
       "      <th>1</th>\n",
       "      <td>11/21/2015</td>\n",
       "      <td>Disappointment Cleaver</td>\n",
       "      <td>3</td>\n",
       "      <td>0</td>\n",
       "      <td>0.0</td>\n",
       "    </tr>\n",
       "    <tr>\n",
       "      <th>2</th>\n",
       "      <td>10/15/2015</td>\n",
       "      <td>Disappointment Cleaver</td>\n",
       "      <td>2</td>\n",
       "      <td>0</td>\n",
       "      <td>0.0</td>\n",
       "    </tr>\n",
       "    <tr>\n",
       "      <th>3</th>\n",
       "      <td>10/13/2015</td>\n",
       "      <td>Little Tahoma</td>\n",
       "      <td>8</td>\n",
       "      <td>0</td>\n",
       "      <td>0.0</td>\n",
       "    </tr>\n",
       "    <tr>\n",
       "      <th>4</th>\n",
       "      <td>10/9/2015</td>\n",
       "      <td>Disappointment Cleaver</td>\n",
       "      <td>2</td>\n",
       "      <td>0</td>\n",
       "      <td>0.0</td>\n",
       "    </tr>\n",
       "  </tbody>\n",
       "</table>\n",
       "</div>"
      ],
      "text/plain": [
       "         Date                   Route  Attempted  Succeeded  \\\n",
       "0  11/27/2015  Disappointment Cleaver          2          0   \n",
       "1  11/21/2015  Disappointment Cleaver          3          0   \n",
       "2  10/15/2015  Disappointment Cleaver          2          0   \n",
       "3  10/13/2015           Little Tahoma          8          0   \n",
       "4   10/9/2015  Disappointment Cleaver          2          0   \n",
       "\n",
       "   Success Percentage  \n",
       "0                 0.0  \n",
       "1                 0.0  \n",
       "2                 0.0  \n",
       "3                 0.0  \n",
       "4                 0.0  "
      ]
     },
     "execution_count": 2,
     "metadata": {},
     "output_type": "execute_result"
    }
   ],
   "source": [
    "climb_data = pd.read_csv(\"climbing_statistics.csv\")\n",
    "climb_data.head()"
   ]
  },
  {
   "cell_type": "markdown",
   "id": "numerous-demand",
   "metadata": {},
   "source": [
    "# Data Exploration Climbing Statistics"
   ]
  },
  {
   "cell_type": "code",
   "execution_count": 3,
   "id": "numeric-bernard",
   "metadata": {},
   "outputs": [
    {
     "data": {
      "text/plain": [
       "Date                   object\n",
       "Route                  object\n",
       "Attempted               int64\n",
       "Succeeded               int64\n",
       "Success Percentage    float64\n",
       "dtype: object"
      ]
     },
     "execution_count": 3,
     "metadata": {},
     "output_type": "execute_result"
    }
   ],
   "source": [
    "climb_data.dtypes"
   ]
  },
  {
   "cell_type": "code",
   "execution_count": 4,
   "id": "center-version",
   "metadata": {},
   "outputs": [
    {
     "data": {
      "text/plain": [
       "False"
      ]
     },
     "execution_count": 4,
     "metadata": {},
     "output_type": "execute_result"
    }
   ],
   "source": [
    "climb_data.isnull().values.any()"
   ]
  },
  {
   "cell_type": "code",
   "execution_count": 5,
   "id": "hundred-tongue",
   "metadata": {},
   "outputs": [
    {
     "data": {
      "text/plain": [
       "(4077, 5)"
      ]
     },
     "execution_count": 5,
     "metadata": {},
     "output_type": "execute_result"
    }
   ],
   "source": [
    "climb_data.shape"
   ]
  },
  {
   "cell_type": "markdown",
   "id": "modular-joshua",
   "metadata": {},
   "source": [
    "The date is listed as an object datatype, but it will need to be converted to a datetime type for analysis."
   ]
  },
  {
   "cell_type": "code",
   "execution_count": 6,
   "id": "competent-model",
   "metadata": {},
   "outputs": [
    {
     "data": {
      "text/plain": [
       "Date                  datetime64[ns]\n",
       "Route                         object\n",
       "Attempted                      int64\n",
       "Succeeded                      int64\n",
       "Success Percentage           float64\n",
       "dtype: object"
      ]
     },
     "execution_count": 6,
     "metadata": {},
     "output_type": "execute_result"
    }
   ],
   "source": [
    "climb_data['Date'] = pd.to_datetime(climb_data['Date'])\n",
    "climb_data.dtypes"
   ]
  },
  {
   "cell_type": "code",
   "execution_count": 7,
   "id": "multiple-lyric",
   "metadata": {},
   "outputs": [
    {
     "data": {
      "text/plain": [
       "(Timestamp('2014-01-04 00:00:00'), Timestamp('2015-11-27 00:00:00'))"
      ]
     },
     "execution_count": 7,
     "metadata": {},
     "output_type": "execute_result"
    }
   ],
   "source": [
    "climb_data['Date'].min(), climb_data['Date'].max()\n",
    "#Start and end of date range"
   ]
  },
  {
   "cell_type": "code",
   "execution_count": 8,
   "id": "former-explanation",
   "metadata": {},
   "outputs": [
    {
     "data": {
      "text/plain": [
       "693"
      ]
     },
     "execution_count": 8,
     "metadata": {},
     "output_type": "execute_result"
    }
   ],
   "source": [
    "(climb_data['Date'].max() - climb_data['Date'].min()).days +1\n",
    "# Number of days in data range"
   ]
  },
  {
   "cell_type": "code",
   "execution_count": 9,
   "id": "ethical-centre",
   "metadata": {},
   "outputs": [
    {
     "data": {
      "text/plain": [
       "391"
      ]
     },
     "execution_count": 9,
     "metadata": {},
     "output_type": "execute_result"
    }
   ],
   "source": [
    "climb_data['Date'].nunique()"
   ]
  },
  {
   "cell_type": "code",
   "execution_count": 10,
   "id": "olympic-headline",
   "metadata": {},
   "outputs": [
    {
     "data": {
      "text/plain": [
       "26"
      ]
     },
     "execution_count": 10,
     "metadata": {},
     "output_type": "execute_result"
    }
   ],
   "source": [
    "climb_data['Route'].nunique()"
   ]
  },
  {
   "cell_type": "code",
   "execution_count": 11,
   "id": "functional-commodity",
   "metadata": {},
   "outputs": [
    {
     "data": {
      "text/plain": [
       "['Curtis RIngraham Directge',\n",
       " 'Disappointment Cleaver',\n",
       " 'Edmonds HW',\n",
       " 'Emmons-Winthrop',\n",
       " \"Fuhrer's Finger\",\n",
       " 'Fuhrers Finger',\n",
       " 'Gibralter Chute',\n",
       " 'Gibralter Ledges',\n",
       " 'Ingraham Direct',\n",
       " 'Kautz Cleaver',\n",
       " 'Kautz Glacier',\n",
       " 'Kautz Headwall',\n",
       " 'Liberty RIngraham Directge',\n",
       " 'Liberty Wall',\n",
       " 'Little Tahoma',\n",
       " 'Mowich Face',\n",
       " 'Nisqually Glacier',\n",
       " 'Ptarmigan RIngraham Directge',\n",
       " 'Success Cleaver',\n",
       " 'Sunset Amphitheater',\n",
       " 'Sunset RIngraham Directge',\n",
       " 'Tahoma Cleaver',\n",
       " 'Tahoma Glacier',\n",
       " 'Unknown',\n",
       " 'Wilson Headwall',\n",
       " 'glacier only - no summit attempt']"
      ]
     },
     "execution_count": 11,
     "metadata": {},
     "output_type": "execute_result"
    }
   ],
   "source": [
    "sorted(climb_data['Route'].unique())"
   ]
  },
  {
   "cell_type": "markdown",
   "id": "ranking-tournament",
   "metadata": {},
   "source": [
    "'Fuhrer's Finger' and 'Fuhrers Finger' refer to the same route, 'Fuhrer Finger'. Other duplicate sounding names refer to different routes.\n",
    "\n",
    "Note: 'Unknown' and 'glacier only - no summit attempt'. These may skew data."
   ]
  },
  {
   "cell_type": "code",
   "execution_count": 12,
   "id": "rough-tonight",
   "metadata": {},
   "outputs": [],
   "source": [
    "climb_data.loc[(climb_data.Route == 'Fuhrers Finger'), 'Route'] = 'Fuhrer Finger'\n",
    "climb_data.loc[(climb_data.Route == \"Fuhrer's Finger\"), 'Route'] = 'Fuhrer Finger'"
   ]
  },
  {
   "cell_type": "code",
   "execution_count": 13,
   "id": "interstate-district",
   "metadata": {},
   "outputs": [
    {
     "data": {
      "text/plain": [
       "Disappointment Cleaver              2728\n",
       "Emmons-Winthrop                      632\n",
       "Kautz Glacier                        182\n",
       "Fuhrer Finger                         92\n",
       "Gibralter Ledges                      76\n",
       "Little Tahoma                         70\n",
       "Liberty RIngraham Directge            69\n",
       "glacier only - no summit attempt      66\n",
       "Ingraham Direct                       53\n",
       "Unknown                               32\n",
       "Ptarmigan RIngraham Directge          22\n",
       "Kautz Cleaver                         14\n",
       "Tahoma Glacier                        11\n",
       "Success Cleaver                        6\n",
       "Gibralter Chute                        5\n",
       "Mowich Face                            4\n",
       "Sunset RIngraham Directge              3\n",
       "Nisqually Glacier                      2\n",
       "Wilson Headwall                        2\n",
       "Edmonds HW                             2\n",
       "Curtis RIngraham Directge              2\n",
       "Kautz Headwall                         1\n",
       "Sunset Amphitheater                    1\n",
       "Liberty Wall                           1\n",
       "Tahoma Cleaver                         1\n",
       "Name: Route, dtype: int64"
      ]
     },
     "execution_count": 13,
     "metadata": {},
     "output_type": "execute_result"
    }
   ],
   "source": [
    "climb_data.Route.value_counts()\n",
    "# Disappointment Cleaver by far the most popular going by number of parties."
   ]
  },
  {
   "cell_type": "code",
   "execution_count": 14,
   "id": "several-joshua",
   "metadata": {},
   "outputs": [
    {
     "data": {
      "text/plain": [
       "Text(0.5, 1.0, 'Number of Parties per Route')"
      ]
     },
     "execution_count": 14,
     "metadata": {},
     "output_type": "execute_result"
    },
    {
     "data": {
      "image/png": "[encoded data removed]",
      "text/plain": [
       "<Figure size 1080x432 with 1 Axes>"
      ]
     },
     "metadata": {
      "needs_background": "light"
     },
     "output_type": "display_data"
    }
   ],
   "source": [
    "climb_data.Route.value_counts().plot(kind='bar', figsize=(15,6))\n",
    "plt.ylabel('Number of Parties')\n",
    "plt.xlabel('Route')\n",
    "plt.title('Number of Parties per Route')"
   ]
  },
  {
   "cell_type": "code",
   "execution_count": 15,
   "id": "talented-hebrew",
   "metadata": {},
   "outputs": [
    {
     "data": {
      "text/html": [
       "<div>\n",
       "<style scoped>\n",
       "    .dataframe tbody tr th:only-of-type {\n",
       "        vertical-align: middle;\n",
       "    }\n",
       "\n",
       "    .dataframe tbody tr th {\n",
       "        vertical-align: top;\n",
       "    }\n",
       "\n",
       "    .dataframe thead th {\n",
       "        text-align: right;\n",
       "    }\n",
       "</style>\n",
       "<table border=\"1\" class=\"dataframe\">\n",
       "  <thead>\n",
       "    <tr style=\"text-align: right;\">\n",
       "      <th></th>\n",
       "      <th>Date</th>\n",
       "      <th>Route</th>\n",
       "      <th>Attempted</th>\n",
       "      <th>Succeeded</th>\n",
       "      <th>Success Percentage</th>\n",
       "    </tr>\n",
       "  </thead>\n",
       "  <tbody>\n",
       "    <tr>\n",
       "      <th>0</th>\n",
       "      <td>2015-11-27</td>\n",
       "      <td>Disappointment Cleaver</td>\n",
       "      <td>2</td>\n",
       "      <td>0</td>\n",
       "      <td>0.0</td>\n",
       "    </tr>\n",
       "    <tr>\n",
       "      <th>1</th>\n",
       "      <td>2015-11-21</td>\n",
       "      <td>Disappointment Cleaver</td>\n",
       "      <td>3</td>\n",
       "      <td>0</td>\n",
       "      <td>0.0</td>\n",
       "    </tr>\n",
       "    <tr>\n",
       "      <th>2</th>\n",
       "      <td>2015-10-15</td>\n",
       "      <td>Disappointment Cleaver</td>\n",
       "      <td>2</td>\n",
       "      <td>0</td>\n",
       "      <td>0.0</td>\n",
       "    </tr>\n",
       "    <tr>\n",
       "      <th>3</th>\n",
       "      <td>2015-10-13</td>\n",
       "      <td>Little Tahoma</td>\n",
       "      <td>8</td>\n",
       "      <td>0</td>\n",
       "      <td>0.0</td>\n",
       "    </tr>\n",
       "    <tr>\n",
       "      <th>4</th>\n",
       "      <td>2015-10-09</td>\n",
       "      <td>Disappointment Cleaver</td>\n",
       "      <td>2</td>\n",
       "      <td>0</td>\n",
       "      <td>0.0</td>\n",
       "    </tr>\n",
       "  </tbody>\n",
       "</table>\n",
       "</div>"
      ],
      "text/plain": [
       "        Date                   Route  Attempted  Succeeded  Success Percentage\n",
       "0 2015-11-27  Disappointment Cleaver          2          0                 0.0\n",
       "1 2015-11-21  Disappointment Cleaver          3          0                 0.0\n",
       "2 2015-10-15  Disappointment Cleaver          2          0                 0.0\n",
       "3 2015-10-13           Little Tahoma          8          0                 0.0\n",
       "4 2015-10-09  Disappointment Cleaver          2          0                 0.0"
      ]
     },
     "execution_count": 15,
     "metadata": {},
     "output_type": "execute_result"
    }
   ],
   "source": [
    "climb_data.head()"
   ]
  },
  {
   "cell_type": "code",
   "execution_count": 16,
   "id": "eligible-luther",
   "metadata": {},
   "outputs": [
    {
     "data": {
      "text/html": [
       "<div>\n",
       "<style scoped>\n",
       "    .dataframe tbody tr th:only-of-type {\n",
       "        vertical-align: middle;\n",
       "    }\n",
       "\n",
       "    .dataframe tbody tr th {\n",
       "        vertical-align: top;\n",
       "    }\n",
       "\n",
       "    .dataframe thead th {\n",
       "        text-align: right;\n",
       "    }\n",
       "</style>\n",
       "<table border=\"1\" class=\"dataframe\">\n",
       "  <thead>\n",
       "    <tr style=\"text-align: right;\">\n",
       "      <th></th>\n",
       "      <th>Date</th>\n",
       "      <th>Route</th>\n",
       "      <th>Failed</th>\n",
       "      <th>Succeeded</th>\n",
       "      <th>Success Percentage</th>\n",
       "    </tr>\n",
       "  </thead>\n",
       "  <tbody>\n",
       "    <tr>\n",
       "      <th>0</th>\n",
       "      <td>2015-11-27</td>\n",
       "      <td>Disappointment Cleaver</td>\n",
       "      <td>2</td>\n",
       "      <td>0</td>\n",
       "      <td>0.0</td>\n",
       "    </tr>\n",
       "    <tr>\n",
       "      <th>1</th>\n",
       "      <td>2015-11-21</td>\n",
       "      <td>Disappointment Cleaver</td>\n",
       "      <td>3</td>\n",
       "      <td>0</td>\n",
       "      <td>0.0</td>\n",
       "    </tr>\n",
       "    <tr>\n",
       "      <th>2</th>\n",
       "      <td>2015-10-15</td>\n",
       "      <td>Disappointment Cleaver</td>\n",
       "      <td>2</td>\n",
       "      <td>0</td>\n",
       "      <td>0.0</td>\n",
       "    </tr>\n",
       "    <tr>\n",
       "      <th>3</th>\n",
       "      <td>2015-10-13</td>\n",
       "      <td>Little Tahoma</td>\n",
       "      <td>8</td>\n",
       "      <td>0</td>\n",
       "      <td>0.0</td>\n",
       "    </tr>\n",
       "    <tr>\n",
       "      <th>4</th>\n",
       "      <td>2015-10-09</td>\n",
       "      <td>Disappointment Cleaver</td>\n",
       "      <td>2</td>\n",
       "      <td>0</td>\n",
       "      <td>0.0</td>\n",
       "    </tr>\n",
       "  </tbody>\n",
       "</table>\n",
       "</div>"
      ],
      "text/plain": [
       "        Date                   Route  Failed  Succeeded  Success Percentage\n",
       "0 2015-11-27  Disappointment Cleaver       2          0                 0.0\n",
       "1 2015-11-21  Disappointment Cleaver       3          0                 0.0\n",
       "2 2015-10-15  Disappointment Cleaver       2          0                 0.0\n",
       "3 2015-10-13           Little Tahoma       8          0                 0.0\n",
       "4 2015-10-09  Disappointment Cleaver       2          0                 0.0"
      ]
     },
     "execution_count": 16,
     "metadata": {},
     "output_type": "execute_result"
    }
   ],
   "source": [
    "climb_data.rename(columns={'Attempted': 'Failed'}, inplace=True)\n",
    "climb_data.head()"
   ]
  },
  {
   "cell_type": "code",
   "execution_count": 17,
   "id": "critical-confidence",
   "metadata": {},
   "outputs": [
    {
     "data": {
      "text/plain": [
       "(1, 26)"
      ]
     },
     "execution_count": 17,
     "metadata": {},
     "output_type": "execute_result"
    }
   ],
   "source": [
    "climb_data['Failed'].min(), climb_data['Failed'].max()\n",
    "#Range of Failed"
   ]
  },
  {
   "cell_type": "code",
   "execution_count": 18,
   "id": "former-liberty",
   "metadata": {},
   "outputs": [
    {
     "data": {
      "text/plain": [
       "(0, 71)"
      ]
     },
     "execution_count": 18,
     "metadata": {},
     "output_type": "execute_result"
    }
   ],
   "source": [
    "climb_data['Succeeded'].min(), climb_data['Succeeded'].max()\n",
    "#Range of Succeeded"
   ]
  },
  {
   "cell_type": "code",
   "execution_count": 19,
   "id": "unusual-playlist",
   "metadata": {},
   "outputs": [],
   "source": [
    "climb_data['Attempted'] = climb_data['Failed'] + climb_data['Succeeded']"
   ]
  },
  {
   "cell_type": "code",
   "execution_count": 20,
   "id": "civilian-archive",
   "metadata": {},
   "outputs": [
    {
     "data": {
      "text/plain": [
       "(1, 76)"
      ]
     },
     "execution_count": 20,
     "metadata": {},
     "output_type": "execute_result"
    }
   ],
   "source": [
    "climb_data['Attempted'].min(), climb_data['Attempted'].max()\n",
    "#Range of Attempted"
   ]
  },
  {
   "cell_type": "markdown",
   "id": "unlimited-worst",
   "metadata": {},
   "source": [
    "#### Check what the values in Success Percentage represent"
   ]
  },
  {
   "cell_type": "code",
   "execution_count": 21,
   "id": "impossible-bunny",
   "metadata": {},
   "outputs": [],
   "source": [
    "climb_data['Temp'] = climb_data['Succeeded']/climb_data['Failed'] - climb_data['Success Percentage']"
   ]
  },
  {
   "cell_type": "code",
   "execution_count": 22,
   "id": "ceramic-dryer",
   "metadata": {},
   "outputs": [
    {
     "data": {
      "text/plain": [
       "(-4.5454545682943603e-10, 4.545454013182848e-10)"
      ]
     },
     "execution_count": 22,
     "metadata": {},
     "output_type": "execute_result"
    }
   ],
   "source": [
    "climb_data['Temp'].min(), climb_data['Temp'].max()\n",
    "#Range of Temp"
   ]
  },
  {
   "cell_type": "code",
   "execution_count": 23,
   "id": "directed-pressing",
   "metadata": {},
   "outputs": [],
   "source": [
    "climb_data = climb_data.drop('Temp', 1)\n",
    "climb_data = climb_data.drop('Success Percentage', 1)\n"
   ]
  },
  {
   "cell_type": "markdown",
   "id": "liked-inspector",
   "metadata": {},
   "source": [
    "#### Calculate Success Rate"
   ]
  },
  {
   "cell_type": "code",
   "execution_count": 24,
   "id": "adjusted-remedy",
   "metadata": {},
   "outputs": [],
   "source": [
    "# The column 'SuccessRate' has been calculated wrongly, since if gives the ratio between succeeded and failed attempts, not the percentage of succeeded attempts.\n",
    "climb_data['SuccessRate'] = climb_data['Succeeded']/climb_data['Attempted']"
   ]
  },
  {
   "cell_type": "code",
   "execution_count": 25,
   "id": "assumed-moses",
   "metadata": {},
   "outputs": [
    {
     "data": {
      "text/plain": [
       "(0.0, 0.9342105263157895)"
      ]
     },
     "execution_count": 25,
     "metadata": {},
     "output_type": "execute_result"
    }
   ],
   "source": [
    "climb_data['SuccessRate'].min(), climb_data['SuccessRate'].max()\n",
    "#Range of SuccessRate"
   ]
  },
  {
   "cell_type": "code",
   "execution_count": 26,
   "id": "changing-tunnel",
   "metadata": {},
   "outputs": [
    {
     "data": {
      "text/html": [
       "<div>\n",
       "<style scoped>\n",
       "    .dataframe tbody tr th:only-of-type {\n",
       "        vertical-align: middle;\n",
       "    }\n",
       "\n",
       "    .dataframe tbody tr th {\n",
       "        vertical-align: top;\n",
       "    }\n",
       "\n",
       "    .dataframe thead th {\n",
       "        text-align: right;\n",
       "    }\n",
       "</style>\n",
       "<table border=\"1\" class=\"dataframe\">\n",
       "  <thead>\n",
       "    <tr style=\"text-align: right;\">\n",
       "      <th></th>\n",
       "      <th>Date</th>\n",
       "      <th>Route</th>\n",
       "      <th>Failed</th>\n",
       "      <th>Succeeded</th>\n",
       "      <th>Attempted</th>\n",
       "      <th>SuccessRate</th>\n",
       "    </tr>\n",
       "  </thead>\n",
       "  <tbody>\n",
       "    <tr>\n",
       "      <th>0</th>\n",
       "      <td>2015-11-27</td>\n",
       "      <td>Disappointment Cleaver</td>\n",
       "      <td>2</td>\n",
       "      <td>0</td>\n",
       "      <td>2</td>\n",
       "      <td>0.0</td>\n",
       "    </tr>\n",
       "    <tr>\n",
       "      <th>1</th>\n",
       "      <td>2015-11-21</td>\n",
       "      <td>Disappointment Cleaver</td>\n",
       "      <td>3</td>\n",
       "      <td>0</td>\n",
       "      <td>3</td>\n",
       "      <td>0.0</td>\n",
       "    </tr>\n",
       "    <tr>\n",
       "      <th>2</th>\n",
       "      <td>2015-10-15</td>\n",
       "      <td>Disappointment Cleaver</td>\n",
       "      <td>2</td>\n",
       "      <td>0</td>\n",
       "      <td>2</td>\n",
       "      <td>0.0</td>\n",
       "    </tr>\n",
       "    <tr>\n",
       "      <th>3</th>\n",
       "      <td>2015-10-13</td>\n",
       "      <td>Little Tahoma</td>\n",
       "      <td>8</td>\n",
       "      <td>0</td>\n",
       "      <td>8</td>\n",
       "      <td>0.0</td>\n",
       "    </tr>\n",
       "    <tr>\n",
       "      <th>4</th>\n",
       "      <td>2015-10-09</td>\n",
       "      <td>Disappointment Cleaver</td>\n",
       "      <td>2</td>\n",
       "      <td>0</td>\n",
       "      <td>2</td>\n",
       "      <td>0.0</td>\n",
       "    </tr>\n",
       "  </tbody>\n",
       "</table>\n",
       "</div>"
      ],
      "text/plain": [
       "        Date                   Route  Failed  Succeeded  Attempted  \\\n",
       "0 2015-11-27  Disappointment Cleaver       2          0          2   \n",
       "1 2015-11-21  Disappointment Cleaver       3          0          3   \n",
       "2 2015-10-15  Disappointment Cleaver       2          0          2   \n",
       "3 2015-10-13           Little Tahoma       8          0          8   \n",
       "4 2015-10-09  Disappointment Cleaver       2          0          2   \n",
       "\n",
       "   SuccessRate  \n",
       "0          0.0  \n",
       "1          0.0  \n",
       "2          0.0  \n",
       "3          0.0  \n",
       "4          0.0  "
      ]
     },
     "execution_count": 26,
     "metadata": {},
     "output_type": "execute_result"
    }
   ],
   "source": [
    "climb_data.head()"
   ]
  },
  {
   "cell_type": "markdown",
   "id": "lovely-necessity",
   "metadata": {},
   "source": [
    "## Compare Routes"
   ]
  },
  {
   "cell_type": "code",
   "execution_count": 27,
   "id": "resistant-swaziland",
   "metadata": {},
   "outputs": [
    {
     "data": {
      "text/html": [
       "<div>\n",
       "<style scoped>\n",
       "    .dataframe tbody tr th:only-of-type {\n",
       "        vertical-align: middle;\n",
       "    }\n",
       "\n",
       "    .dataframe tbody tr th {\n",
       "        vertical-align: top;\n",
       "    }\n",
       "\n",
       "    .dataframe thead th {\n",
       "        text-align: right;\n",
       "    }\n",
       "</style>\n",
       "<table border=\"1\" class=\"dataframe\">\n",
       "  <thead>\n",
       "    <tr style=\"text-align: right;\">\n",
       "      <th></th>\n",
       "      <th>Failed</th>\n",
       "      <th>Succeeded</th>\n",
       "      <th>Attempted</th>\n",
       "    </tr>\n",
       "    <tr>\n",
       "      <th>Route</th>\n",
       "      <th></th>\n",
       "      <th></th>\n",
       "      <th></th>\n",
       "    </tr>\n",
       "  </thead>\n",
       "  <tbody>\n",
       "    <tr>\n",
       "      <th>Disappointment Cleaver</th>\n",
       "      <td>15259</td>\n",
       "      <td>8353</td>\n",
       "      <td>23612</td>\n",
       "    </tr>\n",
       "    <tr>\n",
       "      <th>Emmons-Winthrop</th>\n",
       "      <td>3048</td>\n",
       "      <td>1673</td>\n",
       "      <td>4721</td>\n",
       "    </tr>\n",
       "    <tr>\n",
       "      <th>Kautz Glacier</th>\n",
       "      <td>949</td>\n",
       "      <td>530</td>\n",
       "      <td>1479</td>\n",
       "    </tr>\n",
       "    <tr>\n",
       "      <th>Little Tahoma</th>\n",
       "      <td>296</td>\n",
       "      <td>135</td>\n",
       "      <td>431</td>\n",
       "    </tr>\n",
       "    <tr>\n",
       "      <th>Fuhrer Finger</th>\n",
       "      <td>273</td>\n",
       "      <td>88</td>\n",
       "      <td>361</td>\n",
       "    </tr>\n",
       "    <tr>\n",
       "      <th>Gibralter Ledges</th>\n",
       "      <td>199</td>\n",
       "      <td>58</td>\n",
       "      <td>257</td>\n",
       "    </tr>\n",
       "    <tr>\n",
       "      <th>Liberty RIngraham Directge</th>\n",
       "      <td>165</td>\n",
       "      <td>82</td>\n",
       "      <td>247</td>\n",
       "    </tr>\n",
       "    <tr>\n",
       "      <th>Ingraham Direct</th>\n",
       "      <td>225</td>\n",
       "      <td>16</td>\n",
       "      <td>241</td>\n",
       "    </tr>\n",
       "    <tr>\n",
       "      <th>glacier only - no summit attempt</th>\n",
       "      <td>187</td>\n",
       "      <td>15</td>\n",
       "      <td>202</td>\n",
       "    </tr>\n",
       "    <tr>\n",
       "      <th>Unknown</th>\n",
       "      <td>131</td>\n",
       "      <td>30</td>\n",
       "      <td>161</td>\n",
       "    </tr>\n",
       "  </tbody>\n",
       "</table>\n",
       "</div>"
      ],
      "text/plain": [
       "                                  Failed  Succeeded  Attempted\n",
       "Route                                                         \n",
       "Disappointment Cleaver             15259       8353      23612\n",
       "Emmons-Winthrop                     3048       1673       4721\n",
       "Kautz Glacier                        949        530       1479\n",
       "Little Tahoma                        296        135        431\n",
       "Fuhrer Finger                        273         88        361\n",
       "Gibralter Ledges                     199         58        257\n",
       "Liberty RIngraham Directge           165         82        247\n",
       "Ingraham Direct                      225         16        241\n",
       "glacier only - no summit attempt     187         15        202\n",
       "Unknown                              131         30        161"
      ]
     },
     "execution_count": 27,
     "metadata": {},
     "output_type": "execute_result"
    }
   ],
   "source": [
    "climb_data.groupby(['Route']).sum()[['Failed', 'Succeeded', 'Attempted']].sort_values('Attempted', ascending = False).head(10)"
   ]
  },
  {
   "cell_type": "code",
   "execution_count": 28,
   "id": "wanted-audio",
   "metadata": {
    "scrolled": false
   },
   "outputs": [
    {
     "data": {
      "text/plain": [
       "Text(0.5, 1.0, 'Number of Attempted, Failed and Succeded per Route')"
      ]
     },
     "execution_count": 28,
     "metadata": {},
     "output_type": "execute_result"
    },
    {
     "data": {
      "image/png": "[encoded data removed]",
      "text/plain": [
       "<Figure size 1080x432 with 1 Axes>"
      ]
     },
     "metadata": {
      "needs_background": "light"
     },
     "output_type": "display_data"
    }
   ],
   "source": [
    "climb_data.groupby(['Route']).sum()[['Attempted', 'Failed', 'Succeeded']].sort_values('Attempted', ascending = False).plot.bar(figsize=(15,6))\n",
    "plt.xlabel('Route')\n",
    "plt.title('Number of Attempted, Failed and Succeded per Route')\n",
    "\n",
    "#Disappointment Cleaver by far the most popular route going by individual attempts, successes or failures.\n",
    "#Unknown attempts neglibible considering the total number of attempts, successes or failures"
   ]
  },
  {
   "cell_type": "code",
   "execution_count": 29,
   "id": "corporate-maine",
   "metadata": {},
   "outputs": [
    {
     "data": {
      "text/plain": [
       "<AxesSubplot:xlabel='Route'>"
      ]
     },
     "execution_count": 29,
     "metadata": {},
     "output_type": "execute_result"
    },
    {
     "data": {
      "image/png": "[encoded data removed]",
      "text/plain": [
       "<Figure size 1440x1080 with 1 Axes>"
      ]
     },
     "metadata": {
      "needs_background": "light"
     },
     "output_type": "display_data"
    }
   ],
   "source": [
    "climb_data.groupby(['Route']).sum()[['Succeeded', 'Failed']].sort_values('Succeeded', ascending = False).plot.bar(stacked=True, figsize=(20,15))\n"
   ]
  },
  {
   "cell_type": "code",
   "execution_count": 30,
   "id": "accurate-delta",
   "metadata": {},
   "outputs": [
    {
     "data": {
      "text/plain": [
       "<AxesSubplot:xlabel='Route'>"
      ]
     },
     "execution_count": 30,
     "metadata": {},
     "output_type": "execute_result"
    },
    {
     "data": {
      "image/png": "[encoded data removed]",
      "text/plain": [
       "<Figure size 1080x432 with 1 Axes>"
      ]
     },
     "metadata": {
      "needs_background": "light"
     },
     "output_type": "display_data"
    }
   ],
   "source": [
    "climb_data.groupby(['Route']).sum()[['Succeeded', 'Failed']].sort_values('Succeeded', ascending = False).apply(lambda r: r/r.sum()*100, axis=1).plot.bar(stacked=True, figsize=(15,6))"
   ]
  },
  {
   "cell_type": "markdown",
   "id": "built-sperm",
   "metadata": {},
   "source": []
  },
  {
   "cell_type": "code",
   "execution_count": 31,
   "id": "quantitative-papua",
   "metadata": {},
   "outputs": [
    {
     "data": {
      "text/html": [
       "<div>\n",
       "<style scoped>\n",
       "    .dataframe tbody tr th:only-of-type {\n",
       "        vertical-align: middle;\n",
       "    }\n",
       "\n",
       "    .dataframe tbody tr th {\n",
       "        vertical-align: top;\n",
       "    }\n",
       "\n",
       "    .dataframe thead th {\n",
       "        text-align: right;\n",
       "    }\n",
       "</style>\n",
       "<table border=\"1\" class=\"dataframe\">\n",
       "  <thead>\n",
       "    <tr style=\"text-align: right;\">\n",
       "      <th></th>\n",
       "      <th>Date</th>\n",
       "      <th>Route</th>\n",
       "      <th>Failed</th>\n",
       "      <th>Succeeded</th>\n",
       "      <th>Attempted</th>\n",
       "      <th>SuccessRate</th>\n",
       "    </tr>\n",
       "  </thead>\n",
       "  <tbody>\n",
       "    <tr>\n",
       "      <th>1513</th>\n",
       "      <td>2015-06-05</td>\n",
       "      <td>Tahoma Cleaver</td>\n",
       "      <td>3</td>\n",
       "      <td>3</td>\n",
       "      <td>6</td>\n",
       "      <td>0.5</td>\n",
       "    </tr>\n",
       "  </tbody>\n",
       "</table>\n",
       "</div>"
      ],
      "text/plain": [
       "           Date           Route  Failed  Succeeded  Attempted  SuccessRate\n",
       "1513 2015-06-05  Tahoma Cleaver       3          3          6          0.5"
      ]
     },
     "execution_count": 31,
     "metadata": {},
     "output_type": "execute_result"
    }
   ],
   "source": [
    "climb_data[climb_data['Route']== 'Tahoma Cleaver']"
   ]
  },
  {
   "cell_type": "markdown",
   "id": "competitive-essex",
   "metadata": {},
   "source": [
    "#### Disappointment Cleaver has the highest number of successes. Tahoma Cleaver has the highest success rate, but since there are only 3 successes and 6 attempts, this is not statistically significant. Disappointment Cleaver, Emmons-Winthrop and Kautz Glacier have the next highest three success rates and they are very close to each other. They are also the routes with the highest number of succeeded attempts."
   ]
  },
  {
   "cell_type": "markdown",
   "id": "generic-sacramento",
   "metadata": {},
   "source": [
    "## Data exploration of 'Disappointment' subset"
   ]
  },
  {
   "cell_type": "code",
   "execution_count": 32,
   "id": "cognitive-forum",
   "metadata": {},
   "outputs": [
    {
     "data": {
      "text/plain": [
       "(2728, 6)"
      ]
     },
     "execution_count": 32,
     "metadata": {},
     "output_type": "execute_result"
    }
   ],
   "source": [
    "disappointment = climb_data[climb_data['Route']== 'Disappointment Cleaver']\n",
    "disappointment.shape"
   ]
  },
  {
   "cell_type": "code",
   "execution_count": 33,
   "id": "straight-sodium",
   "metadata": {},
   "outputs": [
    {
     "data": {
      "text/plain": [
       "(Timestamp('2014-01-05 00:00:00'), Timestamp('2015-11-27 00:00:00'))"
      ]
     },
     "execution_count": 33,
     "metadata": {},
     "output_type": "execute_result"
    }
   ],
   "source": [
    "disappointment['Date'].min(), disappointment['Date'].max()\n",
    "#Start and end of date range"
   ]
  },
  {
   "cell_type": "code",
   "execution_count": 34,
   "id": "extreme-chapter",
   "metadata": {},
   "outputs": [
    {
     "data": {
      "text/plain": [
       "692"
      ]
     },
     "execution_count": 34,
     "metadata": {},
     "output_type": "execute_result"
    }
   ],
   "source": [
    "(disappointment['Date'].max() - disappointment['Date'].min()).days +1\n",
    "# Number of days in data range"
   ]
  },
  {
   "cell_type": "code",
   "execution_count": 35,
   "id": "sustained-letters",
   "metadata": {},
   "outputs": [
    {
     "data": {
      "text/plain": [
       "330"
      ]
     },
     "execution_count": 35,
     "metadata": {},
     "output_type": "execute_result"
    }
   ],
   "source": [
    "disappointment['Date'].nunique()"
   ]
  },
  {
   "cell_type": "code",
   "execution_count": 36,
   "id": "contrary-professor",
   "metadata": {},
   "outputs": [
    {
     "data": {
      "text/plain": [
       "<AxesSubplot:xlabel='Date'>"
      ]
     },
     "execution_count": 36,
     "metadata": {},
     "output_type": "execute_result"
    },
    {
     "data": {
      "image/png": "[encoded data removed]",
      "text/plain": [
       "<Figure size 1440x720 with 1 Axes>"
      ]
     },
     "metadata": {
      "needs_background": "light"
     },
     "output_type": "display_data"
    }
   ],
   "source": [
    "disappointment.groupby(['Date']).sum()[['Succeeded', 'Failed']].plot.bar(stacked=True, figsize=(20,10))\n"
   ]
  },
  {
   "cell_type": "code",
   "execution_count": 37,
   "id": "brave-colors",
   "metadata": {},
   "outputs": [
    {
     "data": {
      "text/plain": [
       "Text(0.5, 1.0, 'Success and Failure Rate over Time')"
      ]
     },
     "execution_count": 37,
     "metadata": {},
     "output_type": "execute_result"
    },
    {
     "data": {
      "image/png": "[encoded data removed]",
      "text/plain": [
       "<Figure size 1440x432 with 1 Axes>"
      ]
     },
     "metadata": {
      "needs_background": "light"
     },
     "output_type": "display_data"
    }
   ],
   "source": [
    "disappointment.groupby(['Date']).sum()[['Succeeded', 'Failed']].apply(lambda r: r/r.sum(), axis=1).plot.bar(stacked=True, figsize=(20,6))\n",
    "plt.xlabel('')\n",
    "plt.ylabel('Success Rate')\n",
    "plt.title('Success and Failure Rate over Time')"
   ]
  },
  {
   "cell_type": "code",
   "execution_count": 38,
   "id": "offensive-singing",
   "metadata": {},
   "outputs": [
    {
     "data": {
      "text/plain": [
       "[<matplotlib.lines.Line2D at 0x2641682f460>]"
      ]
     },
     "execution_count": 38,
     "metadata": {},
     "output_type": "execute_result"
    },
    {
     "data": {
      "image/png": "[encoded data removed]",
      "text/plain": [
       "<Figure size 864x432 with 1 Axes>"
      ]
     },
     "metadata": {
      "needs_background": "light"
     },
     "output_type": "display_data"
    }
   ],
   "source": [
    "plt.rcParams['figure.figsize'] = (12, 6)\n",
    "\n",
    "plt.plot(disappointment['SuccessRate'], marker = '.', alpha = 0.5, linestyle = 'none')"
   ]
  },
  {
   "cell_type": "markdown",
   "id": "hundred-consumption",
   "metadata": {},
   "source": [
    "## Aggregate disappointment data by date"
   ]
  },
  {
   "cell_type": "code",
   "execution_count": 39,
   "id": "fifth-bryan",
   "metadata": {},
   "outputs": [
    {
     "data": {
      "text/html": [
       "<div>\n",
       "<style scoped>\n",
       "    .dataframe tbody tr th:only-of-type {\n",
       "        vertical-align: middle;\n",
       "    }\n",
       "\n",
       "    .dataframe tbody tr th {\n",
       "        vertical-align: top;\n",
       "    }\n",
       "\n",
       "    .dataframe thead th {\n",
       "        text-align: right;\n",
       "    }\n",
       "</style>\n",
       "<table border=\"1\" class=\"dataframe\">\n",
       "  <thead>\n",
       "    <tr style=\"text-align: right;\">\n",
       "      <th></th>\n",
       "      <th>Date</th>\n",
       "      <th>Failed</th>\n",
       "      <th>Succeeded</th>\n",
       "      <th>Attempted</th>\n",
       "      <th>SuccessRate</th>\n",
       "    </tr>\n",
       "  </thead>\n",
       "  <tbody>\n",
       "    <tr>\n",
       "      <th>0</th>\n",
       "      <td>2014-01-05</td>\n",
       "      <td>2</td>\n",
       "      <td>0</td>\n",
       "      <td>2</td>\n",
       "      <td>0.0</td>\n",
       "    </tr>\n",
       "    <tr>\n",
       "      <th>1</th>\n",
       "      <td>2014-01-06</td>\n",
       "      <td>16</td>\n",
       "      <td>0</td>\n",
       "      <td>16</td>\n",
       "      <td>0.0</td>\n",
       "    </tr>\n",
       "    <tr>\n",
       "      <th>2</th>\n",
       "      <td>2014-02-10</td>\n",
       "      <td>16</td>\n",
       "      <td>0</td>\n",
       "      <td>16</td>\n",
       "      <td>0.0</td>\n",
       "    </tr>\n",
       "    <tr>\n",
       "      <th>3</th>\n",
       "      <td>2014-02-22</td>\n",
       "      <td>5</td>\n",
       "      <td>0</td>\n",
       "      <td>5</td>\n",
       "      <td>0.0</td>\n",
       "    </tr>\n",
       "    <tr>\n",
       "      <th>4</th>\n",
       "      <td>2014-02-28</td>\n",
       "      <td>2</td>\n",
       "      <td>0</td>\n",
       "      <td>2</td>\n",
       "      <td>0.0</td>\n",
       "    </tr>\n",
       "  </tbody>\n",
       "</table>\n",
       "</div>"
      ],
      "text/plain": [
       "        Date  Failed  Succeeded  Attempted  SuccessRate\n",
       "0 2014-01-05       2          0          2          0.0\n",
       "1 2014-01-06      16          0         16          0.0\n",
       "2 2014-02-10      16          0         16          0.0\n",
       "3 2014-02-22       5          0          5          0.0\n",
       "4 2014-02-28       2          0          2          0.0"
      ]
     },
     "execution_count": 39,
     "metadata": {},
     "output_type": "execute_result"
    }
   ],
   "source": [
    "disappointment_agg = disappointment.groupby('Date', as_index=False).sum()\n",
    "disappointment_agg['SuccessRate'] = disappointment_agg['Succeeded'] / disappointment_agg['Attempted']\n",
    "\n",
    "disappointment_agg.head()"
   ]
  },
  {
   "cell_type": "code",
   "execution_count": 40,
   "id": "loose-reform",
   "metadata": {},
   "outputs": [
    {
     "data": {
      "text/plain": [
       "[<matplotlib.lines.Line2D at 0x26416856490>]"
      ]
     },
     "execution_count": 40,
     "metadata": {},
     "output_type": "execute_result"
    },
    {
     "data": {
      "image/png": "[encoded data removed]",
      "text/plain": [
       "<Figure size 864x432 with 1 Axes>"
      ]
     },
     "metadata": {
      "needs_background": "light"
     },
     "output_type": "display_data"
    }
   ],
   "source": [
    "plt.rcParams['figure.figsize'] = (12, 6)\n",
    "\n",
    "plt.plot(disappointment_agg['Date'], disappointment_agg['Attempted'], marker = '.', alpha = 0.5, linestyle = 'none')"
   ]
  },
  {
   "cell_type": "code",
   "execution_count": 41,
   "id": "superior-debut",
   "metadata": {},
   "outputs": [
    {
     "data": {
      "text/plain": [
       "Text(0.5, 1.0, 'Succes rate over Time for Disappointment Cleaver ')"
      ]
     },
     "execution_count": 41,
     "metadata": {},
     "output_type": "execute_result"
    },
    {
     "data": {
      "image/png": "[encoded data removed]",
      "text/plain": [
       "<Figure size 1440x432 with 1 Axes>"
      ]
     },
     "metadata": {
      "needs_background": "light"
     },
     "output_type": "display_data"
    }
   ],
   "source": [
    "plt.rcParams['figure.figsize'] = (20, 6)\n",
    "plt.plot(disappointment_agg['Date'], disappointment_agg['SuccessRate'], marker = '.', alpha = 0.5, linestyle = 'none')\n",
    "plt.ylabel('Succes Rate')\n",
    "plt.title('Succes rate over Time for Disappointment Cleaver ')"
   ]
  },
  {
   "cell_type": "markdown",
   "id": "charged-dress",
   "metadata": {},
   "source": [
    "# Linear Regression"
   ]
  },
  {
   "cell_type": "markdown",
   "id": "experienced-branch",
   "metadata": {},
   "source": [
    "Over full two years of data set"
   ]
  },
  {
   "cell_type": "code",
   "execution_count": 42,
   "id": "applicable-tribune",
   "metadata": {},
   "outputs": [
    {
     "name": "stdout",
     "output_type": "stream",
     "text": [
      "r =  -0.10497458074055462 \n",
      " p =  3.895478144158654e-08 \n",
      " s =  2.794032802070838e-19\n"
     ]
    }
   ],
   "source": [
    "y=np.array(disappointment['SuccessRate'].values, dtype=float)\n",
    "x=np.array(disappointment.Date.values, dtype=float)\n",
    "slope, intercept, r_value, p_value, std_err =sp.linregress(x,y)\n",
    "xf = np.linspace(min(x),max(x),100)\n",
    "xf1 = xf.copy()\n",
    "xf1 = pd.to_datetime(xf1)\n",
    "yf = (slope*xf)+intercept\n",
    "print('r = ', r_value, '\\n', 'p = ', p_value, '\\n', 's = ', std_err)"
   ]
  },
  {
   "cell_type": "code",
   "execution_count": 43,
   "id": "ignored-statistics",
   "metadata": {},
   "outputs": [
    {
     "data": {
      "image/png": "[encoded data removed]",
      "text/plain": [
       "<Figure size 1440x432 with 1 Axes>"
      ]
     },
     "metadata": {
      "needs_background": "light"
     },
     "output_type": "display_data"
    }
   ],
   "source": [
    "f, ax = plt.subplots(1, 1)\n",
    "ax.plot(xf1, yf,label='Linear fit', lw=3)\n",
    "plt.plot(disappointment['Date'], disappointment['SuccessRate'], marker='o', ls='')\n",
    "plt.ylabel('Success Rate')\n",
    "ax.legend();"
   ]
  },
  {
   "cell_type": "code",
   "execution_count": 44,
   "id": "excess-velvet",
   "metadata": {},
   "outputs": [
    {
     "name": "stdout",
     "output_type": "stream",
     "text": [
      "r =  -0.15221083503883717 \n",
      " p =  0.005593298768120038 \n",
      " s =  5.6648692374905515e-19\n"
     ]
    }
   ],
   "source": [
    "y=np.array(disappointment_agg['SuccessRate'].values, dtype=float)\n",
    "x=np.array(disappointment_agg.Date.values, dtype=float)\n",
    "slope, intercept, r_value, p_value, std_err =sp.linregress(x,y)\n",
    "xf = np.linspace(min(x),max(x),100)\n",
    "xf1 = xf.copy()\n",
    "xf1 = pd.to_datetime(xf1)\n",
    "yf = (slope*xf)+intercept\n",
    "print('r = ', r_value, '\\n', 'p = ', p_value, '\\n', 's = ', std_err)"
   ]
  },
  {
   "cell_type": "code",
   "execution_count": 45,
   "id": "surrounded-nebraska",
   "metadata": {},
   "outputs": [
    {
     "data": {
      "image/png": "[encoded data removed]",
      "text/plain": [
       "<Figure size 1440x432 with 1 Axes>"
      ]
     },
     "metadata": {
      "needs_background": "light"
     },
     "output_type": "display_data"
    }
   ],
   "source": [
    "f, ax = plt.subplots(1, 1,figsize=(20,6))\n",
    "ax.plot(xf1, yf,label='Linear fit', lw=3)\n",
    "plt.plot(disappointment_agg['Date'], disappointment_agg['SuccessRate'], marker='o', ls='')\n",
    "plt.ylabel('Succes Rate')\n",
    "plt.title('Succes rate over Time for Disappointment Cleaver ')\n",
    "ax.legend();"
   ]
  },
  {
   "cell_type": "markdown",
   "id": "moved-spectacular",
   "metadata": {},
   "source": [
    "## Seasonal plot of Time Series"
   ]
  },
  {
   "cell_type": "code",
   "execution_count": 46,
   "id": "developing-married",
   "metadata": {},
   "outputs": [],
   "source": [
    "# Prepare data\n",
    "disappointment_agg['year'] = [d.year for d in disappointment_agg.Date]\n",
    "\n",
    "disappointment_agg['year_month'] = [str(d.year)+'-'+d.strftime('%m') for d in disappointment_agg.Date]\n",
    "\n",
    "disappointment_agg['month'] = [d.strftime('%m') for d in disappointment_agg.Date]\n",
    "years = disappointment_agg['year'].unique()\n",
    "disappointment_agg['month'] = pd.to_numeric(disappointment_agg['month'])"
   ]
  },
  {
   "cell_type": "code",
   "execution_count": 47,
   "id": "valid-lotus",
   "metadata": {},
   "outputs": [
    {
     "data": {
      "text/html": [
       "<div>\n",
       "<style scoped>\n",
       "    .dataframe tbody tr th:only-of-type {\n",
       "        vertical-align: middle;\n",
       "    }\n",
       "\n",
       "    .dataframe tbody tr th {\n",
       "        vertical-align: top;\n",
       "    }\n",
       "\n",
       "    .dataframe thead th {\n",
       "        text-align: right;\n",
       "    }\n",
       "</style>\n",
       "<table border=\"1\" class=\"dataframe\">\n",
       "  <thead>\n",
       "    <tr style=\"text-align: right;\">\n",
       "      <th></th>\n",
       "      <th>Date</th>\n",
       "      <th>Failed</th>\n",
       "      <th>Succeeded</th>\n",
       "      <th>Attempted</th>\n",
       "      <th>SuccessRate</th>\n",
       "      <th>year</th>\n",
       "      <th>year_month</th>\n",
       "      <th>month</th>\n",
       "    </tr>\n",
       "  </thead>\n",
       "  <tbody>\n",
       "    <tr>\n",
       "      <th>0</th>\n",
       "      <td>2014-01-05</td>\n",
       "      <td>2</td>\n",
       "      <td>0</td>\n",
       "      <td>2</td>\n",
       "      <td>0.0</td>\n",
       "      <td>2014</td>\n",
       "      <td>2014-01</td>\n",
       "      <td>1</td>\n",
       "    </tr>\n",
       "    <tr>\n",
       "      <th>1</th>\n",
       "      <td>2014-01-06</td>\n",
       "      <td>16</td>\n",
       "      <td>0</td>\n",
       "      <td>16</td>\n",
       "      <td>0.0</td>\n",
       "      <td>2014</td>\n",
       "      <td>2014-01</td>\n",
       "      <td>1</td>\n",
       "    </tr>\n",
       "    <tr>\n",
       "      <th>2</th>\n",
       "      <td>2014-02-10</td>\n",
       "      <td>16</td>\n",
       "      <td>0</td>\n",
       "      <td>16</td>\n",
       "      <td>0.0</td>\n",
       "      <td>2014</td>\n",
       "      <td>2014-02</td>\n",
       "      <td>2</td>\n",
       "    </tr>\n",
       "    <tr>\n",
       "      <th>3</th>\n",
       "      <td>2014-02-22</td>\n",
       "      <td>5</td>\n",
       "      <td>0</td>\n",
       "      <td>5</td>\n",
       "      <td>0.0</td>\n",
       "      <td>2014</td>\n",
       "      <td>2014-02</td>\n",
       "      <td>2</td>\n",
       "    </tr>\n",
       "    <tr>\n",
       "      <th>4</th>\n",
       "      <td>2014-02-28</td>\n",
       "      <td>2</td>\n",
       "      <td>0</td>\n",
       "      <td>2</td>\n",
       "      <td>0.0</td>\n",
       "      <td>2014</td>\n",
       "      <td>2014-02</td>\n",
       "      <td>2</td>\n",
       "    </tr>\n",
       "  </tbody>\n",
       "</table>\n",
       "</div>"
      ],
      "text/plain": [
       "        Date  Failed  Succeeded  Attempted  SuccessRate  year year_month  \\\n",
       "0 2014-01-05       2          0          2          0.0  2014    2014-01   \n",
       "1 2014-01-06      16          0         16          0.0  2014    2014-01   \n",
       "2 2014-02-10      16          0         16          0.0  2014    2014-02   \n",
       "3 2014-02-22       5          0          5          0.0  2014    2014-02   \n",
       "4 2014-02-28       2          0          2          0.0  2014    2014-02   \n",
       "\n",
       "   month  \n",
       "0      1  \n",
       "1      1  \n",
       "2      2  \n",
       "3      2  \n",
       "4      2  "
      ]
     },
     "execution_count": 47,
     "metadata": {},
     "output_type": "execute_result"
    }
   ],
   "source": [
    "disappointment_agg.head()"
   ]
  },
  {
   "cell_type": "code",
   "execution_count": 48,
   "id": "alone-relief",
   "metadata": {},
   "outputs": [
    {
     "data": {
      "text/plain": [
       "Text(0, 0.5, 'Success Rate')"
      ]
     },
     "execution_count": 48,
     "metadata": {},
     "output_type": "execute_result"
    },
    {
     "data": {
      "image/png": "[encoded data removed]",
      "text/plain": [
       "<Figure size 1440x432 with 1 Axes>"
      ]
     },
     "metadata": {
      "needs_background": "light"
     },
     "output_type": "display_data"
    }
   ],
   "source": [
    "plt.figure(figsize=(20,6))\n",
    "sns.boxplot(x='year_month', y='SuccessRate', data=disappointment_agg.loc[~disappointment_agg.year.isin([2013, 2016]), :], showmeans=True, meanprops={\"markerfacecolor\":\"white\", \"markeredgecolor\":\"black\",\"markersize\":\"10\"})\n",
    "plt.title('Month-wise Box Plot', fontsize=18)\n",
    "plt.xlabel('Year and Month')\n",
    "plt.ylabel('Success Rate')"
   ]
  },
  {
   "cell_type": "code",
   "execution_count": 49,
   "id": "correct-transsexual",
   "metadata": {},
   "outputs": [
    {
     "data": {
      "image/png": "[encoded data removed]",
      "text/plain": [
       "<Figure size 1440x432 with 1 Axes>"
      ]
     },
     "metadata": {
      "needs_background": "light"
     },
     "output_type": "display_data"
    }
   ],
   "source": [
    "# Draw Plot\n",
    "plt.figure(figsize=(20,6))\n",
    "sns.boxplot(x='month', y='SuccessRate', data=disappointment_agg.loc[~disappointment_agg.year.isin([2013, 2016]), :], showmeans=True, meanprops={\"markerfacecolor\":\"white\", \"markeredgecolor\":\"black\",\"markersize\":\"10\"})\n",
    "\n",
    "# Set Title\n",
    "plt.title('Month-wise Box Plot\\n(The Seasonality)', fontsize=18)\n",
    "plt.show()"
   ]
  },
  {
   "cell_type": "code",
   "execution_count": null,
   "id": "confidential-defense",
   "metadata": {},
   "outputs": [],
   "source": []
  },
  {
   "cell_type": "code",
   "execution_count": 50,
   "id": "complimentary-intro",
   "metadata": {
    "scrolled": false
   },
   "outputs": [
    {
     "data": {
      "text/plain": [
       "Text(0, 0.5, 'Success Rate')"
      ]
     },
     "execution_count": 50,
     "metadata": {},
     "output_type": "execute_result"
    },
    {
     "data": {
      "image/png": "[encoded data removed]",
      "text/plain": [
       "<Figure size 1440x432 with 1 Axes>"
      ]
     },
     "metadata": {
      "needs_background": "light"
     },
     "output_type": "display_data"
    }
   ],
   "source": [
    "plt.figure(figsize=(20,6))\n",
    "sns.boxplot(x='year', y='SuccessRate', data=disappointment_agg, showmeans=True, meanprops={\"markerfacecolor\":\"white\", \"markeredgecolor\":\"black\",\"markersize\":\"10\"})\n",
    "plt.title('Year-wise Box Plot\\n(The Trend)', fontsize=18)\n",
    "plt.xlabel('Year')\n",
    "plt.ylabel('Success Rate')\n"
   ]
  },
  {
   "cell_type": "code",
   "execution_count": 51,
   "id": "aggregate-geography",
   "metadata": {},
   "outputs": [
    {
     "data": {
      "text/plain": [
       "Text(0.5, 1.0, 'Number of Attempts per Month over Both Years')"
      ]
     },
     "execution_count": 51,
     "metadata": {},
     "output_type": "execute_result"
    },
    {
     "data": {
      "image/png": "[encoded data removed]",
      "text/plain": [
       "<Figure size 1440x432 with 1 Axes>"
      ]
     },
     "metadata": {
      "needs_background": "light"
     },
     "output_type": "display_data"
    }
   ],
   "source": [
    "disappointment_agg.groupby(['month']).sum()[['Attempted']].plot.bar(figsize=(20,6), rot=0)\n",
    "plt.ylabel('Number of Attempts')\n",
    "plt.title('Number of Attempts per Month over Both Years')"
   ]
  },
  {
   "cell_type": "code",
   "execution_count": 52,
   "id": "municipal-somalia",
   "metadata": {},
   "outputs": [
    {
     "data": {
      "text/html": [
       "<div>\n",
       "<style scoped>\n",
       "    .dataframe tbody tr th:only-of-type {\n",
       "        vertical-align: middle;\n",
       "    }\n",
       "\n",
       "    .dataframe tbody tr th {\n",
       "        vertical-align: top;\n",
       "    }\n",
       "\n",
       "    .dataframe thead th {\n",
       "        text-align: right;\n",
       "    }\n",
       "</style>\n",
       "<table border=\"1\" class=\"dataframe\">\n",
       "  <thead>\n",
       "    <tr style=\"text-align: right;\">\n",
       "      <th></th>\n",
       "      <th>Attempted</th>\n",
       "    </tr>\n",
       "    <tr>\n",
       "      <th>month</th>\n",
       "      <th></th>\n",
       "    </tr>\n",
       "  </thead>\n",
       "  <tbody>\n",
       "    <tr>\n",
       "      <th>1</th>\n",
       "      <td>20</td>\n",
       "    </tr>\n",
       "    <tr>\n",
       "      <th>2</th>\n",
       "      <td>23</td>\n",
       "    </tr>\n",
       "    <tr>\n",
       "      <th>3</th>\n",
       "      <td>73</td>\n",
       "    </tr>\n",
       "    <tr>\n",
       "      <th>4</th>\n",
       "      <td>114</td>\n",
       "    </tr>\n",
       "    <tr>\n",
       "      <th>5</th>\n",
       "      <td>2302</td>\n",
       "    </tr>\n",
       "    <tr>\n",
       "      <th>6</th>\n",
       "      <td>5830</td>\n",
       "    </tr>\n",
       "    <tr>\n",
       "      <th>7</th>\n",
       "      <td>7159</td>\n",
       "    </tr>\n",
       "    <tr>\n",
       "      <th>8</th>\n",
       "      <td>5701</td>\n",
       "    </tr>\n",
       "    <tr>\n",
       "      <th>9</th>\n",
       "      <td>2364</td>\n",
       "    </tr>\n",
       "    <tr>\n",
       "      <th>10</th>\n",
       "      <td>21</td>\n",
       "    </tr>\n",
       "    <tr>\n",
       "      <th>11</th>\n",
       "      <td>5</td>\n",
       "    </tr>\n",
       "  </tbody>\n",
       "</table>\n",
       "</div>"
      ],
      "text/plain": [
       "       Attempted\n",
       "month           \n",
       "1             20\n",
       "2             23\n",
       "3             73\n",
       "4            114\n",
       "5           2302\n",
       "6           5830\n",
       "7           7159\n",
       "8           5701\n",
       "9           2364\n",
       "10            21\n",
       "11             5"
      ]
     },
     "execution_count": 52,
     "metadata": {},
     "output_type": "execute_result"
    }
   ],
   "source": [
    "disappointment_agg.groupby(['month']).sum()[['Attempted']]"
   ]
  },
  {
   "cell_type": "code",
   "execution_count": 53,
   "id": "average-profession",
   "metadata": {},
   "outputs": [
    {
     "data": {
      "text/plain": [
       "Date           datetime64[ns]\n",
       "Failed                  int64\n",
       "Succeeded               int64\n",
       "Attempted               int64\n",
       "SuccessRate           float64\n",
       "year                    int64\n",
       "year_month             object\n",
       "month                   int64\n",
       "dtype: object"
      ]
     },
     "execution_count": 53,
     "metadata": {},
     "output_type": "execute_result"
    }
   ],
   "source": [
    "disappointment_agg.dtypes"
   ]
  },
  {
   "cell_type": "code",
   "execution_count": 54,
   "id": "powerful-honolulu",
   "metadata": {},
   "outputs": [
    {
     "name": "stdout",
     "output_type": "stream",
     "text": [
      "ADF Statistic: -5.196724006064108\n",
      "p-value: 8.928496110239404e-06\n",
      "Critial Values:\n",
      "   1%, -3.45050711373316\n",
      "Critial Values:\n",
      "   5%, -2.8704195794076743\n",
      "Critial Values:\n",
      "   10%, -2.571500856923753\n"
     ]
    }
   ],
   "source": [
    "# ADF Test\n",
    "result = adfuller(disappointment_agg.SuccessRate.values, autolag='AIC')\n",
    "print(f'ADF Statistic: {result[0]}')\n",
    "print(f'p-value: {result[1]}')\n",
    "for key, value in result[4].items():\n",
    "    print('Critial Values:')\n",
    "    print(f'   {key}, {value}')\n"
   ]
  },
  {
   "cell_type": "code",
   "execution_count": 55,
   "id": "entitled-explosion",
   "metadata": {},
   "outputs": [
    {
     "name": "stdout",
     "output_type": "stream",
     "text": [
      "\n",
      "KPSS Statistic: 0.229586\n",
      "p-value: 0.100000\n",
      "Critial Values:\n",
      "   10%, 0.347\n",
      "Critial Values:\n",
      "   5%, 0.463\n",
      "Critial Values:\n",
      "   2.5%, 0.574\n",
      "Critial Values:\n",
      "   1%, 0.739\n"
     ]
    },
    {
     "name": "stderr",
     "output_type": "stream",
     "text": [
      "C:\\Users\\Owner\\anaconda3\\lib\\site-packages\\statsmodels\\tsa\\stattools.py:1850: FutureWarning: The behavior of using nlags=None will change in release 0.13.Currently nlags=None is the same as nlags=\"legacy\", and so a sample-size lag length is used. After the next release, the default will change to be the same as nlags=\"auto\" which uses an automatic lag length selection method. To silence this warning, either use \"auto\" or \"legacy\"\n",
      "  warnings.warn(msg, FutureWarning)\n",
      "C:\\Users\\Owner\\anaconda3\\lib\\site-packages\\statsmodels\\tsa\\stattools.py:1885: InterpolationWarning: The test statistic is outside of the range of p-values available in the\n",
      "look-up table. The actual p-value is greater than the p-value returned.\n",
      "\n",
      "  warnings.warn(\n"
     ]
    }
   ],
   "source": [
    "\n",
    "# KPSS Test\n",
    "result = kpss(disappointment_agg.SuccessRate.values, regression='c')\n",
    "print('\\nKPSS Statistic: %f' % result[0])\n",
    "print('p-value: %f' % result[1])\n",
    "for key, value in result[3].items():\n",
    "    print('Critial Values:')\n",
    "    print(f'   {key}, {value}')"
   ]
  },
  {
   "cell_type": "code",
   "execution_count": 56,
   "id": "international-composition",
   "metadata": {},
   "outputs": [
    {
     "data": {
      "text/html": [
       "<div>\n",
       "<style scoped>\n",
       "    .dataframe tbody tr th:only-of-type {\n",
       "        vertical-align: middle;\n",
       "    }\n",
       "\n",
       "    .dataframe tbody tr th {\n",
       "        vertical-align: top;\n",
       "    }\n",
       "\n",
       "    .dataframe thead th {\n",
       "        text-align: right;\n",
       "    }\n",
       "</style>\n",
       "<table border=\"1\" class=\"dataframe\">\n",
       "  <thead>\n",
       "    <tr style=\"text-align: right;\">\n",
       "      <th></th>\n",
       "      <th>month</th>\n",
       "      <th>SuccessRate</th>\n",
       "    </tr>\n",
       "  </thead>\n",
       "  <tbody>\n",
       "    <tr>\n",
       "      <th>0</th>\n",
       "      <td>1</td>\n",
       "      <td>0.000000</td>\n",
       "    </tr>\n",
       "    <tr>\n",
       "      <th>1</th>\n",
       "      <td>2</td>\n",
       "      <td>0.000000</td>\n",
       "    </tr>\n",
       "    <tr>\n",
       "      <th>2</th>\n",
       "      <td>3</td>\n",
       "      <td>0.054167</td>\n",
       "    </tr>\n",
       "    <tr>\n",
       "      <th>3</th>\n",
       "      <td>4</td>\n",
       "      <td>0.122789</td>\n",
       "    </tr>\n",
       "    <tr>\n",
       "      <th>4</th>\n",
       "      <td>5</td>\n",
       "      <td>0.255468</td>\n",
       "    </tr>\n",
       "    <tr>\n",
       "      <th>5</th>\n",
       "      <td>6</td>\n",
       "      <td>0.334939</td>\n",
       "    </tr>\n",
       "    <tr>\n",
       "      <th>6</th>\n",
       "      <td>7</td>\n",
       "      <td>0.363149</td>\n",
       "    </tr>\n",
       "    <tr>\n",
       "      <th>7</th>\n",
       "      <td>8</td>\n",
       "      <td>0.341575</td>\n",
       "    </tr>\n",
       "    <tr>\n",
       "      <th>8</th>\n",
       "      <td>9</td>\n",
       "      <td>0.208332</td>\n",
       "    </tr>\n",
       "    <tr>\n",
       "      <th>9</th>\n",
       "      <td>10</td>\n",
       "      <td>0.083333</td>\n",
       "    </tr>\n",
       "    <tr>\n",
       "      <th>10</th>\n",
       "      <td>11</td>\n",
       "      <td>0.000000</td>\n",
       "    </tr>\n",
       "  </tbody>\n",
       "</table>\n",
       "</div>"
      ],
      "text/plain": [
       "    month  SuccessRate\n",
       "0       1     0.000000\n",
       "1       2     0.000000\n",
       "2       3     0.054167\n",
       "3       4     0.122789\n",
       "4       5     0.255468\n",
       "5       6     0.334939\n",
       "6       7     0.363149\n",
       "7       8     0.341575\n",
       "8       9     0.208332\n",
       "9      10     0.083333\n",
       "10     11     0.000000"
      ]
     },
     "execution_count": 56,
     "metadata": {},
     "output_type": "execute_result"
    }
   ],
   "source": [
    "disappointment_agg_month = disappointment_agg.groupby(['month']).mean()[['SuccessRate']].reset_index()\n",
    "disappointment_agg_month"
   ]
  },
  {
   "cell_type": "code",
   "execution_count": 57,
   "id": "varying-broadway",
   "metadata": {},
   "outputs": [
    {
     "data": {
      "text/plain": [
       "0      1\n",
       "1      2\n",
       "2      3\n",
       "3      4\n",
       "4      5\n",
       "5      6\n",
       "6      7\n",
       "7      8\n",
       "8      9\n",
       "9     10\n",
       "10    11\n",
       "Name: month, dtype: int64"
      ]
     },
     "execution_count": 57,
     "metadata": {},
     "output_type": "execute_result"
    }
   ],
   "source": [
    "x1 = disappointment_agg_month['month']\n",
    "x1"
   ]
  },
  {
   "cell_type": "code",
   "execution_count": 58,
   "id": "overhead-array",
   "metadata": {},
   "outputs": [
    {
     "data": {
      "text/plain": [
       "0     0.000000\n",
       "1     0.000000\n",
       "2     0.054167\n",
       "3     0.122789\n",
       "4     0.255468\n",
       "5     0.334939\n",
       "6     0.363149\n",
       "7     0.341575\n",
       "8     0.208332\n",
       "9     0.083333\n",
       "10    0.000000\n",
       "Name: SuccessRate, dtype: float64"
      ]
     },
     "execution_count": 58,
     "metadata": {},
     "output_type": "execute_result"
    }
   ],
   "source": [
    "y1 = disappointment_agg_month['SuccessRate']\n",
    "y1"
   ]
  },
  {
   "cell_type": "code",
   "execution_count": 59,
   "id": "caring-promise",
   "metadata": {},
   "outputs": [],
   "source": [
    "fit1 = np.polyfit(x1, y1, 1)  # linear\n",
    "fit2 = np.polyfit(x1, y1, 2)  # quadratic\n",
    "fit3 = np.polyfit(x1, y1, 3)  # cubic"
   ]
  },
  {
   "cell_type": "code",
   "execution_count": 60,
   "id": "blond-light",
   "metadata": {},
   "outputs": [
    {
     "data": {
      "text/plain": [
       "0.017745900678414157"
      ]
     },
     "execution_count": 60,
     "metadata": {},
     "output_type": "execute_result"
    }
   ],
   "source": [
    "v1 = np.polyval(fit1, x1)\n",
    "np.mean(np.square(y1 - v1)) "
   ]
  },
  {
   "cell_type": "code",
   "execution_count": 61,
   "id": "foster-relative",
   "metadata": {},
   "outputs": [
    {
     "data": {
      "text/plain": [
       "0.00381702029203396"
      ]
     },
     "execution_count": 61,
     "metadata": {},
     "output_type": "execute_result"
    }
   ],
   "source": [
    "v2 = np.polyval(fit2, x1)\n",
    "np.mean(np.square(y1 - v2))"
   ]
  },
  {
   "cell_type": "code",
   "execution_count": 62,
   "id": "oriented-venice",
   "metadata": {},
   "outputs": [
    {
     "data": {
      "text/plain": [
       "0.001511208731525198"
      ]
     },
     "execution_count": 62,
     "metadata": {},
     "output_type": "execute_result"
    }
   ],
   "source": [
    "v3 = np.polyval(fit3, x1)\n",
    "np.mean(np.square(y1 - v3))"
   ]
  },
  {
   "cell_type": "code",
   "execution_count": null,
   "id": "horizontal-chest",
   "metadata": {},
   "outputs": [],
   "source": [
    "plt.scatter(x1, y1, color='red')\n",
    "plt.scatter(x1, v1, color='yellow')\n",
    "plt.scatter(x1, v2, color='green')\n",
    "plt.scatter(x1, v3, color='blue')\n",
    "plt.plot(x1, y1, color='red')\n",
    "plt.plot(x1, v1, color='yellow')\n",
    "plt.plot(x1, v2, color='green')\n",
    "plt.plot(x1, v3, color='blue')\n",
    "red_patch = mpatches.Patch(color='red', label='Original')\n",
    "yellow_patch = mpatches.Patch(color='yellow', label='Linear')\n",
    "green_patch = mpatches.Patch(color='green', label='Quadratic')\n",
    "blue_patch = mpatches.Patch(color='blue', label='Cubic')\n",
    "plt.legend(handles=[red_patch, yellow_patch, green_patch, blue_patch])\n",
    "plt.title('Seasonal Regression Analysis', fontsize=18)\n",
    "plt.xlabel('Year')\n",
    "plt.ylabel('Success Rate')\n",
    "plt.show()"
   ]
  },
  {
   "cell_type": "code",
   "execution_count": null,
   "id": "dedicated-mother",
   "metadata": {},
   "outputs": [],
   "source": [
    "p1 = np.polyval(fit3, 1)\n",
    "p1"
   ]
  },
  {
   "cell_type": "code",
   "execution_count": null,
   "id": "unique-eleven",
   "metadata": {},
   "outputs": [],
   "source": [
    "p2 = np.polyval(fit3, 2)\n",
    "p2"
   ]
  },
  {
   "cell_type": "code",
   "execution_count": null,
   "id": "aging-mobile",
   "metadata": {},
   "outputs": [],
   "source": [
    "p12 = np.polyval(fit3, 12)\n",
    "p12"
   ]
  },
  {
   "cell_type": "markdown",
   "id": "personalized-utilization",
   "metadata": {},
   "source": [
    "# * * * * * * * * * * * * * * * * * * *\n",
    "#   WEATHER STATISTICS\n",
    "# * * * * * * * * * * * * * * * * * * *"
   ]
  },
  {
   "cell_type": "markdown",
   "id": "yellow-classroom",
   "metadata": {},
   "source": [
    "# Load Data"
   ]
  },
  {
   "cell_type": "code",
   "execution_count": null,
   "id": "applicable-variable",
   "metadata": {},
   "outputs": [],
   "source": [
    "weather_data = pd.read_csv(\"Rainier_Weather.csv\")\n",
    "weather_data.head()"
   ]
  },
  {
   "cell_type": "markdown",
   "id": "perceived-politics",
   "metadata": {},
   "source": [
    "# Data Exploration and Preparation"
   ]
  },
  {
   "cell_type": "code",
   "execution_count": null,
   "id": "figured-mortgage",
   "metadata": {},
   "outputs": [],
   "source": [
    "weather_data.dtypes"
   ]
  },
  {
   "cell_type": "code",
   "execution_count": null,
   "id": "motivated-photographer",
   "metadata": {},
   "outputs": [],
   "source": [
    "weather_data.isnull().values.any()"
   ]
  },
  {
   "cell_type": "code",
   "execution_count": null,
   "id": "endless-definition",
   "metadata": {},
   "outputs": [],
   "source": [
    "weather_data.shape"
   ]
  },
  {
   "cell_type": "code",
   "execution_count": null,
   "id": "optional-vampire",
   "metadata": {},
   "outputs": [],
   "source": [
    "weather_data['Date'] = pd.to_datetime(weather_data['Date'])\n",
    "weather_data.dtypes"
   ]
  },
  {
   "cell_type": "code",
   "execution_count": null,
   "id": "cleared-greene",
   "metadata": {},
   "outputs": [],
   "source": [
    "weather_data = weather_data.drop('Battery Voltage AVG', 1)"
   ]
  },
  {
   "cell_type": "code",
   "execution_count": null,
   "id": "prime-hawaiian",
   "metadata": {},
   "outputs": [],
   "source": [
    "weather_data['Date'].min(), weather_data['Date'].max()\n",
    "#Start and end of date range"
   ]
  },
  {
   "cell_type": "code",
   "execution_count": null,
   "id": "moved-fluid",
   "metadata": {},
   "outputs": [],
   "source": [
    "(weather_data['Date'].max() - weather_data['Date'].min()).days +1\n",
    "# Number of days in data range"
   ]
  },
  {
   "cell_type": "code",
   "execution_count": null,
   "id": "brave-keyboard",
   "metadata": {},
   "outputs": [],
   "source": [
    "weather_data['Date'].nunique()"
   ]
  },
  {
   "cell_type": "code",
   "execution_count": null,
   "id": "agreed-trustee",
   "metadata": {},
   "outputs": [],
   "source": [
    "weather_data['Temperature AVG'].min(), weather_data['Temperature AVG'].max()\n",
    "#Start and end of Temperature AVG range"
   ]
  },
  {
   "cell_type": "code",
   "execution_count": null,
   "id": "breathing-utilization",
   "metadata": {},
   "outputs": [],
   "source": [
    "plt.plot(weather_data['Date'], weather_data['Temperature AVG'])\n",
    "plt.xlabel('')\n",
    "plt.ylabel('Temperature')\n",
    "plt.title('Temperature over Time', fontsize=18)"
   ]
  },
  {
   "cell_type": "code",
   "execution_count": null,
   "id": "sweet-behalf",
   "metadata": {},
   "outputs": [],
   "source": [
    "plt.hist(weather_data['Temperature AVG'], bins = 30)\n",
    "plt.xlabel('Temperature')\n",
    "plt.ylabel('Count')\n",
    "plt.title('Temperature Frequency', fontsize=18)"
   ]
  },
  {
   "cell_type": "code",
   "execution_count": null,
   "id": "remarkable-dating",
   "metadata": {},
   "outputs": [],
   "source": [
    "weather_data['Relative Humidity AVG'].min(), weather_data['Relative Humidity AVG'].max()\n",
    "#Start and end of Relative Humidity AVG range"
   ]
  },
  {
   "cell_type": "code",
   "execution_count": null,
   "id": "higher-impression",
   "metadata": {},
   "outputs": [],
   "source": [
    "plt.plot(weather_data['Date'], weather_data['Relative Humidity AVG'])\n",
    "plt.xlabel('')\n",
    "plt.ylabel('Relative Humidity')\n",
    "plt.title('Relative Humidity over Time', fontsize=18)"
   ]
  },
  {
   "cell_type": "code",
   "execution_count": null,
   "id": "leading-saying",
   "metadata": {},
   "outputs": [],
   "source": [
    "plt.hist(weather_data['Relative Humidity AVG'], bins = 30)\n",
    "plt.xlabel('Relative Humidity')\n",
    "plt.ylabel('Count')\n",
    "plt.title('Relative Humidity Frequency', fontsize=18)"
   ]
  },
  {
   "cell_type": "code",
   "execution_count": null,
   "id": "understanding-processor",
   "metadata": {},
   "outputs": [],
   "source": [
    "weather_data['Wind Speed Daily AVG'].min(), weather_data['Wind Speed Daily AVG'].max()\n",
    "#Start and end of Wind Speed Daily AVG range"
   ]
  },
  {
   "cell_type": "code",
   "execution_count": null,
   "id": "desirable-liquid",
   "metadata": {},
   "outputs": [],
   "source": [
    "plt.plot(weather_data['Date'], weather_data['Wind Speed Daily AVG'])\n",
    "plt.xlabel('')\n",
    "plt.ylabel('Wind Speed Daily')\n",
    "plt.title('Wind Speed Daily over Time', fontsize=18)"
   ]
  },
  {
   "cell_type": "code",
   "execution_count": null,
   "id": "golden-bread",
   "metadata": {},
   "outputs": [],
   "source": [
    "plt.hist(weather_data['Wind Speed Daily AVG'], bins = 30)\n",
    "plt.xlabel('Wind Speed Daily')\n",
    "plt.ylabel('Count')\n",
    "plt.title('Wind Speed Daily Frequency', fontsize=18)"
   ]
  },
  {
   "cell_type": "code",
   "execution_count": null,
   "id": "considered-shape",
   "metadata": {},
   "outputs": [],
   "source": [
    "weather_data['Wind Direction AVG'].min(), weather_data['Wind Direction AVG'].max()\n",
    "#Start and end of Wind Direction AVG range"
   ]
  },
  {
   "cell_type": "code",
   "execution_count": null,
   "id": "unauthorized-cinema",
   "metadata": {},
   "outputs": [],
   "source": [
    "plt.plot(weather_data['Date'], weather_data['Wind Direction AVG'])\n",
    "plt.xlabel('')\n",
    "plt.ylabel('Wind Direction')\n",
    "plt.title('Wind Direction over Time', fontsize=18)"
   ]
  },
  {
   "cell_type": "code",
   "execution_count": null,
   "id": "ignored-credit",
   "metadata": {},
   "outputs": [],
   "source": [
    "plt.hist(weather_data['Wind Direction AVG'], bins = 32)\n",
    "plt.xlabel('Wind Direction')\n",
    "plt.ylabel('Count')\n",
    "plt.title('Wind Direction Frequency', fontsize=18)"
   ]
  },
  {
   "cell_type": "code",
   "execution_count": null,
   "id": "provincial-coating",
   "metadata": {},
   "outputs": [],
   "source": [
    "weather_data['Solare Radiation AVG'].min(), weather_data['Solare Radiation AVG'].max()\n",
    "#Start and end of Solare Radiation AVG range"
   ]
  },
  {
   "cell_type": "code",
   "execution_count": null,
   "id": "allied-divide",
   "metadata": {},
   "outputs": [],
   "source": [
    "plt.plot(weather_data['Date'], weather_data['Solare Radiation AVG'])\n",
    "plt.xlabel('')\n",
    "plt.ylabel('Solare Radiation')\n",
    "plt.title('Solare Radiation over Time', fontsize=18)"
   ]
  },
  {
   "cell_type": "code",
   "execution_count": null,
   "id": "above-store",
   "metadata": {},
   "outputs": [],
   "source": [
    "plt.hist(weather_data['Solare Radiation AVG'], bins = 30)\n",
    "plt.xlabel('Solare Radiation')\n",
    "plt.ylabel('Count')\n",
    "plt.title('Solare Radiation Frequency', fontsize=18)"
   ]
  },
  {
   "cell_type": "markdown",
   "id": "corrected-birmingham",
   "metadata": {},
   "source": [
    "# * * * * * * * * * * * * * * *\n",
    "#   COMBINED DATA\n",
    "# * * * * * * * * * * * * * * *"
   ]
  },
  {
   "cell_type": "code",
   "execution_count": null,
   "id": "hydraulic-guyana",
   "metadata": {},
   "outputs": [],
   "source": [
    "combined_data = pd.merge(disappointment_agg, weather_data, how=\"inner\", on='Date')"
   ]
  },
  {
   "cell_type": "code",
   "execution_count": null,
   "id": "duplicate-frontier",
   "metadata": {},
   "outputs": [],
   "source": [
    "combined_data.head(10)"
   ]
  },
  {
   "cell_type": "code",
   "execution_count": null,
   "id": "amended-horizontal",
   "metadata": {},
   "outputs": [],
   "source": [
    "combined_data.shape"
   ]
  },
  {
   "cell_type": "code",
   "execution_count": null,
   "id": "divided-cardiff",
   "metadata": {},
   "outputs": [],
   "source": [
    "combined_data['Date'].min(), combined_data['Date'].max()\n",
    "#Start and end of date range"
   ]
  },
  {
   "cell_type": "code",
   "execution_count": null,
   "id": "checked-theology",
   "metadata": {},
   "outputs": [],
   "source": [
    "(combined_data['Date'].max() - combined_data['Date'].min()).days +1\n",
    "# Number of days in date range"
   ]
  },
  {
   "cell_type": "code",
   "execution_count": null,
   "id": "corresponding-amendment",
   "metadata": {},
   "outputs": [],
   "source": [
    "combined_data_slim = combined_data.drop(['Failed', 'Succeeded', 'Attempted', 'year', 'year_month', 'month'], 1)"
   ]
  },
  {
   "cell_type": "code",
   "execution_count": null,
   "id": "chicken-portrait",
   "metadata": {},
   "outputs": [],
   "source": [
    "combined_data_slim.head()"
   ]
  },
  {
   "cell_type": "code",
   "execution_count": null,
   "id": "basic-joshua",
   "metadata": {},
   "outputs": [],
   "source": [
    "corr = combined_data_slim.corr()\n",
    "fig, ax = plt.subplots(figsize=(3,3))\n",
    "ax.matshow(corr)\n",
    "plt.xticks(range(len(corr.columns)), corr.columns, rotation='vertical')\n",
    "plt.yticks(range(len(corr.columns)), corr.columns)"
   ]
  },
  {
   "cell_type": "code",
   "execution_count": null,
   "id": "charitable-exception",
   "metadata": {},
   "outputs": [],
   "source": [
    "corr"
   ]
  },
  {
   "cell_type": "markdown",
   "id": "forty-capitol",
   "metadata": {},
   "source": [
    "#### Splitting the data"
   ]
  },
  {
   "cell_type": "code",
   "execution_count": null,
   "id": "thousand-address",
   "metadata": {},
   "outputs": [],
   "source": [
    "feature_col_names = ['Temperature AVG', 'Relative Humidity AVG', 'Wind Speed Daily AVG', 'Wind Direction AVG', 'Solare Radiation AVG', 'Date']\n",
    "predict_col_name = ['SuccessRate']\n",
    "\n",
    "X = combined_data_slim[feature_col_names].values\n",
    "y = combined_data_slim[predict_col_name].values\n",
    "split_test_size = 0.3\n",
    "\n",
    "X_train_date, X_test_date, y_train, y_test = train_test_split(X, y, test_size=split_test_size, random_state=42)"
   ]
  },
  {
   "cell_type": "code",
   "execution_count": null,
   "id": "selective-soccer",
   "metadata": {},
   "outputs": [],
   "source": [
    "X_train = np.delete(X_train_date, 5, 1)\n",
    "X_test = np.delete(X_test_date, 5, 1)"
   ]
  },
  {
   "cell_type": "code",
   "execution_count": null,
   "id": "underlying-lease",
   "metadata": {},
   "outputs": [],
   "source": [
    "len(X_train)/len(combined_data_slim.index), len(X_test)/len(combined_data_slim.index)"
   ]
  },
  {
   "cell_type": "code",
   "execution_count": null,
   "id": "metric-scenario",
   "metadata": {},
   "outputs": [],
   "source": [
    "np.mean(y_train), np.mean(y_test)"
   ]
  },
  {
   "cell_type": "markdown",
   "id": "informational-australia",
   "metadata": {},
   "source": [
    "#### Traning and Testing Algorithm"
   ]
  },
  {
   "cell_type": "code",
   "execution_count": null,
   "id": "future-gravity",
   "metadata": {},
   "outputs": [],
   "source": [
    "regr = linear_model.LinearRegression()\n",
    "regr.fit(X_train, y_train)"
   ]
  },
  {
   "cell_type": "code",
   "execution_count": null,
   "id": "furnished-chance",
   "metadata": {},
   "outputs": [],
   "source": [
    "regr.coef_"
   ]
  },
  {
   "cell_type": "code",
   "execution_count": null,
   "id": "dependent-excerpt",
   "metadata": {},
   "outputs": [],
   "source": [
    "predict_train = regr.predict(X_train)\n",
    "predict_test = regr.predict(X_test)"
   ]
  },
  {
   "cell_type": "code",
   "execution_count": null,
   "id": "sapphire-circle",
   "metadata": {},
   "outputs": [],
   "source": [
    "regr.score(X_train, y_train)"
   ]
  },
  {
   "cell_type": "code",
   "execution_count": null,
   "id": "dental-spouse",
   "metadata": {},
   "outputs": [],
   "source": [
    "regr.score(X_test, y_test)"
   ]
  },
  {
   "cell_type": "code",
   "execution_count": null,
   "id": "electronic-overhead",
   "metadata": {},
   "outputs": [],
   "source": [
    "alphas = np.logspace(-4, 0, 12)\n",
    "alphas\n"
   ]
  },
  {
   "cell_type": "code",
   "execution_count": null,
   "id": "republican-civilian",
   "metadata": {},
   "outputs": [],
   "source": [
    "regr = linear_model.Lasso()\n",
    "scores = [regr.set_params(alpha=alpha)\n",
    "              .fit(X_train, y_train)\n",
    "              .score(X_test, y_test)\n",
    "          for alpha in alphas]\n",
    "best_alpha = alphas[scores.index(max(scores))]\n",
    "regr.alpha = best_alpha\n",
    "regr.fit(X_train, y_train)"
   ]
  },
  {
   "cell_type": "code",
   "execution_count": null,
   "id": "center-adelaide",
   "metadata": {},
   "outputs": [],
   "source": [
    "regr.score(X_train, y_train)"
   ]
  },
  {
   "cell_type": "code",
   "execution_count": null,
   "id": "descending-intranet",
   "metadata": {},
   "outputs": [],
   "source": [
    "regr.score(X_test, y_test)\n"
   ]
  },
  {
   "cell_type": "code",
   "execution_count": null,
   "id": "ceramic-diploma",
   "metadata": {},
   "outputs": [],
   "source": [
    "regr.coef_"
   ]
  },
  {
   "cell_type": "markdown",
   "id": "smooth-checklist",
   "metadata": {},
   "source": [
    "#### plotting predictions and actuals"
   ]
  },
  {
   "cell_type": "code",
   "execution_count": null,
   "id": "buried-warner",
   "metadata": {},
   "outputs": [],
   "source": [
    "test_results = pd. DataFrame(X_test_date, columns=['Temperature AVG', 'Relative Humidity AVG', 'Wind Speed Daily AVG', 'Wind Direction AVG', 'Solare Radiation AVG', 'Date']) \n",
    "test_results.head()"
   ]
  },
  {
   "cell_type": "code",
   "execution_count": null,
   "id": "dental-pointer",
   "metadata": {},
   "outputs": [],
   "source": [
    "test_results['SuccessRate'] = y_test"
   ]
  },
  {
   "cell_type": "code",
   "execution_count": null,
   "id": "sensitive-happiness",
   "metadata": {},
   "outputs": [],
   "source": [
    "test_results['SuccessRatePrediction'] = predict_test"
   ]
  },
  {
   "cell_type": "code",
   "execution_count": null,
   "id": "elect-seller",
   "metadata": {},
   "outputs": [],
   "source": [
    "test_results = test_results.set_index('Date').sort_index()"
   ]
  },
  {
   "cell_type": "code",
   "execution_count": null,
   "id": "warming-evolution",
   "metadata": {},
   "outputs": [],
   "source": [
    "test_results.head()"
   ]
  },
  {
   "cell_type": "code",
   "execution_count": null,
   "id": "touched-details",
   "metadata": {},
   "outputs": [],
   "source": [
    "test_resultsA = test_results.loc[:'2015-04-01']\n",
    "test_resultsB = test_results.loc['2015-04-01':]"
   ]
  },
  {
   "cell_type": "code",
   "execution_count": null,
   "id": "disabled-waters",
   "metadata": {},
   "outputs": [],
   "source": [
    "test_resultsA[['SuccessRate', 'SuccessRatePrediction']].sort_values('Date', ascending = False).plot.bar(figsize=(40,6))\n",
    "plt.xlabel('Date')\n",
    "plt.title('Actual and Predicted Succes Rate over Time')\n"
   ]
  },
  {
   "cell_type": "code",
   "execution_count": null,
   "id": "negative-replication",
   "metadata": {},
   "outputs": [],
   "source": [
    "test_resultsB[['SuccessRate', 'SuccessRatePrediction']].sort_values('Date', ascending = False).plot.bar(figsize=(40,6))\n",
    "plt.xlabel('Date')\n",
    "plt.title('Actual and Predicted Succes Rate over Time')"
   ]
  },
  {
   "cell_type": "markdown",
   "id": "wanted-vegetation",
   "metadata": {},
   "source": [
    "#### Predicting with Algorithm"
   ]
  },
  {
   "cell_type": "code",
   "execution_count": null,
   "id": "manual-backing",
   "metadata": {},
   "outputs": [],
   "source": [
    "new = weather_data[(weather_data['Date'] > '2015-11-27')]"
   ]
  },
  {
   "cell_type": "code",
   "execution_count": null,
   "id": "outside-stopping",
   "metadata": {},
   "outputs": [],
   "source": [
    "X_new_date = new[feature_col_names].values"
   ]
  },
  {
   "cell_type": "code",
   "execution_count": null,
   "id": "renewable-projector",
   "metadata": {},
   "outputs": [],
   "source": [
    "X_new = np.delete(X_new_date, 5, 1)"
   ]
  },
  {
   "cell_type": "code",
   "execution_count": null,
   "id": "fatty-poker",
   "metadata": {},
   "outputs": [],
   "source": [
    "predict_new = regr.predict(X_new)"
   ]
  },
  {
   "cell_type": "code",
   "execution_count": null,
   "id": "fuzzy-currency",
   "metadata": {},
   "outputs": [],
   "source": [
    "predict_test.shape"
   ]
  },
  {
   "cell_type": "code",
   "execution_count": null,
   "id": "leading-wireless",
   "metadata": {},
   "outputs": [],
   "source": [
    "new.shape"
   ]
  },
  {
   "cell_type": "code",
   "execution_count": null,
   "id": "prescribed-forge",
   "metadata": {},
   "outputs": [],
   "source": [
    "new['SuccessRatePrediction'] = predict_new"
   ]
  },
  {
   "cell_type": "code",
   "execution_count": null,
   "id": "weekly-interview",
   "metadata": {},
   "outputs": [],
   "source": [
    "new.head()"
   ]
  },
  {
   "cell_type": "code",
   "execution_count": null,
   "id": "homeless-angle",
   "metadata": {},
   "outputs": [],
   "source": [
    "new = new.set_index('Date')"
   ]
  },
  {
   "cell_type": "code",
   "execution_count": null,
   "id": "arranged-singer",
   "metadata": {},
   "outputs": [],
   "source": [
    "new = new[['SuccessRatePrediction']]"
   ]
  },
  {
   "cell_type": "code",
   "execution_count": null,
   "id": "apparent-survey",
   "metadata": {},
   "outputs": [],
   "source": [
    "new"
   ]
  },
  {
   "cell_type": "code",
   "execution_count": null,
   "id": "greatest-documentary",
   "metadata": {},
   "outputs": [],
   "source": [
    "new.plot()\n",
    "plt.ylabel('Success Rate')\n",
    "plt.title('Success Rate Prediction 28-NOV-2015 through 31-DEC-2015', fontsize=18)"
   ]
  },
  {
   "cell_type": "code",
   "execution_count": null,
   "id": "equipped-ideal",
   "metadata": {},
   "outputs": [],
   "source": []
  }
 ],
 "metadata": {
  "kernelspec": {
   "display_name": "Python 3",
   "language": "python",
   "name": "python3"
  },
  "language_info": {
   "codemirror_mode": {
    "name": "ipython",
    "version": 3
   },
   "file_extension": ".py",
   "mimetype": "text/x-python",
   "name": "python",
   "nbconvert_exporter": "python",
   "pygments_lexer": "ipython3",
   "version": "3.8.5"
  }
 },
 "nbformat": 4,
 "nbformat_minor": 5
}
