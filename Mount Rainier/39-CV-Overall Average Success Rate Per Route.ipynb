{
 "cells": [
  {
   "cell_type": "markdown",
   "id": "sticky-margin",
   "metadata": {},
   "source": [
    "# Imports"
   ]
  },
  {
   "cell_type": "code",
   "execution_count": 1,
   "id": "minimal-harbor",
   "metadata": {},
   "outputs": [],
   "source": [
    "import pandas as pd\n",
    "import numpy as np\n",
    "import matplotlib as mpl\n",
    "from matplotlib import pyplot as plt\n",
    "import matplotlib.patches as mpatches\n",
    "import scipy.stats as sp\n",
    "import seaborn as sns\n",
    "from statsmodels.tsa.seasonal import seasonal_decompose\n",
    "\n",
    "from statsmodels.tsa.stattools import adfuller, kpss\n",
    "\n",
    "from sklearn import linear_model\n",
    "from sklearn import metrics\n",
    "from sklearn.metrics import r2_score\n",
    "from sklearn.model_selection import train_test_split\n",
    "\n",
    "from scipy import signal"
   ]
  },
  {
   "cell_type": "markdown",
   "id": "passive-desire",
   "metadata": {},
   "source": [
    "# Load Data"
   ]
  },
  {
   "cell_type": "code",
   "execution_count": 2,
   "id": "conditional-begin",
   "metadata": {},
   "outputs": [
    {
     "data": {
      "text/html": [
       "<div>\n",
       "<style scoped>\n",
       "    .dataframe tbody tr th:only-of-type {\n",
       "        vertical-align: middle;\n",
       "    }\n",
       "\n",
       "    .dataframe tbody tr th {\n",
       "        vertical-align: top;\n",
       "    }\n",
       "\n",
       "    .dataframe thead th {\n",
       "        text-align: right;\n",
       "    }\n",
       "</style>\n",
       "<table border=\"1\" class=\"dataframe\">\n",
       "  <thead>\n",
       "    <tr style=\"text-align: right;\">\n",
       "      <th></th>\n",
       "      <th>Date</th>\n",
       "      <th>Route</th>\n",
       "      <th>Attempted</th>\n",
       "      <th>Succeeded</th>\n",
       "      <th>Success Percentage</th>\n",
       "    </tr>\n",
       "  </thead>\n",
       "  <tbody>\n",
       "    <tr>\n",
       "      <th>0</th>\n",
       "      <td>11/27/2015</td>\n",
       "      <td>Disappointment Cleaver</td>\n",
       "      <td>2</td>\n",
       "      <td>0</td>\n",
       "      <td>0.0</td>\n",
       "    </tr>\n",
       "    <tr>\n",
       "      <th>1</th>\n",
       "      <td>11/21/2015</td>\n",
       "      <td>Disappointment Cleaver</td>\n",
       "      <td>3</td>\n",
       "      <td>0</td>\n",
       "      <td>0.0</td>\n",
       "    </tr>\n",
       "    <tr>\n",
       "      <th>2</th>\n",
       "      <td>10/15/2015</td>\n",
       "      <td>Disappointment Cleaver</td>\n",
       "      <td>2</td>\n",
       "      <td>0</td>\n",
       "      <td>0.0</td>\n",
       "    </tr>\n",
       "    <tr>\n",
       "      <th>3</th>\n",
       "      <td>10/13/2015</td>\n",
       "      <td>Little Tahoma</td>\n",
       "      <td>8</td>\n",
       "      <td>0</td>\n",
       "      <td>0.0</td>\n",
       "    </tr>\n",
       "    <tr>\n",
       "      <th>4</th>\n",
       "      <td>10-09-15</td>\n",
       "      <td>Disappointment Cleaver</td>\n",
       "      <td>2</td>\n",
       "      <td>0</td>\n",
       "      <td>0.0</td>\n",
       "    </tr>\n",
       "  </tbody>\n",
       "</table>\n",
       "</div>"
      ],
      "text/plain": [
       "         Date                   Route  Attempted  Succeeded  \\\n",
       "0  11/27/2015  Disappointment Cleaver          2          0   \n",
       "1  11/21/2015  Disappointment Cleaver          3          0   \n",
       "2  10/15/2015  Disappointment Cleaver          2          0   \n",
       "3  10/13/2015           Little Tahoma          8          0   \n",
       "4    10-09-15  Disappointment Cleaver          2          0   \n",
       "\n",
       "   Success Percentage  \n",
       "0                 0.0  \n",
       "1                 0.0  \n",
       "2                 0.0  \n",
       "3                 0.0  \n",
       "4                 0.0  "
      ]
     },
     "execution_count": 2,
     "metadata": {},
     "output_type": "execute_result"
    }
   ],
   "source": [
    "climb_data = pd.read_csv(\"climbing_statistics.csv\")\n",
    "climb_data.head()"
   ]
  },
  {
   "cell_type": "markdown",
   "id": "actual-automation",
   "metadata": {},
   "source": [
    "# Data Exploration Climbing Statistics"
   ]
  },
  {
   "cell_type": "code",
   "execution_count": 3,
   "id": "dental-anniversary",
   "metadata": {},
   "outputs": [
    {
     "data": {
      "text/plain": [
       "Date                   object\n",
       "Route                  object\n",
       "Attempted               int64\n",
       "Succeeded               int64\n",
       "Success Percentage    float64\n",
       "dtype: object"
      ]
     },
     "execution_count": 3,
     "metadata": {},
     "output_type": "execute_result"
    }
   ],
   "source": [
    "climb_data.dtypes"
   ]
  },
  {
   "cell_type": "code",
   "execution_count": 4,
   "id": "champion-nitrogen",
   "metadata": {},
   "outputs": [
    {
     "data": {
      "text/plain": [
       "False"
      ]
     },
     "execution_count": 4,
     "metadata": {},
     "output_type": "execute_result"
    }
   ],
   "source": [
    "climb_data.isnull().values.any()"
   ]
  },
  {
   "cell_type": "code",
   "execution_count": 5,
   "id": "weird-restoration",
   "metadata": {},
   "outputs": [
    {
     "data": {
      "text/plain": [
       "(4077, 5)"
      ]
     },
     "execution_count": 5,
     "metadata": {},
     "output_type": "execute_result"
    }
   ],
   "source": [
    "climb_data.shape"
   ]
  },
  {
   "cell_type": "markdown",
   "id": "buried-flooring",
   "metadata": {},
   "source": [
    "The date is listed as an object datatype, but it will need to be converted to a datetime type for analysis."
   ]
  },
  {
   "cell_type": "code",
   "execution_count": 6,
   "id": "tough-austin",
   "metadata": {},
   "outputs": [
    {
     "data": {
      "text/plain": [
       "Date                  datetime64[ns]\n",
       "Route                         object\n",
       "Attempted                      int64\n",
       "Succeeded                      int64\n",
       "Success Percentage           float64\n",
       "dtype: object"
      ]
     },
     "execution_count": 6,
     "metadata": {},
     "output_type": "execute_result"
    }
   ],
   "source": [
    "climb_data['Date'] = pd.to_datetime(climb_data['Date'])\n",
    "climb_data.dtypes"
   ]
  },
  {
   "cell_type": "code",
   "execution_count": 7,
   "id": "subtle-caution",
   "metadata": {},
   "outputs": [
    {
     "data": {
      "text/plain": [
       "(Timestamp('2014-01-04 00:00:00'), Timestamp('2015-11-27 00:00:00'))"
      ]
     },
     "execution_count": 7,
     "metadata": {},
     "output_type": "execute_result"
    }
   ],
   "source": [
    "climb_data['Date'].min(), climb_data['Date'].max()\n",
    "#Start and end of date range"
   ]
  },
  {
   "cell_type": "code",
   "execution_count": 8,
   "id": "massive-chapter",
   "metadata": {},
   "outputs": [
    {
     "data": {
      "text/plain": [
       "693"
      ]
     },
     "execution_count": 8,
     "metadata": {},
     "output_type": "execute_result"
    }
   ],
   "source": [
    "(climb_data['Date'].max() - climb_data['Date'].min()).days +1\n",
    "# Number of days in data range"
   ]
  },
  {
   "cell_type": "code",
   "execution_count": 9,
   "id": "nervous-thing",
   "metadata": {},
   "outputs": [
    {
     "data": {
      "text/plain": [
       "391"
      ]
     },
     "execution_count": 9,
     "metadata": {},
     "output_type": "execute_result"
    }
   ],
   "source": [
    "climb_data['Date'].nunique()"
   ]
  },
  {
   "cell_type": "code",
   "execution_count": 10,
   "id": "rubber-flood",
   "metadata": {},
   "outputs": [
    {
     "data": {
      "text/plain": [
       "26"
      ]
     },
     "execution_count": 10,
     "metadata": {},
     "output_type": "execute_result"
    }
   ],
   "source": [
    "climb_data['Route'].nunique()"
   ]
  },
  {
   "cell_type": "code",
   "execution_count": 11,
   "id": "applied-tribute",
   "metadata": {},
   "outputs": [
    {
     "data": {
      "text/plain": [
       "['Curtis RIngraham Directge',\n",
       " 'Disappointment Cleaver',\n",
       " 'Edmonds HW',\n",
       " 'Emmons-Winthrop',\n",
       " \"Fuhrer's Finger\",\n",
       " 'Fuhrers Finger',\n",
       " 'Gibralter Chute',\n",
       " 'Gibralter Ledges',\n",
       " 'Ingraham Direct',\n",
       " 'Kautz Cleaver',\n",
       " 'Kautz Glacier',\n",
       " 'Kautz Headwall',\n",
       " 'Liberty RIngraham Directge',\n",
       " 'Liberty Wall',\n",
       " 'Little Tahoma',\n",
       " 'Mowich Face',\n",
       " 'Nisqually Glacier',\n",
       " 'Ptarmigan RIngraham Directge',\n",
       " 'Success Cleaver',\n",
       " 'Sunset Amphitheater',\n",
       " 'Sunset RIngraham Directge',\n",
       " 'Tahoma Cleaver',\n",
       " 'Tahoma Glacier',\n",
       " 'Unknown',\n",
       " 'Wilson Headwall',\n",
       " 'glacier only - no summit attempt']"
      ]
     },
     "execution_count": 11,
     "metadata": {},
     "output_type": "execute_result"
    }
   ],
   "source": [
    "sorted(climb_data['Route'].unique())"
   ]
  },
  {
   "cell_type": "markdown",
   "id": "aging-democracy",
   "metadata": {},
   "source": [
    "'Fuhrer's Finger' and 'Fuhrers Finger' refer to the same route, 'Fuhrer Finger'. Other duplicate sounding names refer to different routes.\n",
    "\n",
    "Note: 'Unknown' and 'glacier only - no summit attempt'. These may skew data."
   ]
  },
  {
   "cell_type": "code",
   "execution_count": 12,
   "id": "instant-possibility",
   "metadata": {},
   "outputs": [],
   "source": [
    "climb_data.loc[(climb_data.Route == 'Fuhrers Finger'), 'Route'] = 'Fuhrer Finger'\n",
    "climb_data.loc[(climb_data.Route == \"Fuhrer's Finger\"), 'Route'] = 'Fuhrer Finger'"
   ]
  },
  {
   "cell_type": "code",
   "execution_count": 13,
   "id": "amateur-canal",
   "metadata": {},
   "outputs": [
    {
     "data": {
      "text/plain": [
       "Disappointment Cleaver              2728\n",
       "Emmons-Winthrop                      632\n",
       "Kautz Glacier                        182\n",
       "Fuhrer Finger                         92\n",
       "Gibralter Ledges                      76\n",
       "Little Tahoma                         70\n",
       "Liberty RIngraham Directge            69\n",
       "glacier only - no summit attempt      66\n",
       "Ingraham Direct                       53\n",
       "Unknown                               32\n",
       "Ptarmigan RIngraham Directge          22\n",
       "Kautz Cleaver                         14\n",
       "Tahoma Glacier                        11\n",
       "Success Cleaver                        6\n",
       "Gibralter Chute                        5\n",
       "Mowich Face                            4\n",
       "Sunset RIngraham Directge              3\n",
       "Curtis RIngraham Directge              2\n",
       "Wilson Headwall                        2\n",
       "Nisqually Glacier                      2\n",
       "Edmonds HW                             2\n",
       "Tahoma Cleaver                         1\n",
       "Kautz Headwall                         1\n",
       "Liberty Wall                           1\n",
       "Sunset Amphitheater                    1\n",
       "Name: Route, dtype: int64"
      ]
     },
     "execution_count": 13,
     "metadata": {},
     "output_type": "execute_result"
    }
   ],
   "source": [
    "climb_data.Route.value_counts()\n",
    "# Disappointment Cleaver by far the most popular going by number of parties."
   ]
  },
  {
   "cell_type": "code",
   "execution_count": 14,
   "id": "martial-coordinator",
   "metadata": {},
   "outputs": [
    {
     "data": {
      "text/plain": [
       "Text(0.5, 1.0, 'Number of Parties per Route')"
      ]
     },
     "execution_count": 14,
     "metadata": {},
     "output_type": "execute_result"
    },
    {
     "data": {
      "image/png": "[encoded data removed]",
      "text/plain": [
       "<Figure size 1080x432 with 1 Axes>"
      ]
     },
     "metadata": {
      "needs_background": "light"
     },
     "output_type": "display_data"
    }
   ],
   "source": [
    "climb_data.Route.value_counts().plot(kind='bar', figsize=(15,6))\n",
    "plt.ylabel('Number of Parties')\n",
    "plt.xlabel('Route')\n",
    "plt.title('Number of Parties per Route')"
   ]
  },
  {
   "cell_type": "code",
   "execution_count": 15,
   "id": "level-relation",
   "metadata": {},
   "outputs": [
    {
     "data": {
      "text/html": [
       "<div>\n",
       "<style scoped>\n",
       "    .dataframe tbody tr th:only-of-type {\n",
       "        vertical-align: middle;\n",
       "    }\n",
       "\n",
       "    .dataframe tbody tr th {\n",
       "        vertical-align: top;\n",
       "    }\n",
       "\n",
       "    .dataframe thead th {\n",
       "        text-align: right;\n",
       "    }\n",
       "</style>\n",
       "<table border=\"1\" class=\"dataframe\">\n",
       "  <thead>\n",
       "    <tr style=\"text-align: right;\">\n",
       "      <th></th>\n",
       "      <th>Date</th>\n",
       "      <th>Route</th>\n",
       "      <th>Attempted</th>\n",
       "      <th>Succeeded</th>\n",
       "      <th>Success Percentage</th>\n",
       "    </tr>\n",
       "  </thead>\n",
       "  <tbody>\n",
       "    <tr>\n",
       "      <th>0</th>\n",
       "      <td>2015-11-27</td>\n",
       "      <td>Disappointment Cleaver</td>\n",
       "      <td>2</td>\n",
       "      <td>0</td>\n",
       "      <td>0.0</td>\n",
       "    </tr>\n",
       "    <tr>\n",
       "      <th>1</th>\n",
       "      <td>2015-11-21</td>\n",
       "      <td>Disappointment Cleaver</td>\n",
       "      <td>3</td>\n",
       "      <td>0</td>\n",
       "      <td>0.0</td>\n",
       "    </tr>\n",
       "    <tr>\n",
       "      <th>2</th>\n",
       "      <td>2015-10-15</td>\n",
       "      <td>Disappointment Cleaver</td>\n",
       "      <td>2</td>\n",
       "      <td>0</td>\n",
       "      <td>0.0</td>\n",
       "    </tr>\n",
       "    <tr>\n",
       "      <th>3</th>\n",
       "      <td>2015-10-13</td>\n",
       "      <td>Little Tahoma</td>\n",
       "      <td>8</td>\n",
       "      <td>0</td>\n",
       "      <td>0.0</td>\n",
       "    </tr>\n",
       "    <tr>\n",
       "      <th>4</th>\n",
       "      <td>2015-10-09</td>\n",
       "      <td>Disappointment Cleaver</td>\n",
       "      <td>2</td>\n",
       "      <td>0</td>\n",
       "      <td>0.0</td>\n",
       "    </tr>\n",
       "  </tbody>\n",
       "</table>\n",
       "</div>"
      ],
      "text/plain": [
       "        Date                   Route  Attempted  Succeeded  Success Percentage\n",
       "0 2015-11-27  Disappointment Cleaver          2          0                 0.0\n",
       "1 2015-11-21  Disappointment Cleaver          3          0                 0.0\n",
       "2 2015-10-15  Disappointment Cleaver          2          0                 0.0\n",
       "3 2015-10-13           Little Tahoma          8          0                 0.0\n",
       "4 2015-10-09  Disappointment Cleaver          2          0                 0.0"
      ]
     },
     "execution_count": 15,
     "metadata": {},
     "output_type": "execute_result"
    }
   ],
   "source": [
    "climb_data.head()"
   ]
  },
  {
   "cell_type": "code",
   "execution_count": 16,
   "id": "lasting-slave",
   "metadata": {},
   "outputs": [
    {
     "data": {
      "text/html": [
       "<div>\n",
       "<style scoped>\n",
       "    .dataframe tbody tr th:only-of-type {\n",
       "        vertical-align: middle;\n",
       "    }\n",
       "\n",
       "    .dataframe tbody tr th {\n",
       "        vertical-align: top;\n",
       "    }\n",
       "\n",
       "    .dataframe thead th {\n",
       "        text-align: right;\n",
       "    }\n",
       "</style>\n",
       "<table border=\"1\" class=\"dataframe\">\n",
       "  <thead>\n",
       "    <tr style=\"text-align: right;\">\n",
       "      <th></th>\n",
       "      <th>Date</th>\n",
       "      <th>Route</th>\n",
       "      <th>Failed</th>\n",
       "      <th>Succeeded</th>\n",
       "      <th>Success Percentage</th>\n",
       "    </tr>\n",
       "  </thead>\n",
       "  <tbody>\n",
       "    <tr>\n",
       "      <th>0</th>\n",
       "      <td>2015-11-27</td>\n",
       "      <td>Disappointment Cleaver</td>\n",
       "      <td>2</td>\n",
       "      <td>0</td>\n",
       "      <td>0.0</td>\n",
       "    </tr>\n",
       "    <tr>\n",
       "      <th>1</th>\n",
       "      <td>2015-11-21</td>\n",
       "      <td>Disappointment Cleaver</td>\n",
       "      <td>3</td>\n",
       "      <td>0</td>\n",
       "      <td>0.0</td>\n",
       "    </tr>\n",
       "    <tr>\n",
       "      <th>2</th>\n",
       "      <td>2015-10-15</td>\n",
       "      <td>Disappointment Cleaver</td>\n",
       "      <td>2</td>\n",
       "      <td>0</td>\n",
       "      <td>0.0</td>\n",
       "    </tr>\n",
       "    <tr>\n",
       "      <th>3</th>\n",
       "      <td>2015-10-13</td>\n",
       "      <td>Little Tahoma</td>\n",
       "      <td>8</td>\n",
       "      <td>0</td>\n",
       "      <td>0.0</td>\n",
       "    </tr>\n",
       "    <tr>\n",
       "      <th>4</th>\n",
       "      <td>2015-10-09</td>\n",
       "      <td>Disappointment Cleaver</td>\n",
       "      <td>2</td>\n",
       "      <td>0</td>\n",
       "      <td>0.0</td>\n",
       "    </tr>\n",
       "  </tbody>\n",
       "</table>\n",
       "</div>"
      ],
      "text/plain": [
       "        Date                   Route  Failed  Succeeded  Success Percentage\n",
       "0 2015-11-27  Disappointment Cleaver       2          0                 0.0\n",
       "1 2015-11-21  Disappointment Cleaver       3          0                 0.0\n",
       "2 2015-10-15  Disappointment Cleaver       2          0                 0.0\n",
       "3 2015-10-13           Little Tahoma       8          0                 0.0\n",
       "4 2015-10-09  Disappointment Cleaver       2          0                 0.0"
      ]
     },
     "execution_count": 16,
     "metadata": {},
     "output_type": "execute_result"
    }
   ],
   "source": [
    "climb_data.rename(columns={'Attempted': 'Failed'}, inplace=True)\n",
    "climb_data.head()"
   ]
  },
  {
   "cell_type": "code",
   "execution_count": 17,
   "id": "governing-economy",
   "metadata": {},
   "outputs": [
    {
     "data": {
      "text/plain": [
       "(1, 26)"
      ]
     },
     "execution_count": 17,
     "metadata": {},
     "output_type": "execute_result"
    }
   ],
   "source": [
    "climb_data['Failed'].min(), climb_data['Failed'].max()\n",
    "#Range of Failed"
   ]
  },
  {
   "cell_type": "code",
   "execution_count": 18,
   "id": "academic-joseph",
   "metadata": {},
   "outputs": [
    {
     "data": {
      "text/plain": [
       "(0, 71)"
      ]
     },
     "execution_count": 18,
     "metadata": {},
     "output_type": "execute_result"
    }
   ],
   "source": [
    "climb_data['Succeeded'].min(), climb_data['Succeeded'].max()\n",
    "#Range of Succeeded"
   ]
  },
  {
   "cell_type": "code",
   "execution_count": 19,
   "id": "convertible-nylon",
   "metadata": {},
   "outputs": [],
   "source": [
    "climb_data['Attempted'] = climb_data['Failed'] + climb_data['Succeeded']"
   ]
  },
  {
   "cell_type": "code",
   "execution_count": 20,
   "id": "adjacent-organization",
   "metadata": {},
   "outputs": [
    {
     "data": {
      "text/plain": [
       "(1, 76)"
      ]
     },
     "execution_count": 20,
     "metadata": {},
     "output_type": "execute_result"
    }
   ],
   "source": [
    "climb_data['Attempted'].min(), climb_data['Attempted'].max()\n",
    "#Range of Attempted"
   ]
  },
  {
   "cell_type": "markdown",
   "id": "arranged-leadership",
   "metadata": {},
   "source": [
    "#### Check what the values in Success Percentage represent"
   ]
  },
  {
   "cell_type": "code",
   "execution_count": 21,
   "id": "ranging-witch",
   "metadata": {},
   "outputs": [],
   "source": [
    "climb_data['Temp'] = climb_data['Succeeded']/climb_data['Failed'] - climb_data['Success Percentage']"
   ]
  },
  {
   "cell_type": "code",
   "execution_count": 22,
   "id": "external-daughter",
   "metadata": {},
   "outputs": [
    {
     "data": {
      "text/plain": [
       "(-4.5454545682943603e-10, 4.545454013182848e-10)"
      ]
     },
     "execution_count": 22,
     "metadata": {},
     "output_type": "execute_result"
    }
   ],
   "source": [
    "climb_data['Temp'].min(), climb_data['Temp'].max()\n",
    "#Range of Temp"
   ]
  },
  {
   "cell_type": "code",
   "execution_count": 23,
   "id": "attractive-compression",
   "metadata": {},
   "outputs": [],
   "source": [
    "climb_data = climb_data.drop('Temp', 1)\n",
    "climb_data = climb_data.drop('Success Percentage', 1)\n"
   ]
  },
  {
   "cell_type": "markdown",
   "id": "registered-scheduling",
   "metadata": {},
   "source": [
    "#### Calculate Success Rate"
   ]
  },
  {
   "cell_type": "code",
   "execution_count": 24,
   "id": "lucky-bibliography",
   "metadata": {},
   "outputs": [],
   "source": [
    "# The column 'SuccessRate' has been calculated wrongly, since if gives the ratio between succeeded and failed attempts, not the percentage of succeeded attempts.\n",
    "climb_data['SuccessRate'] = climb_data['Succeeded']/climb_data['Attempted']"
   ]
  },
  {
   "cell_type": "code",
   "execution_count": 25,
   "id": "meaningful-strengthening",
   "metadata": {},
   "outputs": [
    {
     "data": {
      "text/plain": [
       "(0.0, 0.9342105263157895)"
      ]
     },
     "execution_count": 25,
     "metadata": {},
     "output_type": "execute_result"
    }
   ],
   "source": [
    "climb_data['SuccessRate'].min(), climb_data['SuccessRate'].max()\n",
    "#Range of SuccessRate"
   ]
  },
  {
   "cell_type": "code",
   "execution_count": 26,
   "id": "afraid-protest",
   "metadata": {},
   "outputs": [
    {
     "data": {
      "text/html": [
       "<div>\n",
       "<style scoped>\n",
       "    .dataframe tbody tr th:only-of-type {\n",
       "        vertical-align: middle;\n",
       "    }\n",
       "\n",
       "    .dataframe tbody tr th {\n",
       "        vertical-align: top;\n",
       "    }\n",
       "\n",
       "    .dataframe thead th {\n",
       "        text-align: right;\n",
       "    }\n",
       "</style>\n",
       "<table border=\"1\" class=\"dataframe\">\n",
       "  <thead>\n",
       "    <tr style=\"text-align: right;\">\n",
       "      <th></th>\n",
       "      <th>Date</th>\n",
       "      <th>Route</th>\n",
       "      <th>Failed</th>\n",
       "      <th>Succeeded</th>\n",
       "      <th>Attempted</th>\n",
       "      <th>SuccessRate</th>\n",
       "    </tr>\n",
       "  </thead>\n",
       "  <tbody>\n",
       "    <tr>\n",
       "      <th>0</th>\n",
       "      <td>2015-11-27</td>\n",
       "      <td>Disappointment Cleaver</td>\n",
       "      <td>2</td>\n",
       "      <td>0</td>\n",
       "      <td>2</td>\n",
       "      <td>0.0</td>\n",
       "    </tr>\n",
       "    <tr>\n",
       "      <th>1</th>\n",
       "      <td>2015-11-21</td>\n",
       "      <td>Disappointment Cleaver</td>\n",
       "      <td>3</td>\n",
       "      <td>0</td>\n",
       "      <td>3</td>\n",
       "      <td>0.0</td>\n",
       "    </tr>\n",
       "    <tr>\n",
       "      <th>2</th>\n",
       "      <td>2015-10-15</td>\n",
       "      <td>Disappointment Cleaver</td>\n",
       "      <td>2</td>\n",
       "      <td>0</td>\n",
       "      <td>2</td>\n",
       "      <td>0.0</td>\n",
       "    </tr>\n",
       "    <tr>\n",
       "      <th>3</th>\n",
       "      <td>2015-10-13</td>\n",
       "      <td>Little Tahoma</td>\n",
       "      <td>8</td>\n",
       "      <td>0</td>\n",
       "      <td>8</td>\n",
       "      <td>0.0</td>\n",
       "    </tr>\n",
       "    <tr>\n",
       "      <th>4</th>\n",
       "      <td>2015-10-09</td>\n",
       "      <td>Disappointment Cleaver</td>\n",
       "      <td>2</td>\n",
       "      <td>0</td>\n",
       "      <td>2</td>\n",
       "      <td>0.0</td>\n",
       "    </tr>\n",
       "  </tbody>\n",
       "</table>\n",
       "</div>"
      ],
      "text/plain": [
       "        Date                   Route  Failed  Succeeded  Attempted  \\\n",
       "0 2015-11-27  Disappointment Cleaver       2          0          2   \n",
       "1 2015-11-21  Disappointment Cleaver       3          0          3   \n",
       "2 2015-10-15  Disappointment Cleaver       2          0          2   \n",
       "3 2015-10-13           Little Tahoma       8          0          8   \n",
       "4 2015-10-09  Disappointment Cleaver       2          0          2   \n",
       "\n",
       "   SuccessRate  \n",
       "0          0.0  \n",
       "1          0.0  \n",
       "2          0.0  \n",
       "3          0.0  \n",
       "4          0.0  "
      ]
     },
     "execution_count": 26,
     "metadata": {},
     "output_type": "execute_result"
    }
   ],
   "source": [
    "climb_data.head()"
   ]
  },
  {
   "cell_type": "markdown",
   "id": "retired-height",
   "metadata": {},
   "source": [
    "## Compare Routes"
   ]
  },
  {
   "cell_type": "code",
   "execution_count": 27,
   "id": "proper-treaty",
   "metadata": {},
   "outputs": [
    {
     "data": {
      "text/html": [
       "<div>\n",
       "<style scoped>\n",
       "    .dataframe tbody tr th:only-of-type {\n",
       "        vertical-align: middle;\n",
       "    }\n",
       "\n",
       "    .dataframe tbody tr th {\n",
       "        vertical-align: top;\n",
       "    }\n",
       "\n",
       "    .dataframe thead th {\n",
       "        text-align: right;\n",
       "    }\n",
       "</style>\n",
       "<table border=\"1\" class=\"dataframe\">\n",
       "  <thead>\n",
       "    <tr style=\"text-align: right;\">\n",
       "      <th></th>\n",
       "      <th>Failed</th>\n",
       "      <th>Succeeded</th>\n",
       "      <th>Attempted</th>\n",
       "    </tr>\n",
       "    <tr>\n",
       "      <th>Route</th>\n",
       "      <th></th>\n",
       "      <th></th>\n",
       "      <th></th>\n",
       "    </tr>\n",
       "  </thead>\n",
       "  <tbody>\n",
       "    <tr>\n",
       "      <th>Disappointment Cleaver</th>\n",
       "      <td>15259</td>\n",
       "      <td>8353</td>\n",
       "      <td>23612</td>\n",
       "    </tr>\n",
       "    <tr>\n",
       "      <th>Emmons-Winthrop</th>\n",
       "      <td>3048</td>\n",
       "      <td>1673</td>\n",
       "      <td>4721</td>\n",
       "    </tr>\n",
       "    <tr>\n",
       "      <th>Kautz Glacier</th>\n",
       "      <td>949</td>\n",
       "      <td>530</td>\n",
       "      <td>1479</td>\n",
       "    </tr>\n",
       "    <tr>\n",
       "      <th>Little Tahoma</th>\n",
       "      <td>296</td>\n",
       "      <td>135</td>\n",
       "      <td>431</td>\n",
       "    </tr>\n",
       "    <tr>\n",
       "      <th>Fuhrer Finger</th>\n",
       "      <td>273</td>\n",
       "      <td>88</td>\n",
       "      <td>361</td>\n",
       "    </tr>\n",
       "    <tr>\n",
       "      <th>Gibralter Ledges</th>\n",
       "      <td>199</td>\n",
       "      <td>58</td>\n",
       "      <td>257</td>\n",
       "    </tr>\n",
       "    <tr>\n",
       "      <th>Liberty RIngraham Directge</th>\n",
       "      <td>165</td>\n",
       "      <td>82</td>\n",
       "      <td>247</td>\n",
       "    </tr>\n",
       "    <tr>\n",
       "      <th>Ingraham Direct</th>\n",
       "      <td>225</td>\n",
       "      <td>16</td>\n",
       "      <td>241</td>\n",
       "    </tr>\n",
       "    <tr>\n",
       "      <th>glacier only - no summit attempt</th>\n",
       "      <td>187</td>\n",
       "      <td>15</td>\n",
       "      <td>202</td>\n",
       "    </tr>\n",
       "    <tr>\n",
       "      <th>Unknown</th>\n",
       "      <td>131</td>\n",
       "      <td>30</td>\n",
       "      <td>161</td>\n",
       "    </tr>\n",
       "    <tr>\n",
       "      <th>Ptarmigan RIngraham Directge</th>\n",
       "      <td>57</td>\n",
       "      <td>29</td>\n",
       "      <td>86</td>\n",
       "    </tr>\n",
       "    <tr>\n",
       "      <th>Kautz Cleaver</th>\n",
       "      <td>51</td>\n",
       "      <td>16</td>\n",
       "      <td>67</td>\n",
       "    </tr>\n",
       "    <tr>\n",
       "      <th>Tahoma Glacier</th>\n",
       "      <td>33</td>\n",
       "      <td>11</td>\n",
       "      <td>44</td>\n",
       "    </tr>\n",
       "    <tr>\n",
       "      <th>Success Cleaver</th>\n",
       "      <td>16</td>\n",
       "      <td>7</td>\n",
       "      <td>23</td>\n",
       "    </tr>\n",
       "    <tr>\n",
       "      <th>Gibralter Chute</th>\n",
       "      <td>13</td>\n",
       "      <td>2</td>\n",
       "      <td>15</td>\n",
       "    </tr>\n",
       "    <tr>\n",
       "      <th>Nisqually Glacier</th>\n",
       "      <td>14</td>\n",
       "      <td>0</td>\n",
       "      <td>14</td>\n",
       "    </tr>\n",
       "    <tr>\n",
       "      <th>Mowich Face</th>\n",
       "      <td>8</td>\n",
       "      <td>2</td>\n",
       "      <td>10</td>\n",
       "    </tr>\n",
       "    <tr>\n",
       "      <th>Sunset RIngraham Directge</th>\n",
       "      <td>6</td>\n",
       "      <td>0</td>\n",
       "      <td>6</td>\n",
       "    </tr>\n",
       "    <tr>\n",
       "      <th>Tahoma Cleaver</th>\n",
       "      <td>3</td>\n",
       "      <td>3</td>\n",
       "      <td>6</td>\n",
       "    </tr>\n",
       "    <tr>\n",
       "      <th>Curtis RIngraham Directge</th>\n",
       "      <td>4</td>\n",
       "      <td>2</td>\n",
       "      <td>6</td>\n",
       "    </tr>\n",
       "    <tr>\n",
       "      <th>Wilson Headwall</th>\n",
       "      <td>5</td>\n",
       "      <td>0</td>\n",
       "      <td>5</td>\n",
       "    </tr>\n",
       "    <tr>\n",
       "      <th>Edmonds HW</th>\n",
       "      <td>4</td>\n",
       "      <td>0</td>\n",
       "      <td>4</td>\n",
       "    </tr>\n",
       "    <tr>\n",
       "      <th>Kautz Headwall</th>\n",
       "      <td>3</td>\n",
       "      <td>0</td>\n",
       "      <td>3</td>\n",
       "    </tr>\n",
       "    <tr>\n",
       "      <th>Sunset Amphitheater</th>\n",
       "      <td>2</td>\n",
       "      <td>0</td>\n",
       "      <td>2</td>\n",
       "    </tr>\n",
       "    <tr>\n",
       "      <th>Liberty Wall</th>\n",
       "      <td>2</td>\n",
       "      <td>0</td>\n",
       "      <td>2</td>\n",
       "    </tr>\n",
       "  </tbody>\n",
       "</table>\n",
       "</div>"
      ],
      "text/plain": [
       "                                  Failed  Succeeded  Attempted\n",
       "Route                                                         \n",
       "Disappointment Cleaver             15259       8353      23612\n",
       "Emmons-Winthrop                     3048       1673       4721\n",
       "Kautz Glacier                        949        530       1479\n",
       "Little Tahoma                        296        135        431\n",
       "Fuhrer Finger                        273         88        361\n",
       "Gibralter Ledges                     199         58        257\n",
       "Liberty RIngraham Directge           165         82        247\n",
       "Ingraham Direct                      225         16        241\n",
       "glacier only - no summit attempt     187         15        202\n",
       "Unknown                              131         30        161\n",
       "Ptarmigan RIngraham Directge          57         29         86\n",
       "Kautz Cleaver                         51         16         67\n",
       "Tahoma Glacier                        33         11         44\n",
       "Success Cleaver                       16          7         23\n",
       "Gibralter Chute                       13          2         15\n",
       "Nisqually Glacier                     14          0         14\n",
       "Mowich Face                            8          2         10\n",
       "Sunset RIngraham Directge              6          0          6\n",
       "Tahoma Cleaver                         3          3          6\n",
       "Curtis RIngraham Directge              4          2          6\n",
       "Wilson Headwall                        5          0          5\n",
       "Edmonds HW                             4          0          4\n",
       "Kautz Headwall                         3          0          3\n",
       "Sunset Amphitheater                    2          0          2\n",
       "Liberty Wall                           2          0          2"
      ]
     },
     "execution_count": 27,
     "metadata": {},
     "output_type": "execute_result"
    }
   ],
   "source": [
    "climb_data.groupby(['Route']).sum()[['Failed', 'Succeeded', 'Attempted']].sort_values('Attempted', ascending = False).head(25)"
   ]
  },
  {
   "cell_type": "code",
   "execution_count": 28,
   "id": "available-timber",
   "metadata": {
    "scrolled": false
   },
   "outputs": [
    {
     "data": {
      "text/plain": [
       "Text(0, 0.5, 'Count')"
      ]
     },
     "execution_count": 28,
     "metadata": {},
     "output_type": "execute_result"
    },
    {
     "data": {
      "image/png": "[encoded data removed]",
      "text/plain": [
       "<Figure size 1080x432 with 1 Axes>"
      ]
     },
     "metadata": {
      "needs_background": "light"
     },
     "output_type": "display_data"
    }
   ],
   "source": [
    "climb_data.groupby(['Route']).sum()[['Attempted', 'Failed', 'Succeeded']].sort_values('Attempted', ascending = False).plot.bar(figsize=(15,6))\n",
    "plt.xlabel('Route')\n",
    "plt.title('Number of Attempted, Failed and Succeded per Route', fontsize=18)\n",
    "plt.xlabel('')\n",
    "plt.ylabel('Count')\n",
    "\n",
    "#Disappointment Cleaver by far the most popular route going by individual attempts, successes or failures.\n",
    "#Unknown attempts neglibible considering the total number of attempts, successes or failures"
   ]
  },
  {
   "cell_type": "code",
   "execution_count": 29,
   "id": "shared-extension",
   "metadata": {},
   "outputs": [
    {
     "data": {
      "text/plain": [
       "<AxesSubplot:xlabel='Route'>"
      ]
     },
     "execution_count": 29,
     "metadata": {},
     "output_type": "execute_result"
    },
    {
     "data": {
      "image/png": "[encoded data removed]",
      "text/plain": [
       "<Figure size 1440x432 with 1 Axes>"
      ]
     },
     "metadata": {
      "needs_background": "light"
     },
     "output_type": "display_data"
    }
   ],
   "source": [
    "climb_data.groupby(['Route']).sum()[['Succeeded', 'Failed']].sort_values('Succeeded', ascending = False).plot.bar(stacked=True, figsize=(20,6))\n"
   ]
  },
  {
   "cell_type": "code",
   "execution_count": 30,
   "id": "banned-transsexual",
   "metadata": {},
   "outputs": [
    {
     "data": {
      "text/plain": [
       "<AxesSubplot:xlabel='Route'>"
      ]
     },
     "execution_count": 30,
     "metadata": {},
     "output_type": "execute_result"
    },
    {
     "data": {
      "image/png": "[encoded data removed]",
      "text/plain": [
       "<Figure size 1080x432 with 1 Axes>"
      ]
     },
     "metadata": {
      "needs_background": "light"
     },
     "output_type": "display_data"
    }
   ],
   "source": [
    "climb_data.groupby(['Route']).sum()[['Succeeded', 'Failed']].apply(lambda r: r/r.sum(), axis=1).plot.bar(stacked=True, figsize=(15,6))"
   ]
  },
  {
   "cell_type": "code",
   "execution_count": 31,
   "id": "painful-sunset",
   "metadata": {},
   "outputs": [
    {
     "data": {
      "text/plain": [
       "Text(0.5, 1.0, 'Success Rate based on Individual Attempts')"
      ]
     },
     "execution_count": 31,
     "metadata": {},
     "output_type": "execute_result"
    },
    {
     "data": {
      "image/png": "[encoded data removed]",
      "text/plain": [
       "<Figure size 1080x432 with 1 Axes>"
      ]
     },
     "metadata": {
      "needs_background": "light"
     },
     "output_type": "display_data"
    }
   ],
   "source": [
    "# create new datafram in order to be able to sort on success rate.\n",
    "climb_data_route = climb_data.groupby(['Route']).sum()\n",
    "climb_data_route['SuccessRate'] = climb_data_route['Succeeded'] / climb_data_route['Attempted']\n",
    "\n",
    "ax = climb_data_route['SuccessRate'].sort_values(ascending = False).plot.bar(stacked=True, figsize=(15,6))\n",
    "ax.patches[0].set_facecolor('grey')\n",
    "ax.patches[1].set_facecolor('orange')\n",
    "ax.patches[2].set_facecolor('green')\n",
    "ax.patches[3].set_facecolor('purple')\n",
    "ax.patches[4].set_facecolor('red')\n",
    "\n",
    "plt.ylabel('Success Rate')\n",
    "plt.xlabel('')\n",
    "plt.title('Success Rate based on Individual Attempts', fontsize=18)"
   ]
  },
  {
   "cell_type": "code",
   "execution_count": 32,
   "id": "textile-domestic",
   "metadata": {},
   "outputs": [
    {
     "data": {
      "text/plain": [
       "Text(0.5, 1.0, 'Success Rate based on Parties')"
      ]
     },
     "execution_count": 32,
     "metadata": {},
     "output_type": "execute_result"
    },
    {
     "data": {
      "image/png": "[encoded data removed]",
      "text/plain": [
       "<Figure size 1080x432 with 1 Axes>"
      ]
     },
     "metadata": {
      "needs_background": "light"
     },
     "output_type": "display_data"
    }
   ],
   "source": [
    "ax = climb_data.groupby(['Route']).mean()[['SuccessRate']].sort_values('SuccessRate', ascending = False).plot.bar(stacked=True, figsize=(15,6), legend=False)\n",
    "ax.patches[0].set_facecolor('grey')\n",
    "ax.patches[1].set_facecolor('green')\n",
    "ax.patches[2].set_facecolor('purple')\n",
    "ax.patches[3].set_facecolor('orange')\n",
    "ax.patches[4].set_facecolor('red')\n",
    "\n",
    "plt.ylabel('Success Rate')\n",
    "plt.xlabel('')\n",
    "plt.title('Success Rate based on Parties', fontsize=18)"
   ]
  },
  {
   "cell_type": "code",
   "execution_count": 33,
   "id": "beautiful-newspaper",
   "metadata": {},
   "outputs": [],
   "source": [
    "climb_data_agg = climb_data.groupby(['Route', 'Date'], as_index=False).sum()\n",
    "climb_data_agg['SuccessRate'] = climb_data_agg['Succeeded'] / climb_data_agg['Attempted']"
   ]
  },
  {
   "cell_type": "code",
   "execution_count": 34,
   "id": "optional-ordinance",
   "metadata": {},
   "outputs": [
    {
     "data": {
      "text/html": [
       "<div>\n",
       "<style scoped>\n",
       "    .dataframe tbody tr th:only-of-type {\n",
       "        vertical-align: middle;\n",
       "    }\n",
       "\n",
       "    .dataframe tbody tr th {\n",
       "        vertical-align: top;\n",
       "    }\n",
       "\n",
       "    .dataframe thead th {\n",
       "        text-align: right;\n",
       "    }\n",
       "</style>\n",
       "<table border=\"1\" class=\"dataframe\">\n",
       "  <thead>\n",
       "    <tr style=\"text-align: right;\">\n",
       "      <th></th>\n",
       "      <th>Route</th>\n",
       "      <th>Date</th>\n",
       "      <th>Failed</th>\n",
       "      <th>Succeeded</th>\n",
       "      <th>Attempted</th>\n",
       "      <th>SuccessRate</th>\n",
       "    </tr>\n",
       "  </thead>\n",
       "  <tbody>\n",
       "    <tr>\n",
       "      <th>0</th>\n",
       "      <td>Curtis RIngraham Directge</td>\n",
       "      <td>2015-05-29</td>\n",
       "      <td>2</td>\n",
       "      <td>0</td>\n",
       "      <td>2</td>\n",
       "      <td>0.000000</td>\n",
       "    </tr>\n",
       "    <tr>\n",
       "      <th>1</th>\n",
       "      <td>Curtis RIngraham Directge</td>\n",
       "      <td>2015-06-12</td>\n",
       "      <td>2</td>\n",
       "      <td>2</td>\n",
       "      <td>4</td>\n",
       "      <td>0.500000</td>\n",
       "    </tr>\n",
       "    <tr>\n",
       "      <th>2</th>\n",
       "      <td>Disappointment Cleaver</td>\n",
       "      <td>2014-01-05</td>\n",
       "      <td>2</td>\n",
       "      <td>0</td>\n",
       "      <td>2</td>\n",
       "      <td>0.000000</td>\n",
       "    </tr>\n",
       "    <tr>\n",
       "      <th>3</th>\n",
       "      <td>Disappointment Cleaver</td>\n",
       "      <td>2014-01-06</td>\n",
       "      <td>16</td>\n",
       "      <td>0</td>\n",
       "      <td>16</td>\n",
       "      <td>0.000000</td>\n",
       "    </tr>\n",
       "    <tr>\n",
       "      <th>4</th>\n",
       "      <td>Disappointment Cleaver</td>\n",
       "      <td>2014-02-10</td>\n",
       "      <td>16</td>\n",
       "      <td>0</td>\n",
       "      <td>16</td>\n",
       "      <td>0.000000</td>\n",
       "    </tr>\n",
       "    <tr>\n",
       "      <th>5</th>\n",
       "      <td>Disappointment Cleaver</td>\n",
       "      <td>2014-02-22</td>\n",
       "      <td>5</td>\n",
       "      <td>0</td>\n",
       "      <td>5</td>\n",
       "      <td>0.000000</td>\n",
       "    </tr>\n",
       "    <tr>\n",
       "      <th>6</th>\n",
       "      <td>Disappointment Cleaver</td>\n",
       "      <td>2014-02-28</td>\n",
       "      <td>2</td>\n",
       "      <td>0</td>\n",
       "      <td>2</td>\n",
       "      <td>0.000000</td>\n",
       "    </tr>\n",
       "    <tr>\n",
       "      <th>7</th>\n",
       "      <td>Disappointment Cleaver</td>\n",
       "      <td>2014-03-10</td>\n",
       "      <td>17</td>\n",
       "      <td>13</td>\n",
       "      <td>30</td>\n",
       "      <td>0.433333</td>\n",
       "    </tr>\n",
       "    <tr>\n",
       "      <th>8</th>\n",
       "      <td>Disappointment Cleaver</td>\n",
       "      <td>2014-04-05</td>\n",
       "      <td>8</td>\n",
       "      <td>0</td>\n",
       "      <td>8</td>\n",
       "      <td>0.000000</td>\n",
       "    </tr>\n",
       "    <tr>\n",
       "      <th>9</th>\n",
       "      <td>Disappointment Cleaver</td>\n",
       "      <td>2014-04-13</td>\n",
       "      <td>13</td>\n",
       "      <td>0</td>\n",
       "      <td>13</td>\n",
       "      <td>0.000000</td>\n",
       "    </tr>\n",
       "    <tr>\n",
       "      <th>10</th>\n",
       "      <td>Disappointment Cleaver</td>\n",
       "      <td>2014-04-14</td>\n",
       "      <td>3</td>\n",
       "      <td>0</td>\n",
       "      <td>3</td>\n",
       "      <td>0.000000</td>\n",
       "    </tr>\n",
       "    <tr>\n",
       "      <th>11</th>\n",
       "      <td>Disappointment Cleaver</td>\n",
       "      <td>2014-04-26</td>\n",
       "      <td>3</td>\n",
       "      <td>0</td>\n",
       "      <td>3</td>\n",
       "      <td>0.000000</td>\n",
       "    </tr>\n",
       "    <tr>\n",
       "      <th>12</th>\n",
       "      <td>Disappointment Cleaver</td>\n",
       "      <td>2014-04-27</td>\n",
       "      <td>2</td>\n",
       "      <td>2</td>\n",
       "      <td>4</td>\n",
       "      <td>0.500000</td>\n",
       "    </tr>\n",
       "    <tr>\n",
       "      <th>13</th>\n",
       "      <td>Disappointment Cleaver</td>\n",
       "      <td>2014-04-28</td>\n",
       "      <td>2</td>\n",
       "      <td>0</td>\n",
       "      <td>2</td>\n",
       "      <td>0.000000</td>\n",
       "    </tr>\n",
       "    <tr>\n",
       "      <th>14</th>\n",
       "      <td>Disappointment Cleaver</td>\n",
       "      <td>2014-04-29</td>\n",
       "      <td>2</td>\n",
       "      <td>0</td>\n",
       "      <td>2</td>\n",
       "      <td>0.000000</td>\n",
       "    </tr>\n",
       "  </tbody>\n",
       "</table>\n",
       "</div>"
      ],
      "text/plain": [
       "                        Route       Date  Failed  Succeeded  Attempted  \\\n",
       "0   Curtis RIngraham Directge 2015-05-29       2          0          2   \n",
       "1   Curtis RIngraham Directge 2015-06-12       2          2          4   \n",
       "2      Disappointment Cleaver 2014-01-05       2          0          2   \n",
       "3      Disappointment Cleaver 2014-01-06      16          0         16   \n",
       "4      Disappointment Cleaver 2014-02-10      16          0         16   \n",
       "5      Disappointment Cleaver 2014-02-22       5          0          5   \n",
       "6      Disappointment Cleaver 2014-02-28       2          0          2   \n",
       "7      Disappointment Cleaver 2014-03-10      17         13         30   \n",
       "8      Disappointment Cleaver 2014-04-05       8          0          8   \n",
       "9      Disappointment Cleaver 2014-04-13      13          0         13   \n",
       "10     Disappointment Cleaver 2014-04-14       3          0          3   \n",
       "11     Disappointment Cleaver 2014-04-26       3          0          3   \n",
       "12     Disappointment Cleaver 2014-04-27       2          2          4   \n",
       "13     Disappointment Cleaver 2014-04-28       2          0          2   \n",
       "14     Disappointment Cleaver 2014-04-29       2          0          2   \n",
       "\n",
       "    SuccessRate  \n",
       "0      0.000000  \n",
       "1      0.500000  \n",
       "2      0.000000  \n",
       "3      0.000000  \n",
       "4      0.000000  \n",
       "5      0.000000  \n",
       "6      0.000000  \n",
       "7      0.433333  \n",
       "8      0.000000  \n",
       "9      0.000000  \n",
       "10     0.000000  \n",
       "11     0.000000  \n",
       "12     0.500000  \n",
       "13     0.000000  \n",
       "14     0.000000  "
      ]
     },
     "execution_count": 34,
     "metadata": {},
     "output_type": "execute_result"
    }
   ],
   "source": [
    "climb_data_agg.head(15)"
   ]
  },
  {
   "cell_type": "code",
   "execution_count": 35,
   "id": "helpful-presence",
   "metadata": {},
   "outputs": [
    {
     "data": {
      "text/plain": [
       "Text(0.5, 1.0, 'Success Rate based on Daily Success Rates')"
      ]
     },
     "execution_count": 35,
     "metadata": {},
     "output_type": "execute_result"
    },
    {
     "data": {
      "image/png": "[encoded data removed]",
      "text/plain": [
       "<Figure size 1080x432 with 1 Axes>"
      ]
     },
     "metadata": {
      "needs_background": "light"
     },
     "output_type": "display_data"
    }
   ],
   "source": [
    "ax = climb_data_agg.groupby(['Route']).mean()[['SuccessRate']].sort_values('SuccessRate', ascending = False).plot.bar(stacked=True, figsize=(15,6), legend=False)\n",
    "ax.patches[0].set_facecolor('grey')\n",
    "ax.patches[1].set_facecolor('red')\n",
    "ax.patches[2].set_facecolor('purple')\n",
    "ax.patches[3].set_facecolor('orange')\n",
    "ax.patches[5].set_facecolor('green')\n",
    "plt.ylabel('Success Rate')\n",
    "plt.xlabel('')\n",
    "plt.title('Success Rate based on Daily Success Rates', fontsize=18)"
   ]
  },
  {
   "cell_type": "code",
   "execution_count": 36,
   "id": "dominican-conjunction",
   "metadata": {},
   "outputs": [
    {
     "data": {
      "text/html": [
       "<div>\n",
       "<style scoped>\n",
       "    .dataframe tbody tr th:only-of-type {\n",
       "        vertical-align: middle;\n",
       "    }\n",
       "\n",
       "    .dataframe tbody tr th {\n",
       "        vertical-align: top;\n",
       "    }\n",
       "\n",
       "    .dataframe thead th {\n",
       "        text-align: right;\n",
       "    }\n",
       "</style>\n",
       "<table border=\"1\" class=\"dataframe\">\n",
       "  <thead>\n",
       "    <tr style=\"text-align: right;\">\n",
       "      <th></th>\n",
       "      <th>Succeeded</th>\n",
       "      <th>Failed</th>\n",
       "    </tr>\n",
       "    <tr>\n",
       "      <th>Route</th>\n",
       "      <th></th>\n",
       "      <th></th>\n",
       "    </tr>\n",
       "  </thead>\n",
       "  <tbody>\n",
       "    <tr>\n",
       "      <th>Curtis RIngraham Directge</th>\n",
       "      <td>0.333333</td>\n",
       "      <td>0.666667</td>\n",
       "    </tr>\n",
       "    <tr>\n",
       "      <th>Disappointment Cleaver</th>\n",
       "      <td>0.353761</td>\n",
       "      <td>0.646239</td>\n",
       "    </tr>\n",
       "    <tr>\n",
       "      <th>Edmonds HW</th>\n",
       "      <td>0.000000</td>\n",
       "      <td>1.000000</td>\n",
       "    </tr>\n",
       "    <tr>\n",
       "      <th>Emmons-Winthrop</th>\n",
       "      <td>0.354374</td>\n",
       "      <td>0.645626</td>\n",
       "    </tr>\n",
       "    <tr>\n",
       "      <th>Fuhrer Finger</th>\n",
       "      <td>0.243767</td>\n",
       "      <td>0.756233</td>\n",
       "    </tr>\n",
       "    <tr>\n",
       "      <th>Gibralter Chute</th>\n",
       "      <td>0.133333</td>\n",
       "      <td>0.866667</td>\n",
       "    </tr>\n",
       "    <tr>\n",
       "      <th>Gibralter Ledges</th>\n",
       "      <td>0.225681</td>\n",
       "      <td>0.774319</td>\n",
       "    </tr>\n",
       "    <tr>\n",
       "      <th>Ingraham Direct</th>\n",
       "      <td>0.066390</td>\n",
       "      <td>0.933610</td>\n",
       "    </tr>\n",
       "    <tr>\n",
       "      <th>Kautz Cleaver</th>\n",
       "      <td>0.238806</td>\n",
       "      <td>0.761194</td>\n",
       "    </tr>\n",
       "    <tr>\n",
       "      <th>Kautz Glacier</th>\n",
       "      <td>0.358350</td>\n",
       "      <td>0.641650</td>\n",
       "    </tr>\n",
       "    <tr>\n",
       "      <th>Kautz Headwall</th>\n",
       "      <td>0.000000</td>\n",
       "      <td>1.000000</td>\n",
       "    </tr>\n",
       "    <tr>\n",
       "      <th>Liberty RIngraham Directge</th>\n",
       "      <td>0.331984</td>\n",
       "      <td>0.668016</td>\n",
       "    </tr>\n",
       "    <tr>\n",
       "      <th>Liberty Wall</th>\n",
       "      <td>0.000000</td>\n",
       "      <td>1.000000</td>\n",
       "    </tr>\n",
       "    <tr>\n",
       "      <th>Little Tahoma</th>\n",
       "      <td>0.313225</td>\n",
       "      <td>0.686775</td>\n",
       "    </tr>\n",
       "    <tr>\n",
       "      <th>Mowich Face</th>\n",
       "      <td>0.200000</td>\n",
       "      <td>0.800000</td>\n",
       "    </tr>\n",
       "    <tr>\n",
       "      <th>Nisqually Glacier</th>\n",
       "      <td>0.000000</td>\n",
       "      <td>1.000000</td>\n",
       "    </tr>\n",
       "    <tr>\n",
       "      <th>Ptarmigan RIngraham Directge</th>\n",
       "      <td>0.337209</td>\n",
       "      <td>0.662791</td>\n",
       "    </tr>\n",
       "    <tr>\n",
       "      <th>Success Cleaver</th>\n",
       "      <td>0.304348</td>\n",
       "      <td>0.695652</td>\n",
       "    </tr>\n",
       "    <tr>\n",
       "      <th>Sunset Amphitheater</th>\n",
       "      <td>0.000000</td>\n",
       "      <td>1.000000</td>\n",
       "    </tr>\n",
       "    <tr>\n",
       "      <th>Sunset RIngraham Directge</th>\n",
       "      <td>0.000000</td>\n",
       "      <td>1.000000</td>\n",
       "    </tr>\n",
       "    <tr>\n",
       "      <th>Tahoma Cleaver</th>\n",
       "      <td>0.500000</td>\n",
       "      <td>0.500000</td>\n",
       "    </tr>\n",
       "    <tr>\n",
       "      <th>Tahoma Glacier</th>\n",
       "      <td>0.250000</td>\n",
       "      <td>0.750000</td>\n",
       "    </tr>\n",
       "    <tr>\n",
       "      <th>Unknown</th>\n",
       "      <td>0.186335</td>\n",
       "      <td>0.813665</td>\n",
       "    </tr>\n",
       "    <tr>\n",
       "      <th>Wilson Headwall</th>\n",
       "      <td>0.000000</td>\n",
       "      <td>1.000000</td>\n",
       "    </tr>\n",
       "    <tr>\n",
       "      <th>glacier only - no summit attempt</th>\n",
       "      <td>0.074257</td>\n",
       "      <td>0.925743</td>\n",
       "    </tr>\n",
       "  </tbody>\n",
       "</table>\n",
       "</div>"
      ],
      "text/plain": [
       "                                  Succeeded    Failed\n",
       "Route                                                \n",
       "Curtis RIngraham Directge          0.333333  0.666667\n",
       "Disappointment Cleaver             0.353761  0.646239\n",
       "Edmonds HW                         0.000000  1.000000\n",
       "Emmons-Winthrop                    0.354374  0.645626\n",
       "Fuhrer Finger                      0.243767  0.756233\n",
       "Gibralter Chute                    0.133333  0.866667\n",
       "Gibralter Ledges                   0.225681  0.774319\n",
       "Ingraham Direct                    0.066390  0.933610\n",
       "Kautz Cleaver                      0.238806  0.761194\n",
       "Kautz Glacier                      0.358350  0.641650\n",
       "Kautz Headwall                     0.000000  1.000000\n",
       "Liberty RIngraham Directge         0.331984  0.668016\n",
       "Liberty Wall                       0.000000  1.000000\n",
       "Little Tahoma                      0.313225  0.686775\n",
       "Mowich Face                        0.200000  0.800000\n",
       "Nisqually Glacier                  0.000000  1.000000\n",
       "Ptarmigan RIngraham Directge       0.337209  0.662791\n",
       "Success Cleaver                    0.304348  0.695652\n",
       "Sunset Amphitheater                0.000000  1.000000\n",
       "Sunset RIngraham Directge          0.000000  1.000000\n",
       "Tahoma Cleaver                     0.500000  0.500000\n",
       "Tahoma Glacier                     0.250000  0.750000\n",
       "Unknown                            0.186335  0.813665\n",
       "Wilson Headwall                    0.000000  1.000000\n",
       "glacier only - no summit attempt   0.074257  0.925743"
      ]
     },
     "execution_count": 36,
     "metadata": {},
     "output_type": "execute_result"
    }
   ],
   "source": [
    "climb_data.groupby(['Route']).sum()[['Succeeded', 'Failed']].sort_values('Route', ascending = True).apply(lambda r: r/r.sum(), axis=1)"
   ]
  },
  {
   "cell_type": "code",
   "execution_count": 37,
   "id": "connected-incident",
   "metadata": {},
   "outputs": [
    {
     "data": {
      "text/html": [
       "<div>\n",
       "<style scoped>\n",
       "    .dataframe tbody tr th:only-of-type {\n",
       "        vertical-align: middle;\n",
       "    }\n",
       "\n",
       "    .dataframe tbody tr th {\n",
       "        vertical-align: top;\n",
       "    }\n",
       "\n",
       "    .dataframe thead th {\n",
       "        text-align: right;\n",
       "    }\n",
       "</style>\n",
       "<table border=\"1\" class=\"dataframe\">\n",
       "  <thead>\n",
       "    <tr style=\"text-align: right;\">\n",
       "      <th></th>\n",
       "      <th>Failed</th>\n",
       "      <th>Succeeded</th>\n",
       "      <th>Attempted</th>\n",
       "      <th>SuccessRate</th>\n",
       "    </tr>\n",
       "    <tr>\n",
       "      <th>Route</th>\n",
       "      <th></th>\n",
       "      <th></th>\n",
       "      <th></th>\n",
       "      <th></th>\n",
       "    </tr>\n",
       "  </thead>\n",
       "  <tbody>\n",
       "    <tr>\n",
       "      <th>Curtis RIngraham Directge</th>\n",
       "      <td>4</td>\n",
       "      <td>2</td>\n",
       "      <td>6</td>\n",
       "      <td>0.333333</td>\n",
       "    </tr>\n",
       "    <tr>\n",
       "      <th>Disappointment Cleaver</th>\n",
       "      <td>15259</td>\n",
       "      <td>8353</td>\n",
       "      <td>23612</td>\n",
       "      <td>0.353761</td>\n",
       "    </tr>\n",
       "    <tr>\n",
       "      <th>Edmonds HW</th>\n",
       "      <td>4</td>\n",
       "      <td>0</td>\n",
       "      <td>4</td>\n",
       "      <td>0.000000</td>\n",
       "    </tr>\n",
       "    <tr>\n",
       "      <th>Emmons-Winthrop</th>\n",
       "      <td>3048</td>\n",
       "      <td>1673</td>\n",
       "      <td>4721</td>\n",
       "      <td>0.354374</td>\n",
       "    </tr>\n",
       "    <tr>\n",
       "      <th>Fuhrer Finger</th>\n",
       "      <td>273</td>\n",
       "      <td>88</td>\n",
       "      <td>361</td>\n",
       "      <td>0.243767</td>\n",
       "    </tr>\n",
       "    <tr>\n",
       "      <th>Gibralter Chute</th>\n",
       "      <td>13</td>\n",
       "      <td>2</td>\n",
       "      <td>15</td>\n",
       "      <td>0.133333</td>\n",
       "    </tr>\n",
       "    <tr>\n",
       "      <th>Gibralter Ledges</th>\n",
       "      <td>199</td>\n",
       "      <td>58</td>\n",
       "      <td>257</td>\n",
       "      <td>0.225681</td>\n",
       "    </tr>\n",
       "    <tr>\n",
       "      <th>Ingraham Direct</th>\n",
       "      <td>225</td>\n",
       "      <td>16</td>\n",
       "      <td>241</td>\n",
       "      <td>0.066390</td>\n",
       "    </tr>\n",
       "    <tr>\n",
       "      <th>Kautz Cleaver</th>\n",
       "      <td>51</td>\n",
       "      <td>16</td>\n",
       "      <td>67</td>\n",
       "      <td>0.238806</td>\n",
       "    </tr>\n",
       "    <tr>\n",
       "      <th>Kautz Glacier</th>\n",
       "      <td>949</td>\n",
       "      <td>530</td>\n",
       "      <td>1479</td>\n",
       "      <td>0.358350</td>\n",
       "    </tr>\n",
       "    <tr>\n",
       "      <th>Kautz Headwall</th>\n",
       "      <td>3</td>\n",
       "      <td>0</td>\n",
       "      <td>3</td>\n",
       "      <td>0.000000</td>\n",
       "    </tr>\n",
       "    <tr>\n",
       "      <th>Liberty RIngraham Directge</th>\n",
       "      <td>165</td>\n",
       "      <td>82</td>\n",
       "      <td>247</td>\n",
       "      <td>0.331984</td>\n",
       "    </tr>\n",
       "    <tr>\n",
       "      <th>Liberty Wall</th>\n",
       "      <td>2</td>\n",
       "      <td>0</td>\n",
       "      <td>2</td>\n",
       "      <td>0.000000</td>\n",
       "    </tr>\n",
       "    <tr>\n",
       "      <th>Little Tahoma</th>\n",
       "      <td>296</td>\n",
       "      <td>135</td>\n",
       "      <td>431</td>\n",
       "      <td>0.313225</td>\n",
       "    </tr>\n",
       "    <tr>\n",
       "      <th>Mowich Face</th>\n",
       "      <td>8</td>\n",
       "      <td>2</td>\n",
       "      <td>10</td>\n",
       "      <td>0.200000</td>\n",
       "    </tr>\n",
       "    <tr>\n",
       "      <th>Nisqually Glacier</th>\n",
       "      <td>14</td>\n",
       "      <td>0</td>\n",
       "      <td>14</td>\n",
       "      <td>0.000000</td>\n",
       "    </tr>\n",
       "    <tr>\n",
       "      <th>Ptarmigan RIngraham Directge</th>\n",
       "      <td>57</td>\n",
       "      <td>29</td>\n",
       "      <td>86</td>\n",
       "      <td>0.337209</td>\n",
       "    </tr>\n",
       "    <tr>\n",
       "      <th>Success Cleaver</th>\n",
       "      <td>16</td>\n",
       "      <td>7</td>\n",
       "      <td>23</td>\n",
       "      <td>0.304348</td>\n",
       "    </tr>\n",
       "    <tr>\n",
       "      <th>Sunset Amphitheater</th>\n",
       "      <td>2</td>\n",
       "      <td>0</td>\n",
       "      <td>2</td>\n",
       "      <td>0.000000</td>\n",
       "    </tr>\n",
       "    <tr>\n",
       "      <th>Sunset RIngraham Directge</th>\n",
       "      <td>6</td>\n",
       "      <td>0</td>\n",
       "      <td>6</td>\n",
       "      <td>0.000000</td>\n",
       "    </tr>\n",
       "    <tr>\n",
       "      <th>Tahoma Cleaver</th>\n",
       "      <td>3</td>\n",
       "      <td>3</td>\n",
       "      <td>6</td>\n",
       "      <td>0.500000</td>\n",
       "    </tr>\n",
       "    <tr>\n",
       "      <th>Tahoma Glacier</th>\n",
       "      <td>33</td>\n",
       "      <td>11</td>\n",
       "      <td>44</td>\n",
       "      <td>0.250000</td>\n",
       "    </tr>\n",
       "    <tr>\n",
       "      <th>Unknown</th>\n",
       "      <td>131</td>\n",
       "      <td>30</td>\n",
       "      <td>161</td>\n",
       "      <td>0.186335</td>\n",
       "    </tr>\n",
       "    <tr>\n",
       "      <th>Wilson Headwall</th>\n",
       "      <td>5</td>\n",
       "      <td>0</td>\n",
       "      <td>5</td>\n",
       "      <td>0.000000</td>\n",
       "    </tr>\n",
       "    <tr>\n",
       "      <th>glacier only - no summit attempt</th>\n",
       "      <td>187</td>\n",
       "      <td>15</td>\n",
       "      <td>202</td>\n",
       "      <td>0.074257</td>\n",
       "    </tr>\n",
       "  </tbody>\n",
       "</table>\n",
       "</div>"
      ],
      "text/plain": [
       "                                  Failed  Succeeded  Attempted  SuccessRate\n",
       "Route                                                                      \n",
       "Curtis RIngraham Directge              4          2          6     0.333333\n",
       "Disappointment Cleaver             15259       8353      23612     0.353761\n",
       "Edmonds HW                             4          0          4     0.000000\n",
       "Emmons-Winthrop                     3048       1673       4721     0.354374\n",
       "Fuhrer Finger                        273         88        361     0.243767\n",
       "Gibralter Chute                       13          2         15     0.133333\n",
       "Gibralter Ledges                     199         58        257     0.225681\n",
       "Ingraham Direct                      225         16        241     0.066390\n",
       "Kautz Cleaver                         51         16         67     0.238806\n",
       "Kautz Glacier                        949        530       1479     0.358350\n",
       "Kautz Headwall                         3          0          3     0.000000\n",
       "Liberty RIngraham Directge           165         82        247     0.331984\n",
       "Liberty Wall                           2          0          2     0.000000\n",
       "Little Tahoma                        296        135        431     0.313225\n",
       "Mowich Face                            8          2         10     0.200000\n",
       "Nisqually Glacier                     14          0         14     0.000000\n",
       "Ptarmigan RIngraham Directge          57         29         86     0.337209\n",
       "Success Cleaver                       16          7         23     0.304348\n",
       "Sunset Amphitheater                    2          0          2     0.000000\n",
       "Sunset RIngraham Directge              6          0          6     0.000000\n",
       "Tahoma Cleaver                         3          3          6     0.500000\n",
       "Tahoma Glacier                        33         11         44     0.250000\n",
       "Unknown                              131         30        161     0.186335\n",
       "Wilson Headwall                        5          0          5     0.000000\n",
       "glacier only - no summit attempt     187         15        202     0.074257"
      ]
     },
     "execution_count": 37,
     "metadata": {},
     "output_type": "execute_result"
    }
   ],
   "source": [
    "climb_data_route"
   ]
  },
  {
   "cell_type": "code",
   "execution_count": 38,
   "id": "owned-peoples",
   "metadata": {},
   "outputs": [
    {
     "data": {
      "text/html": [
       "<div>\n",
       "<style scoped>\n",
       "    .dataframe tbody tr th:only-of-type {\n",
       "        vertical-align: middle;\n",
       "    }\n",
       "\n",
       "    .dataframe tbody tr th {\n",
       "        vertical-align: top;\n",
       "    }\n",
       "\n",
       "    .dataframe thead th {\n",
       "        text-align: right;\n",
       "    }\n",
       "</style>\n",
       "<table border=\"1\" class=\"dataframe\">\n",
       "  <thead>\n",
       "    <tr style=\"text-align: right;\">\n",
       "      <th></th>\n",
       "      <th>SuccessRate</th>\n",
       "    </tr>\n",
       "    <tr>\n",
       "      <th>Route</th>\n",
       "      <th></th>\n",
       "    </tr>\n",
       "  </thead>\n",
       "  <tbody>\n",
       "    <tr>\n",
       "      <th>Curtis RIngraham Directge</th>\n",
       "      <td>0.250000</td>\n",
       "    </tr>\n",
       "    <tr>\n",
       "      <th>Disappointment Cleaver</th>\n",
       "      <td>0.274620</td>\n",
       "    </tr>\n",
       "    <tr>\n",
       "      <th>Edmonds HW</th>\n",
       "      <td>0.000000</td>\n",
       "    </tr>\n",
       "    <tr>\n",
       "      <th>Emmons-Winthrop</th>\n",
       "      <td>0.276313</td>\n",
       "    </tr>\n",
       "    <tr>\n",
       "      <th>Fuhrer Finger</th>\n",
       "      <td>0.150906</td>\n",
       "    </tr>\n",
       "    <tr>\n",
       "      <th>Gibralter Chute</th>\n",
       "      <td>0.100000</td>\n",
       "    </tr>\n",
       "    <tr>\n",
       "      <th>Gibralter Ledges</th>\n",
       "      <td>0.136244</td>\n",
       "    </tr>\n",
       "    <tr>\n",
       "      <th>Ingraham Direct</th>\n",
       "      <td>0.066038</td>\n",
       "    </tr>\n",
       "    <tr>\n",
       "      <th>Kautz Cleaver</th>\n",
       "      <td>0.135714</td>\n",
       "    </tr>\n",
       "    <tr>\n",
       "      <th>Kautz Glacier</th>\n",
       "      <td>0.271060</td>\n",
       "    </tr>\n",
       "    <tr>\n",
       "      <th>Kautz Headwall</th>\n",
       "      <td>0.000000</td>\n",
       "    </tr>\n",
       "    <tr>\n",
       "      <th>Liberty RIngraham Directge</th>\n",
       "      <td>0.260870</td>\n",
       "    </tr>\n",
       "    <tr>\n",
       "      <th>Liberty Wall</th>\n",
       "      <td>0.000000</td>\n",
       "    </tr>\n",
       "    <tr>\n",
       "      <th>Little Tahoma</th>\n",
       "      <td>0.241519</td>\n",
       "    </tr>\n",
       "    <tr>\n",
       "      <th>Mowich Face</th>\n",
       "      <td>0.125000</td>\n",
       "    </tr>\n",
       "    <tr>\n",
       "      <th>Nisqually Glacier</th>\n",
       "      <td>0.000000</td>\n",
       "    </tr>\n",
       "    <tr>\n",
       "      <th>Ptarmigan RIngraham Directge</th>\n",
       "      <td>0.268182</td>\n",
       "    </tr>\n",
       "    <tr>\n",
       "      <th>Success Cleaver</th>\n",
       "      <td>0.250000</td>\n",
       "    </tr>\n",
       "    <tr>\n",
       "      <th>Sunset Amphitheater</th>\n",
       "      <td>0.000000</td>\n",
       "    </tr>\n",
       "    <tr>\n",
       "      <th>Sunset RIngraham Directge</th>\n",
       "      <td>0.000000</td>\n",
       "    </tr>\n",
       "    <tr>\n",
       "      <th>Tahoma Cleaver</th>\n",
       "      <td>0.500000</td>\n",
       "    </tr>\n",
       "    <tr>\n",
       "      <th>Tahoma Glacier</th>\n",
       "      <td>0.218182</td>\n",
       "    </tr>\n",
       "    <tr>\n",
       "      <th>Unknown</th>\n",
       "      <td>0.119792</td>\n",
       "    </tr>\n",
       "    <tr>\n",
       "      <th>Wilson Headwall</th>\n",
       "      <td>0.000000</td>\n",
       "    </tr>\n",
       "    <tr>\n",
       "      <th>glacier only - no summit attempt</th>\n",
       "      <td>0.022727</td>\n",
       "    </tr>\n",
       "  </tbody>\n",
       "</table>\n",
       "</div>"
      ],
      "text/plain": [
       "                                  SuccessRate\n",
       "Route                                        \n",
       "Curtis RIngraham Directge            0.250000\n",
       "Disappointment Cleaver               0.274620\n",
       "Edmonds HW                           0.000000\n",
       "Emmons-Winthrop                      0.276313\n",
       "Fuhrer Finger                        0.150906\n",
       "Gibralter Chute                      0.100000\n",
       "Gibralter Ledges                     0.136244\n",
       "Ingraham Direct                      0.066038\n",
       "Kautz Cleaver                        0.135714\n",
       "Kautz Glacier                        0.271060\n",
       "Kautz Headwall                       0.000000\n",
       "Liberty RIngraham Directge           0.260870\n",
       "Liberty Wall                         0.000000\n",
       "Little Tahoma                        0.241519\n",
       "Mowich Face                          0.125000\n",
       "Nisqually Glacier                    0.000000\n",
       "Ptarmigan RIngraham Directge         0.268182\n",
       "Success Cleaver                      0.250000\n",
       "Sunset Amphitheater                  0.000000\n",
       "Sunset RIngraham Directge            0.000000\n",
       "Tahoma Cleaver                       0.500000\n",
       "Tahoma Glacier                       0.218182\n",
       "Unknown                              0.119792\n",
       "Wilson Headwall                      0.000000\n",
       "glacier only - no summit attempt     0.022727"
      ]
     },
     "execution_count": 38,
     "metadata": {},
     "output_type": "execute_result"
    }
   ],
   "source": [
    "climb_data.groupby(['Route']).mean()[['SuccessRate']].sort_values('Route', ascending = True)"
   ]
  },
  {
   "cell_type": "code",
   "execution_count": 39,
   "id": "timely-momentum",
   "metadata": {},
   "outputs": [
    {
     "data": {
      "text/html": [
       "<div>\n",
       "<style scoped>\n",
       "    .dataframe tbody tr th:only-of-type {\n",
       "        vertical-align: middle;\n",
       "    }\n",
       "\n",
       "    .dataframe tbody tr th {\n",
       "        vertical-align: top;\n",
       "    }\n",
       "\n",
       "    .dataframe thead th {\n",
       "        text-align: right;\n",
       "    }\n",
       "</style>\n",
       "<table border=\"1\" class=\"dataframe\">\n",
       "  <thead>\n",
       "    <tr style=\"text-align: right;\">\n",
       "      <th></th>\n",
       "      <th>SuccessRate</th>\n",
       "    </tr>\n",
       "    <tr>\n",
       "      <th>Route</th>\n",
       "      <th></th>\n",
       "    </tr>\n",
       "  </thead>\n",
       "  <tbody>\n",
       "    <tr>\n",
       "      <th>Curtis RIngraham Directge</th>\n",
       "      <td>0.250000</td>\n",
       "    </tr>\n",
       "    <tr>\n",
       "      <th>Disappointment Cleaver</th>\n",
       "      <td>0.278210</td>\n",
       "    </tr>\n",
       "    <tr>\n",
       "      <th>Edmonds HW</th>\n",
       "      <td>0.000000</td>\n",
       "    </tr>\n",
       "    <tr>\n",
       "      <th>Emmons-Winthrop</th>\n",
       "      <td>0.251428</td>\n",
       "    </tr>\n",
       "    <tr>\n",
       "      <th>Fuhrer Finger</th>\n",
       "      <td>0.142679</td>\n",
       "    </tr>\n",
       "    <tr>\n",
       "      <th>Gibralter Chute</th>\n",
       "      <td>0.100000</td>\n",
       "    </tr>\n",
       "    <tr>\n",
       "      <th>Gibralter Ledges</th>\n",
       "      <td>0.143961</td>\n",
       "    </tr>\n",
       "    <tr>\n",
       "      <th>Ingraham Direct</th>\n",
       "      <td>0.048810</td>\n",
       "    </tr>\n",
       "    <tr>\n",
       "      <th>Kautz Cleaver</th>\n",
       "      <td>0.113636</td>\n",
       "    </tr>\n",
       "    <tr>\n",
       "      <th>Kautz Glacier</th>\n",
       "      <td>0.275540</td>\n",
       "    </tr>\n",
       "    <tr>\n",
       "      <th>Kautz Headwall</th>\n",
       "      <td>0.000000</td>\n",
       "    </tr>\n",
       "    <tr>\n",
       "      <th>Liberty RIngraham Directge</th>\n",
       "      <td>0.246942</td>\n",
       "    </tr>\n",
       "    <tr>\n",
       "      <th>Liberty Wall</th>\n",
       "      <td>0.000000</td>\n",
       "    </tr>\n",
       "    <tr>\n",
       "      <th>Little Tahoma</th>\n",
       "      <td>0.254916</td>\n",
       "    </tr>\n",
       "    <tr>\n",
       "      <th>Mowich Face</th>\n",
       "      <td>0.125000</td>\n",
       "    </tr>\n",
       "    <tr>\n",
       "      <th>Nisqually Glacier</th>\n",
       "      <td>0.000000</td>\n",
       "    </tr>\n",
       "    <tr>\n",
       "      <th>Ptarmigan RIngraham Directge</th>\n",
       "      <td>0.297689</td>\n",
       "    </tr>\n",
       "    <tr>\n",
       "      <th>Success Cleaver</th>\n",
       "      <td>0.250000</td>\n",
       "    </tr>\n",
       "    <tr>\n",
       "      <th>Sunset Amphitheater</th>\n",
       "      <td>0.000000</td>\n",
       "    </tr>\n",
       "    <tr>\n",
       "      <th>Sunset RIngraham Directge</th>\n",
       "      <td>0.000000</td>\n",
       "    </tr>\n",
       "    <tr>\n",
       "      <th>Tahoma Cleaver</th>\n",
       "      <td>0.500000</td>\n",
       "    </tr>\n",
       "    <tr>\n",
       "      <th>Tahoma Glacier</th>\n",
       "      <td>0.223333</td>\n",
       "    </tr>\n",
       "    <tr>\n",
       "      <th>Unknown</th>\n",
       "      <td>0.159722</td>\n",
       "    </tr>\n",
       "    <tr>\n",
       "      <th>Wilson Headwall</th>\n",
       "      <td>0.000000</td>\n",
       "    </tr>\n",
       "    <tr>\n",
       "      <th>glacier only - no summit attempt</th>\n",
       "      <td>0.032609</td>\n",
       "    </tr>\n",
       "  </tbody>\n",
       "</table>\n",
       "</div>"
      ],
      "text/plain": [
       "                                  SuccessRate\n",
       "Route                                        \n",
       "Curtis RIngraham Directge            0.250000\n",
       "Disappointment Cleaver               0.278210\n",
       "Edmonds HW                           0.000000\n",
       "Emmons-Winthrop                      0.251428\n",
       "Fuhrer Finger                        0.142679\n",
       "Gibralter Chute                      0.100000\n",
       "Gibralter Ledges                     0.143961\n",
       "Ingraham Direct                      0.048810\n",
       "Kautz Cleaver                        0.113636\n",
       "Kautz Glacier                        0.275540\n",
       "Kautz Headwall                       0.000000\n",
       "Liberty RIngraham Directge           0.246942\n",
       "Liberty Wall                         0.000000\n",
       "Little Tahoma                        0.254916\n",
       "Mowich Face                          0.125000\n",
       "Nisqually Glacier                    0.000000\n",
       "Ptarmigan RIngraham Directge         0.297689\n",
       "Success Cleaver                      0.250000\n",
       "Sunset Amphitheater                  0.000000\n",
       "Sunset RIngraham Directge            0.000000\n",
       "Tahoma Cleaver                       0.500000\n",
       "Tahoma Glacier                       0.223333\n",
       "Unknown                              0.159722\n",
       "Wilson Headwall                      0.000000\n",
       "glacier only - no summit attempt     0.032609"
      ]
     },
     "execution_count": 39,
     "metadata": {},
     "output_type": "execute_result"
    }
   ],
   "source": [
    "climb_data_agg.groupby(['Route']).mean()[['SuccessRate']].sort_values('Route', ascending = True)"
   ]
  },
  {
   "cell_type": "code",
   "execution_count": null,
   "id": "controversial-infection",
   "metadata": {},
   "outputs": [],
   "source": []
  }
 ],
 "metadata": {
  "kernelspec": {
   "display_name": "Python 3",
   "language": "python",
   "name": "python3"
  },
  "language_info": {
   "codemirror_mode": {
    "name": "ipython",
    "version": 3
   },
   "file_extension": ".py",
   "mimetype": "text/x-python",
   "name": "python",
   "nbconvert_exporter": "python",
   "pygments_lexer": "ipython3",
   "version": "3.8.5"
  }
 },
 "nbformat": 4,
 "nbformat_minor": 5
}
